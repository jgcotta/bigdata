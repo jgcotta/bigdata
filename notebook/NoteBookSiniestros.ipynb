{
 "cells": [
  {
   "cell_type": "markdown",
   "id": "19b1456f",
   "metadata": {},
   "source": [
    "## SINIESTROS VIALES EN BOGOTÁ\n",
    "\n",
    "## Introducción:\n",
    "\n",
    "El presente trabajo, tiene como finalidad, explorar el contexto del conjunto de datos seleccionado, el cual está basado en la recolección de información sobre siniestros viales en Bogotá, los cuales se presentaron el las localidades pertenecientes a la ciudad. Los datos de accidentes se recopilaron desde enero de 2015 hasta diciembre de 2019. Actualmente el dataset contempla 173.400 registros con 21 variables.\n",
    "\n",
    "\n",
    "Dataset de Datos Abiertos Bogotá : Accidentes Viales Bogotá\n",
    "\n",
    "\n",
    "## Enmarcar la preocupación:\n",
    "\n",
    "* ¿Cuales son las circunstancias y factores que influyen en la ocurrencia de accidentes de tránsito?\n",
    "* Índice de mortalidad a causa de accidentes automovilísticos.\n",
    "* Factores de riesgo para aseguramiento de vehículos.\n",
    "* Estado de la infraestructura vial (carreteras, señalización, geología)\n",
    "* Influencia de las normas de tránsito (seguridad asociada al vehículo, normas de tránsito)\n",
    "* Pericia en conducción de vehículos (¿El conductor está capacitado para conducir un vehículo?) \n",
    "\n",
    "\n",
    "## Identificación de interesados\n",
    "\n",
    "\n",
    "-\tCiudadanos (Peatones, Conductores, Acompañantes)\n",
    "-\tAutoridades de tránsito\n",
    "-            Gobernantes\n",
    "-\tEmpresas Aseguradoras\n",
    "\n",
    "\n",
    "\n",
    "\n",
    "\n",
    "## Problema, Necesidad, Oportunidad, Deseo, Objetivo: Pregunta inicial\n",
    "\n",
    "* **Problema**\n",
    "\n",
    "¿ Cual es el grado de afectación asociado a los siniestros viales, así como los factores que contribuyen a que se presente, identificando el impacto en la movilidad de la población?.\n",
    "\n",
    "* **Necesidad**\n",
    "\n",
    "¿Cómo se puede mitigar la ocurrencia de accidentes de tránsito en la ciudad con respecto a los factores que contribuyen a su generación?\n",
    "\n",
    "* **Oportunidad**\n",
    "\n",
    "Partir de la información existente en la plataforma de datos abierto para poder realizar un análisis de información que permita profundizar en la necesidad de tomar determinadas decisiones con respecto a los factores que influyen en la ocurrencia de los siniestros viales.\n",
    "\n",
    "* **Deseo**\n",
    "\n",
    "Mediante la utilización de los datos de la alcaldía se quiere identificar los factores preponderantes que influyen en la generación de accidentes de tránsito, que permita realizar planes de acción preventivos para la mitigación del riesgo en torno a los siniestros viales de la ciudad y bajar la tasa de ocurrencia.\n",
    "\n",
    "## Objetivo\n",
    "\n",
    "* Identificar cuales son los factores principales  que incrementan el riesgo de siniestros viales en la ciudad.\n",
    "\n",
    "## Análisis de porqué, qué y para que\n",
    "\n",
    "El objetivo del estudio permitirá establecer bajo qué condiciones y variables ocurren los accidentes de tránsito, identificar de qué manera se pueden mitigar y el impacto que tendría en la conservación de la vida de las personas.\n",
    "\n",
    "\n",
    "## Objetivos de análisis:\n",
    "\n",
    "**Obtener gráficas e indicadores  que permitan  la toma de decisiones, de acuerdo al análisis de la información de los accidentes, para contribuir a la reducción del problema.**\n",
    "* Identificar las vías con mayor riesgo de accidentabilidad.(Mejorar infraestructura)\n",
    "* Establecer las condiciones de riesgo para la toma de pólizas.\n",
    "* Generar normas de tránsito que contribuyan a la mitigación del problema.\n",
    "\n",
    "**Análisis de Tareas y las decisiones que se toman en el proceso**\n",
    "\n",
    "* Establecer los factores de riesgo vial que contribuyen a la generación de accidentes de tránsito.\n",
    "* Identificación de variables preponderantes en la ocurrencia de siniestros viales.\n",
    "* Establecer relación de variables que influyen en el incremento de accidentes de tránsito.\n",
    "* Normas que se deben modificar o adicionar a la reglamentación de tránsito.\n",
    "* Mejoras en la infraestructura vial.\n",
    "* Cobertura de amparos a nivel de pólizas de seguros de vehículos.\n",
    "\n",
    "Preguntas iniciales de análisis que pueden apoyar el objetivo y las decisiones: Descriptivas, Diagnósticas, Predictivas. \n",
    "\n",
    "**1.6.1. Descriptivas:**\n",
    "\n",
    "* ¿Por qué se generan los accidentes de tránsito?\n",
    "* ¿Qué factores son determinantes para que ocurra un siniestro vial?\n",
    "* ¿Qué tan conveniente es o no asegurar un vehículo?\n",
    "* ¿Cual es la localidad en donde más se presentan siniestros?\n",
    "* ¿Cual es la condición de los ciudadanos involucrados en accidentes de tránsito?\n",
    "* ¿Qué tan probable es que ocurra un siniestro vial bajo determinadas condiciones?\n",
    "* ¿Cuáles medidas se deberían reglamentar en la normatividad de tránsito para reducir los índices de accidentes?\n",
    "* ¿Cual es la franja en donde se presentan los siniestros?\n",
    "\n",
    "**1.6.2. Diagnósticas:**\n",
    "\n",
    "* ¿Cómo disminuir la ocurrencia de siniestros viales en la ciudad para reducir los índices de accidentalidad?\n",
    "* ¿Cómo incrementar la seguridad vial para proteger a los ciudadanos?\n",
    "* ¿Cómo formular normas para mitigar la cantidad de siniestros?\n",
    "* ¿Tiene alguna relación el género y la edad en la ocurrencia de siniestros?\n",
    "* ¿Tiene alguna relación la clase y servicio del vehículo en la ocurrencia de siniestros?\n",
    "\n",
    "**1.6.3. Predictivas:**\n",
    "\n",
    "* ¿Los factores identificados influyen en la disminución de siniestros viales?\n",
    "* ¿El análisis realizado permitirá identificar los riesgos a los que están expuestos los ciudadanos con respecto a siniestros viales?\n",
    "* ¿Debe restringirse la circulación de alguna clase de vehículo en determinada franja de horario de circulación?\n",
    "\n",
    "\n",
    "## Curar los datos\n",
    "\n",
    "* Identificar Variables y su Metadata\n",
    "\n",
    "\n",
    "Adicionalmente, el conjunto de datos encontrado, contempla los siguientes atributos:"
   ]
  },
  {
   "cell_type": "markdown",
   "id": "f4b63b55",
   "metadata": {},
   "source": [
    "# Importar Librerias"
   ]
  },
  {
   "cell_type": "code",
   "execution_count": 1,
   "id": "ea3aee40",
   "metadata": {
    "scrolled": false
   },
   "outputs": [],
   "source": [
    "import pandas as pd # procesar datos, archivo CSV I/O (e.g. pd.read_csv)\n",
    "import numpy as np  # linear algebra\n",
    "import statistics \n",
    "import math\n",
    "import matplotlib.pyplot as plt \n",
    "import seaborn as sns; sns.set_theme()\n",
    "import scipy.stats as stats\n",
    "\n",
    "from pandas_profiling import ProfileReport\n",
    "from pandas_profiling.utils.cache import cache_file\n",
    "#from darts import TimeSeries\n",
    "%matplotlib inline"
   ]
  },
  {
   "cell_type": "code",
   "execution_count": null,
   "id": "55caacfe",
   "metadata": {},
   "outputs": [
    {
     "data": {
      "text/html": [
       "<div>\n",
       "<style scoped>\n",
       "    .dataframe tbody tr th:only-of-type {\n",
       "        vertical-align: middle;\n",
       "    }\n",
       "\n",
       "    .dataframe tbody tr th {\n",
       "        vertical-align: top;\n",
       "    }\n",
       "\n",
       "    .dataframe thead th {\n",
       "        text-align: right;\n",
       "    }\n",
       "</style>\n",
       "<table border=\"1\" class=\"dataframe\">\n",
       "  <thead>\n",
       "    <tr style=\"text-align: right;\">\n",
       "      <th></th>\n",
       "      <th>age</th>\n",
       "      <th>sex</th>\n",
       "      <th>bmi</th>\n",
       "      <th>children</th>\n",
       "      <th>smoker</th>\n",
       "      <th>region</th>\n",
       "      <th>charges</th>\n",
       "    </tr>\n",
       "  </thead>\n",
       "  <tbody>\n",
       "    <tr>\n",
       "      <th>0</th>\n",
       "      <td>19</td>\n",
       "      <td>female</td>\n",
       "      <td>27.900</td>\n",
       "      <td>0</td>\n",
       "      <td>yes</td>\n",
       "      <td>southwest</td>\n",
       "      <td>16884.92400</td>\n",
       "    </tr>\n",
       "    <tr>\n",
       "      <th>1</th>\n",
       "      <td>18</td>\n",
       "      <td>male</td>\n",
       "      <td>33.770</td>\n",
       "      <td>1</td>\n",
       "      <td>no</td>\n",
       "      <td>southeast</td>\n",
       "      <td>1725.55230</td>\n",
       "    </tr>\n",
       "    <tr>\n",
       "      <th>2</th>\n",
       "      <td>28</td>\n",
       "      <td>male</td>\n",
       "      <td>33.000</td>\n",
       "      <td>3</td>\n",
       "      <td>no</td>\n",
       "      <td>southeast</td>\n",
       "      <td>4449.46200</td>\n",
       "    </tr>\n",
       "    <tr>\n",
       "      <th>3</th>\n",
       "      <td>33</td>\n",
       "      <td>male</td>\n",
       "      <td>22.705</td>\n",
       "      <td>0</td>\n",
       "      <td>no</td>\n",
       "      <td>northwest</td>\n",
       "      <td>21984.47061</td>\n",
       "    </tr>\n",
       "    <tr>\n",
       "      <th>4</th>\n",
       "      <td>32</td>\n",
       "      <td>male</td>\n",
       "      <td>28.880</td>\n",
       "      <td>0</td>\n",
       "      <td>no</td>\n",
       "      <td>northwest</td>\n",
       "      <td>3866.85520</td>\n",
       "    </tr>\n",
       "  </tbody>\n",
       "</table>\n",
       "</div>"
      ],
      "text/plain": [
       "   age     sex     bmi  children smoker     region      charges\n",
       "0   19  female  27.900         0    yes  southwest  16884.92400\n",
       "1   18    male  33.770         1     no  southeast   1725.55230\n",
       "2   28    male  33.000         3     no  southeast   4449.46200\n",
       "3   33    male  22.705         0     no  northwest  21984.47061\n",
       "4   32    male  28.880         0     no  northwest   3866.85520"
      ]
     },
     "metadata": {},
     "output_type": "display_data"
    },
    {
     "data": {
      "application/vnd.jupyter.widget-view+json": {
       "model_id": "107e1d7829b044bcbc93ad082753803e",
       "version_major": 2,
       "version_minor": 0
      },
      "text/plain": [
       "IntProgress(value=0, description='Processing: ', max=3)"
      ]
     },
     "metadata": {},
     "output_type": "display_data"
    },
    {
     "data": {
      "text/html": [
       "<div>\n",
       "<style scoped>\n",
       "    .dataframe tbody tr th:only-of-type {\n",
       "        vertical-align: middle;\n",
       "    }\n",
       "\n",
       "    .dataframe tbody tr th {\n",
       "        vertical-align: top;\n",
       "    }\n",
       "\n",
       "    .dataframe thead th {\n",
       "        text-align: right;\n",
       "    }\n",
       "</style>\n",
       "<table border=\"1\" class=\"dataframe\">\n",
       "  <thead>\n",
       "    <tr style=\"text-align: right;\">\n",
       "      <th></th>\n",
       "      <th></th>\n",
       "      <th></th>\n",
       "    </tr>\n",
       "    <tr>\n",
       "      <th></th>\n",
       "      <th></th>\n",
       "      <th></th>\n",
       "    </tr>\n",
       "  </thead>\n",
       "  <tbody>\n",
       "    <tr>\n",
       "      <th>Initiated</th>\n",
       "      <td>. . . . . . . . . . . . . . . . . .</td>\n",
       "      <td>17:21:10</td>\n",
       "    </tr>\n",
       "    <tr>\n",
       "      <th>Status</th>\n",
       "      <td>. . . . . . . . . . . . . . . . . .</td>\n",
       "      <td>Preprocessing Data</td>\n",
       "    </tr>\n",
       "  </tbody>\n",
       "</table>\n",
       "</div>"
      ],
      "text/plain": [
       "                                                                  \n",
       "                                                                  \n",
       "Initiated  . . . . . . . . . . . . . . . . . .            17:21:10\n",
       "Status     . . . . . . . . . . . . . . . . . .  Preprocessing Data"
      ]
     },
     "metadata": {},
     "output_type": "display_data"
    },
    {
     "data": {
      "application/vnd.jupyter.widget-view+json": {
       "model_id": "2b584ac5ce8b41399d42f45353b0d609",
       "version_major": 2,
       "version_minor": 0
      },
      "text/plain": [
       "Text(value=\"Following data types have been inferred automatically, if they are correct press enter to continue…"
      ]
     },
     "metadata": {},
     "output_type": "display_data"
    },
    {
     "data": {
      "text/html": [
       "<div>\n",
       "<style scoped>\n",
       "    .dataframe tbody tr th:only-of-type {\n",
       "        vertical-align: middle;\n",
       "    }\n",
       "\n",
       "    .dataframe tbody tr th {\n",
       "        vertical-align: top;\n",
       "    }\n",
       "\n",
       "    .dataframe thead th {\n",
       "        text-align: right;\n",
       "    }\n",
       "</style>\n",
       "<table border=\"1\" class=\"dataframe\">\n",
       "  <thead>\n",
       "    <tr style=\"text-align: right;\">\n",
       "      <th></th>\n",
       "      <th>Data Type</th>\n",
       "    </tr>\n",
       "  </thead>\n",
       "  <tbody>\n",
       "    <tr>\n",
       "      <th>age</th>\n",
       "      <td>Numeric</td>\n",
       "    </tr>\n",
       "    <tr>\n",
       "      <th>sex</th>\n",
       "      <td>Categorical</td>\n",
       "    </tr>\n",
       "    <tr>\n",
       "      <th>bmi</th>\n",
       "      <td>Numeric</td>\n",
       "    </tr>\n",
       "    <tr>\n",
       "      <th>children</th>\n",
       "      <td>Categorical</td>\n",
       "    </tr>\n",
       "    <tr>\n",
       "      <th>smoker</th>\n",
       "      <td>Categorical</td>\n",
       "    </tr>\n",
       "    <tr>\n",
       "      <th>region</th>\n",
       "      <td>Categorical</td>\n",
       "    </tr>\n",
       "    <tr>\n",
       "      <th>charges</th>\n",
       "      <td>Label</td>\n",
       "    </tr>\n",
       "  </tbody>\n",
       "</table>\n",
       "</div>"
      ],
      "text/plain": [
       "            Data Type\n",
       "age           Numeric\n",
       "sex       Categorical\n",
       "bmi           Numeric\n",
       "children  Categorical\n",
       "smoker    Categorical\n",
       "region    Categorical\n",
       "charges         Label"
      ]
     },
     "metadata": {},
     "output_type": "display_data"
    }
   ],
   "source": [
    "from pycaret.datasets import get_data\n",
    "data = get_data('insurance')\n",
    "from pycaret.regression import *\n",
    "reg1 = setup(data, target = 'charges', session_id=123, log_experiment=True, experiment_name='insurance1')"
   ]
  },
  {
   "cell_type": "markdown",
   "id": "b869f9ce",
   "metadata": {},
   "source": [
    "# Limpieza y cargar de datos\n",
    "\n",
    "Carga de archivo usando Pandas"
   ]
  },
  {
   "cell_type": "code",
   "execution_count": null,
   "id": "0bfb36ae",
   "metadata": {},
   "outputs": [],
   "source": [
    "file_name = cache_file(\n",
    "    \"datasetSiniestro2.csv\",\n",
    "    \"https://raw.githubusercontent.com/jgcotta/bigdata/master/datasetSiniestro.csv\",\n",
    ")\n",
    "\n",
    "#If we need date\n",
    "df = pd.read_csv(file_name, sep=';',parse_dates=[9])\n",
    "\n",
    "df.dtypes\n",
    "df.head(5)"
   ]
  },
  {
   "cell_type": "code",
   "execution_count": null,
   "id": "cb4f5300",
   "metadata": {},
   "outputs": [],
   "source": [
    "df.info()"
   ]
  },
  {
   "cell_type": "code",
   "execution_count": null,
   "id": "9739d576",
   "metadata": {
    "scrolled": false
   },
   "outputs": [],
   "source": [
    "df.describe()"
   ]
  },
  {
   "cell_type": "markdown",
   "id": "584bb632",
   "metadata": {},
   "source": [
    "Convertir variables numéricas a Categoricas"
   ]
  },
  {
   "cell_type": "code",
   "execution_count": null,
   "id": "fff91499",
   "metadata": {},
   "outputs": [],
   "source": [
    "#df[['EDAD', 'LOCALIDAD', 'TOTAL_MUERTOS', 'TOTAL_HERIDOS']].apply(lambda x: x.astype('category'))\n",
    "\n",
    "#cols = ['EDAD', 'HORA_NUM', 'TOTAL_MUERTOS', 'TOTAL_HERIDOS']\n",
    "\n",
    "#df['EDAD'] = df['EDAD'].astype('category')\n",
    "#df['LOCALIDAD'] = df['LOCALIDAD'].astype('category')\n",
    "\n",
    "\n",
    "df.info();"
   ]
  },
  {
   "cell_type": "markdown",
   "id": "0ce1196a",
   "metadata": {},
   "source": [
    "# Correlación Lineal (Variables Numéricas)"
   ]
  },
  {
   "cell_type": "code",
   "execution_count": null,
   "id": "a5622e45",
   "metadata": {
    "scrolled": true
   },
   "outputs": [],
   "source": [
    "df.corr();"
   ]
  },
  {
   "cell_type": "code",
   "execution_count": null,
   "id": "72857762",
   "metadata": {},
   "outputs": [],
   "source": [
    "sns.heatmap(df.corr(),data=df,annot=True)"
   ]
  },
  {
   "cell_type": "code",
   "execution_count": null,
   "id": "d0ef34d7",
   "metadata": {},
   "outputs": [],
   "source": [
    "d=df.loc[:, ['EDAD', 'TOTAL_HERIDOS', 'SEXO', 'TOTAL_MUERTOS']]"
   ]
  },
  {
   "cell_type": "code",
   "execution_count": null,
   "id": "53b512ba",
   "metadata": {
    "scrolled": false
   },
   "outputs": [],
   "source": [
    "dx = d.corr(method ='pearson')\n",
    "dx"
   ]
  },
  {
   "cell_type": "code",
   "execution_count": null,
   "id": "1e984fe1",
   "metadata": {
    "scrolled": true
   },
   "outputs": [],
   "source": [
    "fig, ax = plt.subplots(figsize = ( 5 , 3 ))\n",
    "\n",
    "sns.scatterplot(ax = ax, x=\"EDAD\", y=\"TOTAL_HERIDOS\", data=df);\n",
    "# Set label for x-axis\n",
    "ax.set_xlabel( \"Edad\" , size = 12 )\n",
    "  \n",
    "# Set label for y-axis\n",
    "ax.set_ylabel( \"Total Heridos\" , size = 12 )\n",
    "  \n",
    "# Set title for plot\n",
    "ax.set_title( \"CORRELACIÓN EDAD - TOTAL HERIDOS\" , size = 20 )\n",
    "plt.show()"
   ]
  },
  {
   "cell_type": "markdown",
   "id": "5256df4e",
   "metadata": {},
   "source": [
    "Quitar duplicados."
   ]
  },
  {
   "cell_type": "code",
   "execution_count": null,
   "id": "8b8af313",
   "metadata": {},
   "outputs": [],
   "source": [
    "drop_duplicates=df.drop_duplicates(subset=['CODIGO_SINIESTRO'])"
   ]
  },
  {
   "cell_type": "markdown",
   "id": "380129bb",
   "metadata": {},
   "source": [
    "# Análisis exploratorio variables categóricas"
   ]
  },
  {
   "cell_type": "markdown",
   "id": "f4ca86d1",
   "metadata": {},
   "source": [
    "Histograma de Edad de implicados en accidentes"
   ]
  },
  {
   "cell_type": "code",
   "execution_count": null,
   "id": "34b8875e",
   "metadata": {
    "scrolled": true
   },
   "outputs": [],
   "source": [
    "drop_duplicates.hist(column='EDAD',    # Column to plot\n",
    "                   figsize=(9,6),   # Plot size\n",
    "                   bins=20) "
   ]
  },
  {
   "cell_type": "markdown",
   "id": "c55a398f",
   "metadata": {},
   "source": [
    "Agrupación de la población por actor víal"
   ]
  },
  {
   "cell_type": "code",
   "execution_count": null,
   "id": "cbd86f2a",
   "metadata": {},
   "outputs": [],
   "source": [
    "tf2 = pd.crosstab(index=drop_duplicates[\"ACTOR_VIAL\"],columns=\"Cantidad\") \n",
    "tf2"
   ]
  },
  {
   "cell_type": "markdown",
   "id": "6cf7e8f7",
   "metadata": {},
   "source": [
    "Se obtiene la proporción del tipo de personas involucradas."
   ]
  },
  {
   "cell_type": "code",
   "execution_count": null,
   "id": "4539b065",
   "metadata": {},
   "outputs": [],
   "source": [
    "drop_duplicates.ACTOR_VIAL.value_counts().plot(kind='pie', ylabel = \"\", title=\"ACTOR VIAL\")"
   ]
  },
  {
   "cell_type": "code",
   "execution_count": null,
   "id": "b8c2fc8e",
   "metadata": {},
   "outputs": [],
   "source": [
    "tf2/tf2.sum()"
   ]
  },
  {
   "cell_type": "code",
   "execution_count": null,
   "id": "ef16a64e",
   "metadata": {},
   "outputs": [],
   "source": [
    "dsexo = (drop_duplicates.groupby(\"SEXO\").agg(Frecuencia=(\"SEXO\", \"count\")).head())\n",
    "dsexo"
   ]
  },
  {
   "cell_type": "code",
   "execution_count": null,
   "id": "8d71d465",
   "metadata": {},
   "outputs": [],
   "source": [
    "drop_duplicates.SEXO.value_counts().plot(kind='pie', ylabel = \"\", title=\"SEXO\")"
   ]
  },
  {
   "cell_type": "markdown",
   "id": "e606a0b6",
   "metadata": {},
   "source": [
    "# PREGUNTAS DESCRIPTIVAS\n",
    "\n",
    "1. ¿Cual es el día de la semana con mayor número de accidentes del periodo entre 2015 al 2019?\n",
    "\n",
    "La día con más accidentados es el \"VIERNES\""
   ]
  },
  {
   "cell_type": "code",
   "execution_count": null,
   "id": "7e4f88fe",
   "metadata": {
    "scrolled": true
   },
   "outputs": [],
   "source": [
    "tf3 = pd.crosstab(index=drop_duplicates[\"DIA\"], \n",
    "                     columns=\"Cantidad\") \n",
    "tf3"
   ]
  },
  {
   "cell_type": "code",
   "execution_count": null,
   "id": "e672d613",
   "metadata": {},
   "outputs": [],
   "source": [
    "df.DIA.value_counts().plot(kind='pie', ylabel = \"\", title=\"DIA\")"
   ]
  },
  {
   "cell_type": "code",
   "execution_count": null,
   "id": "fecd233c",
   "metadata": {},
   "outputs": [],
   "source": [
    "#tf3.plot.line(stacked=True)\n",
    "\n",
    "line,ax = plt.subplots(figsize=(10,4))\n",
    "# Set title for plot\n",
    "ax.set_title(\"Accidentes Por Día\", fontsize=20)\n",
    "# Set label for y-axis\n",
    "ax.set_xlabel( \"Día\" , size = 12 )\n",
    "sns.lineplot(x = \"DIA\", y = \"Cantidad\", data = tf3)\n",
    "plt.show()\n"
   ]
  },
  {
   "cell_type": "markdown",
   "id": "4c459d53",
   "metadata": {},
   "source": [
    "2. ¿Cual es la localidad con mayor número de accidentes del periodo entre 2015 al 2019?\n",
    "\n",
    "La tendencia indica que la localidad con mayor número de accidentes para el periodo es \"KENNEDY\""
   ]
  },
  {
   "cell_type": "code",
   "execution_count": null,
   "id": "6c4f2b6d",
   "metadata": {},
   "outputs": [],
   "source": [
    "#df.LOCALIDAD\n",
    "localidades = drop_duplicates.LOCALIDAD.unique()\n",
    "len(localidades)"
   ]
  },
  {
   "cell_type": "code",
   "execution_count": null,
   "id": "f7628133",
   "metadata": {
    "scrolled": false
   },
   "outputs": [],
   "source": [
    "localidades_por_accidente= drop_duplicates.LOCALIDAD.value_counts()\n",
    "localidades_por_accidente"
   ]
  },
  {
   "cell_type": "code",
   "execution_count": null,
   "id": "30658080",
   "metadata": {
    "scrolled": false
   },
   "outputs": [],
   "source": [
    "localidades_por_accidente.plot(kind='barh')"
   ]
  },
  {
   "cell_type": "markdown",
   "id": "ac05f1f7",
   "metadata": {},
   "source": [
    "3. ¿Cual es la hora con mayor indice accidentalidad del periodo entre 2015 al 2019?"
   ]
  },
  {
   "cell_type": "code",
   "execution_count": null,
   "id": "eb4bee32",
   "metadata": {},
   "outputs": [],
   "source": [
    "dhora = pd.crosstab(index=drop_duplicates[\"HORA_NUM\"], \n",
    "                     columns=\"Cantidad\") "
   ]
  },
  {
   "cell_type": "code",
   "execution_count": null,
   "id": "8fae4420",
   "metadata": {
    "scrolled": true
   },
   "outputs": [],
   "source": [
    "maximo = dhora[dhora.Cantidad == dhora.Cantidad.max()]\n",
    "maximo"
   ]
  },
  {
   "cell_type": "code",
   "execution_count": null,
   "id": "72eda8fc",
   "metadata": {
    "scrolled": true
   },
   "outputs": [],
   "source": [
    "line,ax = plt.subplots(figsize=(20,5))\n",
    "# Set title for plot\n",
    "ax.set_title(\"Accidentes Por Hora\", fontsize=20)\n",
    "# Set label for y-axis\n",
    "ax.set_xlabel( \"Hora\" , size = 12 )\n",
    "sns.lineplot(x = \"HORA_NUM\", y = \"Cantidad\", data = dhora)\n",
    "plt.show()"
   ]
  },
  {
   "cell_type": "markdown",
   "id": "6f64ae21",
   "metadata": {},
   "source": [
    "# Series de Tiempo"
   ]
  },
  {
   "cell_type": "markdown",
   "id": "a9b26d91",
   "metadata": {},
   "source": [
    "4. ¿Cúal fue la fecha con mayor indice de accidentalidad del año 2019?"
   ]
  },
  {
   "cell_type": "code",
   "execution_count": null,
   "id": "c4d86f80",
   "metadata": {},
   "outputs": [],
   "source": [
    "start_date = \"2019-1-1\"\n",
    "end_date = \"2019-12-31\"\n",
    "after_start_date = drop_duplicates[\"FECHA\"] >= start_date\n",
    "before_end_date = drop_duplicates[\"FECHA\"] <= end_date\n",
    "between_two_dates = after_start_date & before_end_date\n",
    "filtered_dates = drop_duplicates.loc[between_two_dates]\n",
    "tf4 = pd.crosstab(index=filtered_dates[\"FECHA\"], columns=\"Cantidad\") \n",
    "maximo = tf4[tf4.Cantidad == tf4.Cantidad.max()]\n",
    "maximo"
   ]
  },
  {
   "cell_type": "code",
   "execution_count": null,
   "id": "699930b2",
   "metadata": {
    "scrolled": false
   },
   "outputs": [],
   "source": [
    "line,ax = plt.subplots(figsize=(20,5))\n",
    "ax.set_title(\"Accidentes Por Fecha\", fontsize=20)\n",
    "sns.lineplot(x = \"FECHA\", y = \"Cantidad\", data = tf4)\n",
    "plt.show()"
   ]
  },
  {
   "cell_type": "markdown",
   "id": "8ee5780a",
   "metadata": {},
   "source": [
    "# HIPOTESIS DIAGNÓSTICAS"
   ]
  },
  {
   "cell_type": "markdown",
   "id": "d7fb2fad",
   "metadata": {},
   "source": [
    "**Hipótesis Diagnóstica 1**"
   ]
  },
  {
   "cell_type": "markdown",
   "id": "d2ba7b0f",
   "metadata": {},
   "source": [
    "\\begin{align}\n",
    "       H_{0} : \\; El\\;género\\;NO\\;se\\;relaciona\\;con\\;el\\;tipo\\;de\\;afectación\\;del\\;individuo\\;en\\;un\\;accidente \\\\\n",
    "       H_{A} : \\; El\\;género\\;se\\;relaciona\\;con\\;el\\;tipo\\;de\\;afectación\\;del\\;individuo\\;en\\;un\\;accidente\\\\\n",
    "\\end{align}"
   ]
  },
  {
   "cell_type": "markdown",
   "id": "e41ebf76",
   "metadata": {},
   "source": [
    "Se halla tabla de contingencia"
   ]
  },
  {
   "cell_type": "code",
   "execution_count": null,
   "id": "df33dd0c",
   "metadata": {
    "scrolled": true
   },
   "outputs": [],
   "source": [
    "tabla_contingenciah1=pd.crosstab(df[\"SEXO\"],df[\"ESTADO\"])\n",
    "print('Tabla Contingencia :-\\n',tabla_contingenciah1)"
   ]
  },
  {
   "cell_type": "code",
   "execution_count": null,
   "id": "1a36de21",
   "metadata": {},
   "outputs": [],
   "source": [
    "#Valores Observados\n",
    "valores_observados= tabla_contingenciah1.values \n",
    "print(\"Valores Observados :-\\n\",valores_observados)"
   ]
  },
  {
   "cell_type": "code",
   "execution_count": null,
   "id": "29278245",
   "metadata": {},
   "outputs": [],
   "source": [
    "#Valores esperados\n",
    "import scipy.stats\n",
    "b=scipy.stats.chi2_contingency(valores_observados)\n",
    "valores_esperados = b[3]\n",
    "print(\"Valores esperados :\\n\",valores_esperados)"
   ]
  },
  {
   "cell_type": "code",
   "execution_count": null,
   "id": "5f960cc3",
   "metadata": {},
   "outputs": [],
   "source": [
    "#Grados de Libertad\n",
    "numero_filas=len(tabla_contingenciah1.iloc[0:2,0])\n",
    "numero_columnas=len(tabla_contingenciah1.iloc[0,0:3])\n",
    "gradoslibertad=(numero_filas-1)*(numero_columnas-1)\n",
    "print(\"Grados de Libertad:\",gradoslibertad)"
   ]
  },
  {
   "cell_type": "code",
   "execution_count": null,
   "id": "c73ab0fa",
   "metadata": {},
   "outputs": [],
   "source": [
    "#Nivel Significancia 5%\n",
    "alpha=0.05"
   ]
  },
  {
   "cell_type": "code",
   "execution_count": null,
   "id": "3ec0e606",
   "metadata": {},
   "outputs": [],
   "source": [
    "#chi-square statistic - χ2\n",
    "from scipy.stats import chi2\n",
    "chi_square=sum([(o-e)**2./e for o,e in zip(valores_observados,valores_esperados)])\n",
    "chi_square_statistic=chi_square[0]+chi_square[1]\n",
    "print(\"chi-square statistic:\",chi_square_statistic)"
   ]
  },
  {
   "cell_type": "code",
   "execution_count": null,
   "id": "ec2638fe",
   "metadata": {},
   "outputs": [],
   "source": [
    "#valor critico\n",
    "critical_value=chi2.ppf(q=1-alpha,df=gradoslibertad)\n",
    "print('critical_value:',critical_value)"
   ]
  },
  {
   "cell_type": "code",
   "execution_count": null,
   "id": "d809cf03",
   "metadata": {},
   "outputs": [],
   "source": [
    "#p-valor\n",
    "p_value=1-chi2.cdf(x=chi_square_statistic,df=gradoslibertad)\n",
    "print('p-value:',p_value)"
   ]
  },
  {
   "cell_type": "code",
   "execution_count": null,
   "id": "ca9ed870",
   "metadata": {},
   "outputs": [],
   "source": [
    "#Resumen de valores obtenidos\n",
    "print('Nivel Significancia: ',alpha)\n",
    "print('Grados de Libertad: ',gradoslibertad)\n",
    "print('Estadístico Chi Cuadrado:',chi_square_statistic)\n",
    "print('Valor Crítico:',critical_value)\n",
    "print('p-valor:',p_value)"
   ]
  },
  {
   "cell_type": "code",
   "execution_count": null,
   "id": "32866fc4",
   "metadata": {},
   "outputs": [],
   "source": [
    "#Conclusión\n",
    "if chi_square_statistic>=critical_value:\n",
    "    print(\"Se rechaza la hipótesis nula H0, por tanto existe relación entre el género y la gravedad del sujeto en el accidente\")\n",
    "else:\n",
    "    print(\"Se acepta la hipótesis nula H0, por tanto no existe relación entre el género y la gravedad del sujeto en el accidente\")\n",
    "#También se puede comparar el p-valor con el valor de significancia"
   ]
  },
  {
   "cell_type": "markdown",
   "id": "4e3348b8",
   "metadata": {},
   "source": [
    "**Hipótesis Diagnóstica 2**"
   ]
  },
  {
   "cell_type": "markdown",
   "id": "a41b5f2f",
   "metadata": {},
   "source": [
    " \\begin{align*}\n",
    "       H_{0} : \\; El\\;tipo\\;de\\;vehículo\\;\\textbf{NO}\\;influye\\;en\\;la\\;gravedad\\;del\\;accidente \\\\\n",
    "       H_{A} : \\; El\\;tipo\\;de\\;vehículo\\;\\textbf{SÍ}\\;influye\\;en\\;la\\;gravedad\\;del\\;accidente\\\\\n",
    "    \\end{align*}"
   ]
  },
  {
   "cell_type": "code",
   "execution_count": null,
   "id": "f84f55ef",
   "metadata": {},
   "outputs": [],
   "source": [
    "tabla_contingenciah2=pd.crosstab(drop_duplicates.TIPO_AUTOMOVIL, drop_duplicates.TIPO_ACCIDENTE, margins=True)\n",
    "tabla_contingenciah2"
   ]
  },
  {
   "cell_type": "code",
   "execution_count": null,
   "id": "d31ed3a9",
   "metadata": {},
   "outputs": [],
   "source": [
    "stats.chi2_contingency(observed = tabla_contingenciah2)"
   ]
  },
  {
   "cell_type": "code",
   "execution_count": null,
   "id": "ce7f05d3",
   "metadata": {},
   "outputs": [],
   "source": [
    "#Valores Retornados:\n",
    "print('Grados de Libertad: ',98)\n",
    "print('Estadístico Chi Cuadrado:',42494.11133322942)\n",
    "print('p-valor:',0.0)\n"
   ]
  },
  {
   "cell_type": "markdown",
   "id": "6c4c52fd",
   "metadata": {},
   "source": [
    "Basado en el p-valor que es cercano a 0, se puede concluir que se rechaza la hipotesis nula, por lo tanto existe relación entre el tipo de vehículo y la gravedad del accidente."
   ]
  },
  {
   "cell_type": "markdown",
   "id": "e23451bc",
   "metadata": {},
   "source": [
    "# TABLA DE FRECUENCIA"
   ]
  },
  {
   "cell_type": "code",
   "execution_count": null,
   "id": "39af8651",
   "metadata": {},
   "outputs": [],
   "source": [
    "#Formart to percentage\n",
    "format_dict = {'CONDUCTOR': '{:.2%}','PASAJERO': '{:.2%}','CICLISTA': '{:.2%}','MOTOCICLISTA': '{:.2%}','FILA_TOTAL': '{:.2%}'}\n",
    "genero_actor = pd.crosstab(index=df[\"SEXO\"], \n",
    "                           columns=df[\"ACTOR_VIAL\"],margins=True)\n",
    "genero_actor.columns = [\"CONDUCTOR\",\"PASAJERO\",\"CICLISTA\",\"MOTOCICLISTA\",\"FILA_TOTAL\"]\n",
    "genero_actor.index= [\"MASCULINO\",\"FEMENINO\",\"COL_TOTAL\"]\n",
    "genero_actor"
   ]
  },
  {
   "cell_type": "markdown",
   "id": "b72396a5",
   "metadata": {},
   "source": [
    "Tabla de frecuencias Relativas: Relación entre Actor_vial y genéro implicado en sinisetro (En porcentaje), El 77.40% de los implicados en accidentes, son mujeres pasajeros de algún servicio público."
   ]
  },
  {
   "cell_type": "code",
   "execution_count": null,
   "id": "1a2df517",
   "metadata": {},
   "outputs": [],
   "source": [
    "tabla_relativa=genero_actor/genero_actor.loc[\"COL_TOTAL\",\"FILA_TOTAL\"]\n",
    "tabla_relativa.style.format(format_dict)"
   ]
  },
  {
   "cell_type": "markdown",
   "id": "696828f5",
   "metadata": {},
   "source": [
    "Frecuencias Condicionadas(Proporciones) por columnas(Cada valor/total de la condicion de la columna). Ejemplo: Entre el año 2015 al 2019 de los conductores de automóviles implicados en accidentes, el 82.64% son mujeres. "
   ]
  },
  {
   "cell_type": "code",
   "execution_count": null,
   "id": "b5d65630",
   "metadata": {
    "scrolled": true
   },
   "outputs": [],
   "source": [
    "condicionada1=genero_actor/genero_actor.loc[\"COL_TOTAL\"]\n",
    "condicionada1[[\"CONDUCTOR\",\"PASAJERO\",\"CICLISTA\",\"MOTOCICLISTA\"]].style.format(format_dict)"
   ]
  },
  {
   "cell_type": "markdown",
   "id": "da3e2bd8",
   "metadata": {},
   "source": [
    "Frecuencias Condicionadas(Proporciones) por Filas(Cada valor/total de la condicion de la fila). Ejemplo: Del 2015 al 2019 de los siniestros de tránsito en Bogotá, de la población masculina el 32.49% de los accidentados fueron motociclistas."
   ]
  },
  {
   "cell_type": "code",
   "execution_count": null,
   "id": "9009d708",
   "metadata": {
    "scrolled": true
   },
   "outputs": [],
   "source": [
    "condicionada2=genero_actor.div(genero_actor[\"FILA_TOTAL\"],\n",
    "                   axis=0)\n",
    "condicionada2.loc[[\"MASCULINO\",\"FEMENINO\"]].style.format(format_dict)"
   ]
  }
 ],
 "metadata": {
  "kernelspec": {
   "display_name": "Python 3",
   "language": "python",
   "name": "python3"
  },
  "language_info": {
   "codemirror_mode": {
    "name": "ipython",
    "version": 3
   },
   "file_extension": ".py",
   "mimetype": "text/x-python",
   "name": "python",
   "nbconvert_exporter": "python",
   "pygments_lexer": "ipython3",
   "version": "3.8.5"
  }
 },
 "nbformat": 4,
 "nbformat_minor": 5
}
