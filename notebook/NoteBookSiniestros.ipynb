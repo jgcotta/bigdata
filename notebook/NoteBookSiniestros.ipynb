{
 "cells": [
  {
   "cell_type": "markdown",
   "id": "f4b63b55",
   "metadata": {},
   "source": [
    "# Importar Librerias"
   ]
  },
  {
   "cell_type": "code",
   "execution_count": 1,
   "id": "ea3aee40",
   "metadata": {
    "scrolled": true
   },
   "outputs": [],
   "source": [
    "import pandas as pd # procesar datos, archivo CSV I/O (e.g. pd.read_csv)\n",
    "import numpy as np  # linear algebra\n",
    "import statistics \n",
    "import math\n",
    "import matplotlib.pyplot as plt \n",
    "import seaborn as sns; sns.set_theme()\n",
    "\n",
    "from pandas_profiling import ProfileReport\n",
    "from pandas_profiling.utils.cache import cache_file\n",
    "#from darts import TimeSeries\n",
    "%matplotlib inline"
   ]
  },
  {
   "cell_type": "markdown",
   "id": "b869f9ce",
   "metadata": {},
   "source": [
    "# Limpieza y cargar de datos\n",
    "\n",
    "Carga de archivo usando Pandas"
   ]
  },
  {
   "cell_type": "code",
   "execution_count": 2,
   "id": "0bfb36ae",
   "metadata": {},
   "outputs": [
    {
     "data": {
      "text/html": [
       "<div>\n",
       "<style scoped>\n",
       "    .dataframe tbody tr th:only-of-type {\n",
       "        vertical-align: middle;\n",
       "    }\n",
       "\n",
       "    .dataframe tbody tr th {\n",
       "        vertical-align: top;\n",
       "    }\n",
       "\n",
       "    .dataframe thead th {\n",
       "        text-align: right;\n",
       "    }\n",
       "</style>\n",
       "<table border=\"1\" class=\"dataframe\">\n",
       "  <thead>\n",
       "    <tr style=\"text-align: right;\">\n",
       "      <th></th>\n",
       "      <th>CODIGO_SINIESTRO</th>\n",
       "      <th>DIA</th>\n",
       "      <th>ACTOR_VIAL</th>\n",
       "      <th>ESTADO</th>\n",
       "      <th>EDAD</th>\n",
       "      <th>SEXO</th>\n",
       "      <th>TIPO_AUTOMOVIL</th>\n",
       "      <th>SERVICIO</th>\n",
       "      <th>ENFUGA</th>\n",
       "      <th>FECHA</th>\n",
       "      <th>HORA</th>\n",
       "      <th>HORA_NUM</th>\n",
       "      <th>GRAVEDAD</th>\n",
       "      <th>TIPO_ACCIDENTE</th>\n",
       "      <th>TOTAL_MUERTOS</th>\n",
       "      <th>TOTAL_HERIDOS</th>\n",
       "      <th>LOCALIDAD</th>\n",
       "      <th>DISENO_LUGAR</th>\n",
       "    </tr>\n",
       "  </thead>\n",
       "  <tbody>\n",
       "    <tr>\n",
       "      <th>0</th>\n",
       "      <td>4401420</td>\n",
       "      <td>jueves</td>\n",
       "      <td>CONDUCTOR</td>\n",
       "      <td>ILESO</td>\n",
       "      <td>20</td>\n",
       "      <td>MASCULINO</td>\n",
       "      <td>Automovil</td>\n",
       "      <td>Particular</td>\n",
       "      <td>N</td>\n",
       "      <td>2015-01-01</td>\n",
       "      <td>13:00:00</td>\n",
       "      <td>13</td>\n",
       "      <td>Solo Danos</td>\n",
       "      <td>Choque</td>\n",
       "      <td>0</td>\n",
       "      <td>0</td>\n",
       "      <td>Ciudad Bolivar</td>\n",
       "      <td>Tramo de Via,</td>\n",
       "    </tr>\n",
       "    <tr>\n",
       "      <th>1</th>\n",
       "      <td>4401420</td>\n",
       "      <td>jueves</td>\n",
       "      <td>CONDUCTOR</td>\n",
       "      <td>ILESO</td>\n",
       "      <td>27</td>\n",
       "      <td>MASCULINO</td>\n",
       "      <td>Automovil</td>\n",
       "      <td>Publico</td>\n",
       "      <td>N</td>\n",
       "      <td>2015-01-01</td>\n",
       "      <td>13:00:00</td>\n",
       "      <td>13</td>\n",
       "      <td>Solo Danos</td>\n",
       "      <td>Choque</td>\n",
       "      <td>0</td>\n",
       "      <td>0</td>\n",
       "      <td>Ciudad Bolivar</td>\n",
       "      <td>Tramo de Via,</td>\n",
       "    </tr>\n",
       "    <tr>\n",
       "      <th>2</th>\n",
       "      <td>4401442</td>\n",
       "      <td>jueves</td>\n",
       "      <td>PASAJERO</td>\n",
       "      <td>HERIDO</td>\n",
       "      <td>22</td>\n",
       "      <td>MASCULINO</td>\n",
       "      <td>Motocicleta</td>\n",
       "      <td>Particular</td>\n",
       "      <td>N</td>\n",
       "      <td>2015-01-01</td>\n",
       "      <td>16:15:00</td>\n",
       "      <td>16</td>\n",
       "      <td>Con Heridos</td>\n",
       "      <td>Atropello</td>\n",
       "      <td>0</td>\n",
       "      <td>3</td>\n",
       "      <td>San Cristobal</td>\n",
       "      <td>Interseccion,</td>\n",
       "    </tr>\n",
       "    <tr>\n",
       "      <th>3</th>\n",
       "      <td>4401442</td>\n",
       "      <td>jueves</td>\n",
       "      <td>MOTOCICLISTA</td>\n",
       "      <td>HERIDO</td>\n",
       "      <td>42</td>\n",
       "      <td>MASCULINO</td>\n",
       "      <td>Motocicleta</td>\n",
       "      <td>Particular</td>\n",
       "      <td>N</td>\n",
       "      <td>2015-01-01</td>\n",
       "      <td>16:15:00</td>\n",
       "      <td>16</td>\n",
       "      <td>Con Heridos</td>\n",
       "      <td>Atropello</td>\n",
       "      <td>0</td>\n",
       "      <td>3</td>\n",
       "      <td>San Cristobal</td>\n",
       "      <td>Interseccion,</td>\n",
       "    </tr>\n",
       "    <tr>\n",
       "      <th>4</th>\n",
       "      <td>4401430</td>\n",
       "      <td>jueves</td>\n",
       "      <td>MOTOCICLISTA</td>\n",
       "      <td>HERIDO</td>\n",
       "      <td>27</td>\n",
       "      <td>MASCULINO</td>\n",
       "      <td>Motocicleta</td>\n",
       "      <td>Oficial</td>\n",
       "      <td>N</td>\n",
       "      <td>2015-01-01</td>\n",
       "      <td>7:15:00</td>\n",
       "      <td>7</td>\n",
       "      <td>Con Heridos</td>\n",
       "      <td>Volcamiento</td>\n",
       "      <td>0</td>\n",
       "      <td>1</td>\n",
       "      <td>Ciudad Bolivar</td>\n",
       "      <td>Tramo de Via,</td>\n",
       "    </tr>\n",
       "  </tbody>\n",
       "</table>\n",
       "</div>"
      ],
      "text/plain": [
       "   CODIGO_SINIESTRO     DIA    ACTOR_VIAL  ESTADO  EDAD       SEXO  \\\n",
       "0           4401420  jueves     CONDUCTOR   ILESO    20  MASCULINO   \n",
       "1           4401420  jueves     CONDUCTOR   ILESO    27  MASCULINO   \n",
       "2           4401442  jueves      PASAJERO  HERIDO    22  MASCULINO   \n",
       "3           4401442  jueves  MOTOCICLISTA  HERIDO    42  MASCULINO   \n",
       "4           4401430  jueves  MOTOCICLISTA  HERIDO    27  MASCULINO   \n",
       "\n",
       "  TIPO_AUTOMOVIL    SERVICIO ENFUGA      FECHA      HORA  HORA_NUM  \\\n",
       "0      Automovil  Particular      N 2015-01-01  13:00:00        13   \n",
       "1      Automovil     Publico      N 2015-01-01  13:00:00        13   \n",
       "2    Motocicleta  Particular      N 2015-01-01  16:15:00        16   \n",
       "3    Motocicleta  Particular      N 2015-01-01  16:15:00        16   \n",
       "4    Motocicleta     Oficial      N 2015-01-01   7:15:00         7   \n",
       "\n",
       "      GRAVEDAD TIPO_ACCIDENTE  TOTAL_MUERTOS  TOTAL_HERIDOS       LOCALIDAD  \\\n",
       "0   Solo Danos         Choque              0              0  Ciudad Bolivar   \n",
       "1   Solo Danos         Choque              0              0  Ciudad Bolivar   \n",
       "2  Con Heridos      Atropello              0              3   San Cristobal   \n",
       "3  Con Heridos      Atropello              0              3   San Cristobal   \n",
       "4  Con Heridos    Volcamiento              0              1  Ciudad Bolivar   \n",
       "\n",
       "    DISENO_LUGAR  \n",
       "0  Tramo de Via,  \n",
       "1  Tramo de Via,  \n",
       "2  Interseccion,  \n",
       "3  Interseccion,  \n",
       "4  Tramo de Via,  "
      ]
     },
     "execution_count": 2,
     "metadata": {},
     "output_type": "execute_result"
    }
   ],
   "source": [
    "file_name = cache_file(\n",
    "    \"datasetSiniestro2.csv\",\n",
    "    \"https://raw.githubusercontent.com/jgcotta/bigdata/master/datasetSiniestro.csv\",\n",
    ")\n",
    "\n",
    "#If we need date\n",
    "df = pd.read_csv(file_name, sep=';',parse_dates=[9])\n",
    "\n",
    "df.dtypes\n",
    "df.head(5)"
   ]
  },
  {
   "cell_type": "code",
   "execution_count": 3,
   "id": "cb4f5300",
   "metadata": {},
   "outputs": [
    {
     "name": "stdout",
     "output_type": "stream",
     "text": [
      "<class 'pandas.core.frame.DataFrame'>\n",
      "RangeIndex: 352737 entries, 0 to 352736\n",
      "Data columns (total 18 columns):\n",
      " #   Column            Non-Null Count   Dtype         \n",
      "---  ------            --------------   -----         \n",
      " 0   CODIGO_SINIESTRO  352737 non-null  int64         \n",
      " 1   DIA               352737 non-null  object        \n",
      " 2   ACTOR_VIAL        352737 non-null  object        \n",
      " 3   ESTADO            352737 non-null  object        \n",
      " 4   EDAD              352737 non-null  int64         \n",
      " 5   SEXO              352737 non-null  object        \n",
      " 6   TIPO_AUTOMOVIL    352737 non-null  object        \n",
      " 7   SERVICIO          352737 non-null  object        \n",
      " 8   ENFUGA            352737 non-null  object        \n",
      " 9   FECHA             352737 non-null  datetime64[ns]\n",
      " 10  HORA              352737 non-null  object        \n",
      " 11  HORA_NUM          352737 non-null  int64         \n",
      " 12  GRAVEDAD          352737 non-null  object        \n",
      " 13  TIPO_ACCIDENTE    352737 non-null  object        \n",
      " 14  TOTAL_MUERTOS     352737 non-null  int64         \n",
      " 15  TOTAL_HERIDOS     352737 non-null  int64         \n",
      " 16  LOCALIDAD         352737 non-null  object        \n",
      " 17  DISENO_LUGAR      352737 non-null  object        \n",
      "dtypes: datetime64[ns](1), int64(5), object(12)\n",
      "memory usage: 48.4+ MB\n"
     ]
    }
   ],
   "source": [
    "df.info()"
   ]
  },
  {
   "cell_type": "code",
   "execution_count": 4,
   "id": "9739d576",
   "metadata": {
    "scrolled": false
   },
   "outputs": [
    {
     "data": {
      "text/html": [
       "<div>\n",
       "<style scoped>\n",
       "    .dataframe tbody tr th:only-of-type {\n",
       "        vertical-align: middle;\n",
       "    }\n",
       "\n",
       "    .dataframe tbody tr th {\n",
       "        vertical-align: top;\n",
       "    }\n",
       "\n",
       "    .dataframe thead th {\n",
       "        text-align: right;\n",
       "    }\n",
       "</style>\n",
       "<table border=\"1\" class=\"dataframe\">\n",
       "  <thead>\n",
       "    <tr style=\"text-align: right;\">\n",
       "      <th></th>\n",
       "      <th>CODIGO_SINIESTRO</th>\n",
       "      <th>EDAD</th>\n",
       "      <th>HORA_NUM</th>\n",
       "      <th>TOTAL_MUERTOS</th>\n",
       "      <th>TOTAL_HERIDOS</th>\n",
       "    </tr>\n",
       "  </thead>\n",
       "  <tbody>\n",
       "    <tr>\n",
       "      <th>count</th>\n",
       "      <td>3.527370e+05</td>\n",
       "      <td>352737.000000</td>\n",
       "      <td>352737.000000</td>\n",
       "      <td>352737.000000</td>\n",
       "      <td>352737.000000</td>\n",
       "    </tr>\n",
       "    <tr>\n",
       "      <th>mean</th>\n",
       "      <td>6.549421e+06</td>\n",
       "      <td>37.728965</td>\n",
       "      <td>12.831126</td>\n",
       "      <td>0.014138</td>\n",
       "      <td>0.695799</td>\n",
       "    </tr>\n",
       "    <tr>\n",
       "      <th>std</th>\n",
       "      <td>2.865247e+06</td>\n",
       "      <td>13.434792</td>\n",
       "      <td>5.391856</td>\n",
       "      <td>0.125487</td>\n",
       "      <td>2.599171</td>\n",
       "    </tr>\n",
       "    <tr>\n",
       "      <th>min</th>\n",
       "      <td>4.401419e+06</td>\n",
       "      <td>0.000000</td>\n",
       "      <td>0.000000</td>\n",
       "      <td>0.000000</td>\n",
       "      <td>0.000000</td>\n",
       "    </tr>\n",
       "    <tr>\n",
       "      <th>25%</th>\n",
       "      <td>4.445881e+06</td>\n",
       "      <td>27.000000</td>\n",
       "      <td>9.000000</td>\n",
       "      <td>0.000000</td>\n",
       "      <td>0.000000</td>\n",
       "    </tr>\n",
       "    <tr>\n",
       "      <th>50%</th>\n",
       "      <td>4.490195e+06</td>\n",
       "      <td>36.000000</td>\n",
       "      <td>13.000000</td>\n",
       "      <td>0.000000</td>\n",
       "      <td>0.000000</td>\n",
       "    </tr>\n",
       "    <tr>\n",
       "      <th>75%</th>\n",
       "      <td>1.046367e+07</td>\n",
       "      <td>47.000000</td>\n",
       "      <td>17.000000</td>\n",
       "      <td>0.000000</td>\n",
       "      <td>1.000000</td>\n",
       "    </tr>\n",
       "    <tr>\n",
       "      <th>max</th>\n",
       "      <td>1.051427e+07</td>\n",
       "      <td>120.000000</td>\n",
       "      <td>23.000000</td>\n",
       "      <td>4.000000</td>\n",
       "      <td>72.000000</td>\n",
       "    </tr>\n",
       "  </tbody>\n",
       "</table>\n",
       "</div>"
      ],
      "text/plain": [
       "       CODIGO_SINIESTRO           EDAD       HORA_NUM  TOTAL_MUERTOS  \\\n",
       "count      3.527370e+05  352737.000000  352737.000000  352737.000000   \n",
       "mean       6.549421e+06      37.728965      12.831126       0.014138   \n",
       "std        2.865247e+06      13.434792       5.391856       0.125487   \n",
       "min        4.401419e+06       0.000000       0.000000       0.000000   \n",
       "25%        4.445881e+06      27.000000       9.000000       0.000000   \n",
       "50%        4.490195e+06      36.000000      13.000000       0.000000   \n",
       "75%        1.046367e+07      47.000000      17.000000       0.000000   \n",
       "max        1.051427e+07     120.000000      23.000000       4.000000   \n",
       "\n",
       "       TOTAL_HERIDOS  \n",
       "count  352737.000000  \n",
       "mean        0.695799  \n",
       "std         2.599171  \n",
       "min         0.000000  \n",
       "25%         0.000000  \n",
       "50%         0.000000  \n",
       "75%         1.000000  \n",
       "max        72.000000  "
      ]
     },
     "execution_count": 4,
     "metadata": {},
     "output_type": "execute_result"
    }
   ],
   "source": [
    "df.describe()"
   ]
  },
  {
   "cell_type": "markdown",
   "id": "584bb632",
   "metadata": {},
   "source": [
    "Convertir variables numéricas a Categoricas"
   ]
  },
  {
   "cell_type": "code",
   "execution_count": 5,
   "id": "fff91499",
   "metadata": {},
   "outputs": [
    {
     "name": "stdout",
     "output_type": "stream",
     "text": [
      "<class 'pandas.core.frame.DataFrame'>\n",
      "RangeIndex: 352737 entries, 0 to 352736\n",
      "Data columns (total 18 columns):\n",
      " #   Column            Non-Null Count   Dtype         \n",
      "---  ------            --------------   -----         \n",
      " 0   CODIGO_SINIESTRO  352737 non-null  int64         \n",
      " 1   DIA               352737 non-null  object        \n",
      " 2   ACTOR_VIAL        352737 non-null  object        \n",
      " 3   ESTADO            352737 non-null  object        \n",
      " 4   EDAD              352737 non-null  int64         \n",
      " 5   SEXO              352737 non-null  object        \n",
      " 6   TIPO_AUTOMOVIL    352737 non-null  object        \n",
      " 7   SERVICIO          352737 non-null  object        \n",
      " 8   ENFUGA            352737 non-null  object        \n",
      " 9   FECHA             352737 non-null  datetime64[ns]\n",
      " 10  HORA              352737 non-null  object        \n",
      " 11  HORA_NUM          352737 non-null  int64         \n",
      " 12  GRAVEDAD          352737 non-null  object        \n",
      " 13  TIPO_ACCIDENTE    352737 non-null  object        \n",
      " 14  TOTAL_MUERTOS     352737 non-null  int64         \n",
      " 15  TOTAL_HERIDOS     352737 non-null  int64         \n",
      " 16  LOCALIDAD         352737 non-null  object        \n",
      " 17  DISENO_LUGAR      352737 non-null  object        \n",
      "dtypes: datetime64[ns](1), int64(5), object(12)\n",
      "memory usage: 48.4+ MB\n"
     ]
    }
   ],
   "source": [
    "df[['EDAD', 'SEXO', 'HORA_NUM', 'TOTAL_MUERTOS', 'TOTAL_HERIDOS']].apply(lambda x: x.astype('category'))\n",
    "\n",
    "#cols = ['EDAD', 'HORA_NUM', 'TOTAL_MUERTOS', 'TOTAL_HERIDOS']:\n",
    "\n",
    "#df['EDAD'] = df['EDAD'].astype('category')\n",
    "\n",
    "df.info();"
   ]
  },
  {
   "cell_type": "markdown",
   "id": "0ce1196a",
   "metadata": {},
   "source": [
    "# Correlación Lineal (Variables Numéricas)"
   ]
  },
  {
   "cell_type": "code",
   "execution_count": 6,
   "id": "a5622e45",
   "metadata": {
    "scrolled": true
   },
   "outputs": [],
   "source": [
    "df.corr();"
   ]
  },
  {
   "cell_type": "code",
   "execution_count": 7,
   "id": "72857762",
   "metadata": {},
   "outputs": [
    {
     "data": {
      "text/plain": [
       "<AxesSubplot:>"
      ]
     },
     "execution_count": 7,
     "metadata": {},
     "output_type": "execute_result"
    },
    {
     "data": {
      "image/png": "[encoded data removed]",
      "text/plain": [
       "<Figure size 432x288 with 2 Axes>"
      ]
     },
     "metadata": {
      "needs_background": "light"
     },
     "output_type": "display_data"
    }
   ],
   "source": [
    "sns.heatmap(df.corr(),data=df,annot=True)"
   ]
  },
  {
   "cell_type": "code",
   "execution_count": 8,
   "id": "d0ef34d7",
   "metadata": {},
   "outputs": [],
   "source": [
    "d=df.loc[:, ['EDAD', 'TOTAL_HERIDOS', 'SEXO', 'TOTAL_MUERTOS']]"
   ]
  },
  {
   "cell_type": "code",
   "execution_count": 9,
   "id": "53b512ba",
   "metadata": {
    "scrolled": false
   },
   "outputs": [
    {
     "data": {
      "text/html": [
       "<div>\n",
       "<style scoped>\n",
       "    .dataframe tbody tr th:only-of-type {\n",
       "        vertical-align: middle;\n",
       "    }\n",
       "\n",
       "    .dataframe tbody tr th {\n",
       "        vertical-align: top;\n",
       "    }\n",
       "\n",
       "    .dataframe thead th {\n",
       "        text-align: right;\n",
       "    }\n",
       "</style>\n",
       "<table border=\"1\" class=\"dataframe\">\n",
       "  <thead>\n",
       "    <tr style=\"text-align: right;\">\n",
       "      <th></th>\n",
       "      <th>EDAD</th>\n",
       "      <th>TOTAL_HERIDOS</th>\n",
       "      <th>TOTAL_MUERTOS</th>\n",
       "    </tr>\n",
       "  </thead>\n",
       "  <tbody>\n",
       "    <tr>\n",
       "      <th>EDAD</th>\n",
       "      <td>1.000000</td>\n",
       "      <td>-0.057049</td>\n",
       "      <td>-0.022085</td>\n",
       "    </tr>\n",
       "    <tr>\n",
       "      <th>TOTAL_HERIDOS</th>\n",
       "      <td>-0.057049</td>\n",
       "      <td>1.000000</td>\n",
       "      <td>0.103783</td>\n",
       "    </tr>\n",
       "    <tr>\n",
       "      <th>TOTAL_MUERTOS</th>\n",
       "      <td>-0.022085</td>\n",
       "      <td>0.103783</td>\n",
       "      <td>1.000000</td>\n",
       "    </tr>\n",
       "  </tbody>\n",
       "</table>\n",
       "</div>"
      ],
      "text/plain": [
       "                   EDAD  TOTAL_HERIDOS  TOTAL_MUERTOS\n",
       "EDAD           1.000000      -0.057049      -0.022085\n",
       "TOTAL_HERIDOS -0.057049       1.000000       0.103783\n",
       "TOTAL_MUERTOS -0.022085       0.103783       1.000000"
      ]
     },
     "execution_count": 9,
     "metadata": {},
     "output_type": "execute_result"
    }
   ],
   "source": [
    "dx = d.corr(method ='pearson')\n",
    "dx"
   ]
  },
  {
   "cell_type": "code",
   "execution_count": 10,
   "id": "1e984fe1",
   "metadata": {
    "scrolled": true
   },
   "outputs": [
    {
     "data": {
      "image/png": "[encoded data removed]",
      "text/plain": [
       "<Figure size 360x216 with 1 Axes>"
      ]
     },
     "metadata": {
      "needs_background": "light"
     },
     "output_type": "display_data"
    }
   ],
   "source": [
    "fig, ax = plt.subplots(figsize = ( 5 , 3 ))\n",
    "\n",
    "sns.scatterplot(ax = ax, x=\"EDAD\", y=\"TOTAL_HERIDOS\", data=df);\n",
    "# Set label for x-axis\n",
    "ax.set_xlabel( \"Edad\" , size = 12 )\n",
    "  \n",
    "# Set label for y-axis\n",
    "ax.set_ylabel( \"Total Heridos\" , size = 12 )\n",
    "  \n",
    "# Set title for plot\n",
    "ax.set_title( \"CORRELACIÓN EDAD - TOTAL HERIDOS\" , size = 20 )\n",
    "plt.show()"
   ]
  },
  {
   "cell_type": "markdown",
   "id": "5256df4e",
   "metadata": {},
   "source": [
    "Quitar duplicados."
   ]
  },
  {
   "cell_type": "code",
   "execution_count": 11,
   "id": "8b8af313",
   "metadata": {},
   "outputs": [],
   "source": [
    "drop_duplicates=df.drop_duplicates(subset=['CODIGO_SINIESTRO'])"
   ]
  },
  {
   "cell_type": "markdown",
   "id": "380129bb",
   "metadata": {},
   "source": [
    "# Análisis exploratorio variables categóricas"
   ]
  },
  {
   "cell_type": "markdown",
   "id": "f4ca86d1",
   "metadata": {},
   "source": [
    "Histograma de Edad de implicados en accidentes"
   ]
  },
  {
   "cell_type": "code",
   "execution_count": 12,
   "id": "34b8875e",
   "metadata": {
    "scrolled": true
   },
   "outputs": [
    {
     "data": {
      "text/plain": [
       "array([[<AxesSubplot:title={'center':'EDAD'}>]], dtype=object)"
      ]
     },
     "execution_count": 12,
     "metadata": {},
     "output_type": "execute_result"
    },
    {
     "data": {
      "image/png": "[encoded data removed]",
      "text/plain": [
       "<Figure size 648x432 with 1 Axes>"
      ]
     },
     "metadata": {
      "needs_background": "light"
     },
     "output_type": "display_data"
    }
   ],
   "source": [
    "drop_duplicates.hist(column='EDAD',    # Column to plot\n",
    "                   figsize=(9,6),   # Plot size\n",
    "                   bins=20) "
   ]
  },
  {
   "cell_type": "markdown",
   "id": "c55a398f",
   "metadata": {},
   "source": [
    "Agrupación de la población por actor víal"
   ]
  },
  {
   "cell_type": "code",
   "execution_count": 13,
   "id": "cbd86f2a",
   "metadata": {},
   "outputs": [
    {
     "data": {
      "text/html": [
       "<div>\n",
       "<style scoped>\n",
       "    .dataframe tbody tr th:only-of-type {\n",
       "        vertical-align: middle;\n",
       "    }\n",
       "\n",
       "    .dataframe tbody tr th {\n",
       "        vertical-align: top;\n",
       "    }\n",
       "\n",
       "    .dataframe thead th {\n",
       "        text-align: right;\n",
       "    }\n",
       "</style>\n",
       "<table border=\"1\" class=\"dataframe\">\n",
       "  <thead>\n",
       "    <tr style=\"text-align: right;\">\n",
       "      <th>col_0</th>\n",
       "      <th>Cantidad</th>\n",
       "    </tr>\n",
       "    <tr>\n",
       "      <th>ACTOR_VIAL</th>\n",
       "      <th></th>\n",
       "    </tr>\n",
       "  </thead>\n",
       "  <tbody>\n",
       "    <tr>\n",
       "      <th>CICLISTA</th>\n",
       "      <td>1825</td>\n",
       "    </tr>\n",
       "    <tr>\n",
       "      <th>CONDUCTOR</th>\n",
       "      <td>145341</td>\n",
       "    </tr>\n",
       "    <tr>\n",
       "      <th>MOTOCICLISTA</th>\n",
       "      <td>22076</td>\n",
       "    </tr>\n",
       "    <tr>\n",
       "      <th>PASAJERO</th>\n",
       "      <td>4064</td>\n",
       "    </tr>\n",
       "  </tbody>\n",
       "</table>\n",
       "</div>"
      ],
      "text/plain": [
       "col_0         Cantidad\n",
       "ACTOR_VIAL            \n",
       "CICLISTA          1825\n",
       "CONDUCTOR       145341\n",
       "MOTOCICLISTA     22076\n",
       "PASAJERO          4064"
      ]
     },
     "execution_count": 13,
     "metadata": {},
     "output_type": "execute_result"
    }
   ],
   "source": [
    "tf2 = pd.crosstab(index=drop_duplicates[\"ACTOR_VIAL\"],columns=\"Cantidad\") \n",
    "tf2"
   ]
  },
  {
   "cell_type": "markdown",
   "id": "6cf7e8f7",
   "metadata": {},
   "source": [
    "Se obtiene la proporción del tipo de personas involucradas."
   ]
  },
  {
   "cell_type": "code",
   "execution_count": 14,
   "id": "4539b065",
   "metadata": {},
   "outputs": [
    {
     "data": {
      "text/plain": [
       "<AxesSubplot:title={'center':'ACTOR VIAL'}>"
      ]
     },
     "execution_count": 14,
     "metadata": {},
     "output_type": "execute_result"
    },
    {
     "data": {
      "image/png": "[encoded data removed]",
      "text/plain": [
       "<Figure size 432x288 with 1 Axes>"
      ]
     },
     "metadata": {},
     "output_type": "display_data"
    }
   ],
   "source": [
    "drop_duplicates.ACTOR_VIAL.value_counts().plot(kind='pie', ylabel = \"\", title=\"ACTOR VIAL\")"
   ]
  },
  {
   "cell_type": "code",
   "execution_count": 15,
   "id": "b8c2fc8e",
   "metadata": {},
   "outputs": [
    {
     "data": {
      "text/html": [
       "<div>\n",
       "<style scoped>\n",
       "    .dataframe tbody tr th:only-of-type {\n",
       "        vertical-align: middle;\n",
       "    }\n",
       "\n",
       "    .dataframe tbody tr th {\n",
       "        vertical-align: top;\n",
       "    }\n",
       "\n",
       "    .dataframe thead th {\n",
       "        text-align: right;\n",
       "    }\n",
       "</style>\n",
       "<table border=\"1\" class=\"dataframe\">\n",
       "  <thead>\n",
       "    <tr style=\"text-align: right;\">\n",
       "      <th>col_0</th>\n",
       "      <th>Cantidad</th>\n",
       "    </tr>\n",
       "    <tr>\n",
       "      <th>ACTOR_VIAL</th>\n",
       "      <th></th>\n",
       "    </tr>\n",
       "  </thead>\n",
       "  <tbody>\n",
       "    <tr>\n",
       "      <th>CICLISTA</th>\n",
       "      <td>0.010531</td>\n",
       "    </tr>\n",
       "    <tr>\n",
       "      <th>CONDUCTOR</th>\n",
       "      <td>0.838638</td>\n",
       "    </tr>\n",
       "    <tr>\n",
       "      <th>MOTOCICLISTA</th>\n",
       "      <td>0.127382</td>\n",
       "    </tr>\n",
       "    <tr>\n",
       "      <th>PASAJERO</th>\n",
       "      <td>0.023450</td>\n",
       "    </tr>\n",
       "  </tbody>\n",
       "</table>\n",
       "</div>"
      ],
      "text/plain": [
       "col_0         Cantidad\n",
       "ACTOR_VIAL            \n",
       "CICLISTA      0.010531\n",
       "CONDUCTOR     0.838638\n",
       "MOTOCICLISTA  0.127382\n",
       "PASAJERO      0.023450"
      ]
     },
     "execution_count": 15,
     "metadata": {},
     "output_type": "execute_result"
    }
   ],
   "source": [
    "tf2/tf2.sum()"
   ]
  },
  {
   "cell_type": "code",
   "execution_count": 16,
   "id": "ef16a64e",
   "metadata": {},
   "outputs": [
    {
     "data": {
      "text/html": [
       "<div>\n",
       "<style scoped>\n",
       "    .dataframe tbody tr th:only-of-type {\n",
       "        vertical-align: middle;\n",
       "    }\n",
       "\n",
       "    .dataframe tbody tr th {\n",
       "        vertical-align: top;\n",
       "    }\n",
       "\n",
       "    .dataframe thead th {\n",
       "        text-align: right;\n",
       "    }\n",
       "</style>\n",
       "<table border=\"1\" class=\"dataframe\">\n",
       "  <thead>\n",
       "    <tr style=\"text-align: right;\">\n",
       "      <th></th>\n",
       "      <th>Frecuencia</th>\n",
       "    </tr>\n",
       "    <tr>\n",
       "      <th>SEXO</th>\n",
       "      <th></th>\n",
       "    </tr>\n",
       "  </thead>\n",
       "  <tbody>\n",
       "    <tr>\n",
       "      <th>FEMENINO</th>\n",
       "      <td>18820</td>\n",
       "    </tr>\n",
       "    <tr>\n",
       "      <th>MASCULINO</th>\n",
       "      <td>154486</td>\n",
       "    </tr>\n",
       "  </tbody>\n",
       "</table>\n",
       "</div>"
      ],
      "text/plain": [
       "           Frecuencia\n",
       "SEXO                 \n",
       "FEMENINO        18820\n",
       "MASCULINO      154486"
      ]
     },
     "execution_count": 16,
     "metadata": {},
     "output_type": "execute_result"
    }
   ],
   "source": [
    "dsexo = (drop_duplicates.groupby(\"SEXO\").agg(Frecuencia=(\"SEXO\", \"count\")).head())\n",
    "dsexo"
   ]
  },
  {
   "cell_type": "code",
   "execution_count": 17,
   "id": "8d71d465",
   "metadata": {},
   "outputs": [
    {
     "data": {
      "text/plain": [
       "<AxesSubplot:title={'center':'SEXO'}>"
      ]
     },
     "execution_count": 17,
     "metadata": {},
     "output_type": "execute_result"
    },
    {
     "data": {
      "image/png": "[encoded data removed]",
      "text/plain": [
       "<Figure size 432x288 with 1 Axes>"
      ]
     },
     "metadata": {},
     "output_type": "display_data"
    }
   ],
   "source": [
    "drop_duplicates.SEXO.value_counts().plot(kind='pie', ylabel = \"\", title=\"SEXO\")"
   ]
  },
  {
   "cell_type": "markdown",
   "id": "e606a0b6",
   "metadata": {},
   "source": [
    "# PREGUNTAS DESCRIPTIVAS\n",
    "\n",
    "1. ¿Cual es el día de la semana con mayor número de accidentes del periodo entre 2015 al 2019?\n",
    "\n",
    "La día con más accidentados es el \"VIERNES\""
   ]
  },
  {
   "cell_type": "code",
   "execution_count": 18,
   "id": "7e4f88fe",
   "metadata": {
    "scrolled": true
   },
   "outputs": [
    {
     "data": {
      "text/html": [
       "<div>\n",
       "<style scoped>\n",
       "    .dataframe tbody tr th:only-of-type {\n",
       "        vertical-align: middle;\n",
       "    }\n",
       "\n",
       "    .dataframe tbody tr th {\n",
       "        vertical-align: top;\n",
       "    }\n",
       "\n",
       "    .dataframe thead th {\n",
       "        text-align: right;\n",
       "    }\n",
       "</style>\n",
       "<table border=\"1\" class=\"dataframe\">\n",
       "  <thead>\n",
       "    <tr style=\"text-align: right;\">\n",
       "      <th>col_0</th>\n",
       "      <th>Cantidad</th>\n",
       "    </tr>\n",
       "    <tr>\n",
       "      <th>DIA</th>\n",
       "      <th></th>\n",
       "    </tr>\n",
       "  </thead>\n",
       "  <tbody>\n",
       "    <tr>\n",
       "      <th>domingo</th>\n",
       "      <td>16912</td>\n",
       "    </tr>\n",
       "    <tr>\n",
       "      <th>jueves</th>\n",
       "      <td>25845</td>\n",
       "    </tr>\n",
       "    <tr>\n",
       "      <th>lunes</th>\n",
       "      <td>23797</td>\n",
       "    </tr>\n",
       "    <tr>\n",
       "      <th>martes</th>\n",
       "      <td>26839</td>\n",
       "    </tr>\n",
       "    <tr>\n",
       "      <th>miercoles</th>\n",
       "      <td>25936</td>\n",
       "    </tr>\n",
       "    <tr>\n",
       "      <th>sabado</th>\n",
       "      <td>26125</td>\n",
       "    </tr>\n",
       "    <tr>\n",
       "      <th>viernes</th>\n",
       "      <td>27852</td>\n",
       "    </tr>\n",
       "  </tbody>\n",
       "</table>\n",
       "</div>"
      ],
      "text/plain": [
       "col_0      Cantidad\n",
       "DIA                \n",
       "domingo       16912\n",
       "jueves        25845\n",
       "lunes         23797\n",
       "martes        26839\n",
       "miercoles     25936\n",
       "sabado        26125\n",
       "viernes       27852"
      ]
     },
     "execution_count": 18,
     "metadata": {},
     "output_type": "execute_result"
    }
   ],
   "source": [
    "tf3 = pd.crosstab(index=drop_duplicates[\"DIA\"], \n",
    "                     columns=\"Cantidad\") \n",
    "tf3"
   ]
  },
  {
   "cell_type": "code",
   "execution_count": 19,
   "id": "e672d613",
   "metadata": {},
   "outputs": [
    {
     "data": {
      "text/plain": [
       "<AxesSubplot:title={'center':'DIA'}>"
      ]
     },
     "execution_count": 19,
     "metadata": {},
     "output_type": "execute_result"
    },
    {
     "data": {
      "image/png": "[encoded data removed]",
      "text/plain": [
       "<Figure size 432x288 with 1 Axes>"
      ]
     },
     "metadata": {},
     "output_type": "display_data"
    }
   ],
   "source": [
    "df.DIA.value_counts().plot(kind='pie', ylabel = \"\", title=\"DIA\")"
   ]
  },
  {
   "cell_type": "code",
   "execution_count": 20,
   "id": "fecd233c",
   "metadata": {},
   "outputs": [
    {
     "data": {
      "image/png": "[encoded data removed]",
      "text/plain": [
       "<Figure size 720x288 with 1 Axes>"
      ]
     },
     "metadata": {
      "needs_background": "light"
     },
     "output_type": "display_data"
    }
   ],
   "source": [
    "#tf3.plot.line(stacked=True)\n",
    "\n",
    "line,ax = plt.subplots(figsize=(10,4))\n",
    "# Set title for plot\n",
    "ax.set_title(\"Accidentes Por Día\", fontsize=20)\n",
    "# Set label for y-axis\n",
    "ax.set_xlabel( \"Día\" , size = 12 )\n",
    "sns.lineplot(x = \"DIA\", y = \"Cantidad\", data = tf3)\n",
    "plt.show()\n"
   ]
  },
  {
   "cell_type": "markdown",
   "id": "4c459d53",
   "metadata": {},
   "source": [
    "2. ¿Cual es la localidad con mayor número de accidentes del periodo entre 2015 al 2019?\n",
    "\n",
    "La tendencia indica que la localidad con mayor número de accidentes para el periodo es \"KENNEDY\""
   ]
  },
  {
   "cell_type": "code",
   "execution_count": 21,
   "id": "6c4f2b6d",
   "metadata": {},
   "outputs": [
    {
     "data": {
      "text/plain": [
       "20"
      ]
     },
     "execution_count": 21,
     "metadata": {},
     "output_type": "execute_result"
    }
   ],
   "source": [
    "#df.LOCALIDAD\n",
    "localidades = drop_duplicates.LOCALIDAD.unique()\n",
    "len(localidades)"
   ]
  },
  {
   "cell_type": "code",
   "execution_count": 22,
   "id": "f7628133",
   "metadata": {
    "scrolled": false
   },
   "outputs": [
    {
     "data": {
      "text/plain": [
       "Kennedy               19436\n",
       "Usaquen               17693\n",
       "Engativa              17615\n",
       "Suba                  15687\n",
       "Fontibon              13865\n",
       "Puente Aranda         12079\n",
       "Chapinero             10614\n",
       "Barrios Unidos         9447\n",
       "Teusaquillo            9352\n",
       "Bosa                   8271\n",
       "Ciudad Bolivar         6794\n",
       "Los Martires           5898\n",
       "Santa Fe               5035\n",
       "Tunjuelito             4698\n",
       "San Cristobal          4671\n",
       "Rafael Uribe Uribe     4388\n",
       "Antonio Narino         3430\n",
       "Usme                   3427\n",
       "La Candelaria           901\n",
       "Sumapaz                   5\n",
       "Name: LOCALIDAD, dtype: int64"
      ]
     },
     "execution_count": 22,
     "metadata": {},
     "output_type": "execute_result"
    }
   ],
   "source": [
    "localidades_por_accidente= drop_duplicates.LOCALIDAD.value_counts()\n",
    "localidades_por_accidente"
   ]
  },
  {
   "cell_type": "code",
   "execution_count": 23,
   "id": "30658080",
   "metadata": {
    "scrolled": false
   },
   "outputs": [
    {
     "data": {
      "text/plain": [
       "<AxesSubplot:>"
      ]
     },
     "execution_count": 23,
     "metadata": {},
     "output_type": "execute_result"
    },
    {
     "data": {
      "image/png": "[encoded data removed]",
      "text/plain": [
       "<Figure size 432x288 with 1 Axes>"
      ]
     },
     "metadata": {
      "needs_background": "light"
     },
     "output_type": "display_data"
    }
   ],
   "source": [
    "localidades_por_accidente.plot(kind='barh')"
   ]
  },
  {
   "cell_type": "markdown",
   "id": "ac05f1f7",
   "metadata": {},
   "source": [
    "3. ¿Cual es la hora con mayor indice accidentalidad del periodo entre 2015 al 2019?"
   ]
  },
  {
   "cell_type": "code",
   "execution_count": 24,
   "id": "eb4bee32",
   "metadata": {},
   "outputs": [],
   "source": [
    "dhora = pd.crosstab(index=drop_duplicates[\"HORA_NUM\"], \n",
    "                     columns=\"Cantidad\") "
   ]
  },
  {
   "cell_type": "code",
   "execution_count": 25,
   "id": "8fae4420",
   "metadata": {
    "scrolled": true
   },
   "outputs": [
    {
     "data": {
      "text/html": [
       "<div>\n",
       "<style scoped>\n",
       "    .dataframe tbody tr th:only-of-type {\n",
       "        vertical-align: middle;\n",
       "    }\n",
       "\n",
       "    .dataframe tbody tr th {\n",
       "        vertical-align: top;\n",
       "    }\n",
       "\n",
       "    .dataframe thead th {\n",
       "        text-align: right;\n",
       "    }\n",
       "</style>\n",
       "<table border=\"1\" class=\"dataframe\">\n",
       "  <thead>\n",
       "    <tr style=\"text-align: right;\">\n",
       "      <th>col_0</th>\n",
       "      <th>Cantidad</th>\n",
       "    </tr>\n",
       "    <tr>\n",
       "      <th>HORA_NUM</th>\n",
       "      <th></th>\n",
       "    </tr>\n",
       "  </thead>\n",
       "  <tbody>\n",
       "    <tr>\n",
       "      <th>14</th>\n",
       "      <td>11454</td>\n",
       "    </tr>\n",
       "  </tbody>\n",
       "</table>\n",
       "</div>"
      ],
      "text/plain": [
       "col_0     Cantidad\n",
       "HORA_NUM          \n",
       "14           11454"
      ]
     },
     "execution_count": 25,
     "metadata": {},
     "output_type": "execute_result"
    }
   ],
   "source": [
    "maximo = dhora[dhora.Cantidad == dhora.Cantidad.max()]\n",
    "maximo"
   ]
  },
  {
   "cell_type": "code",
   "execution_count": 26,
   "id": "72eda8fc",
   "metadata": {
    "scrolled": true
   },
   "outputs": [
    {
     "data": {
      "image/png": "[encoded data removed]",
      "text/plain": [
       "<Figure size 1440x360 with 1 Axes>"
      ]
     },
     "metadata": {
      "needs_background": "light"
     },
     "output_type": "display_data"
    }
   ],
   "source": [
    "line,ax = plt.subplots(figsize=(20,5))\n",
    "# Set title for plot\n",
    "ax.set_title(\"Accidentes Por Hora\", fontsize=20)\n",
    "# Set label for y-axis\n",
    "ax.set_xlabel( \"Hora\" , size = 12 )\n",
    "sns.lineplot(x = \"HORA_NUM\", y = \"Cantidad\", data = dhora)\n",
    "plt.show()"
   ]
  },
  {
   "cell_type": "markdown",
   "id": "a9b26d91",
   "metadata": {},
   "source": [
    "4. ¿Cúal fue la fecha con mayor indice de accidentalidad del año 2019?"
   ]
  },
  {
   "cell_type": "code",
   "execution_count": 27,
   "id": "c4d86f80",
   "metadata": {},
   "outputs": [
    {
     "data": {
      "text/html": [
       "<div>\n",
       "<style scoped>\n",
       "    .dataframe tbody tr th:only-of-type {\n",
       "        vertical-align: middle;\n",
       "    }\n",
       "\n",
       "    .dataframe tbody tr th {\n",
       "        vertical-align: top;\n",
       "    }\n",
       "\n",
       "    .dataframe thead th {\n",
       "        text-align: right;\n",
       "    }\n",
       "</style>\n",
       "<table border=\"1\" class=\"dataframe\">\n",
       "  <thead>\n",
       "    <tr style=\"text-align: right;\">\n",
       "      <th>col_0</th>\n",
       "      <th>Cantidad</th>\n",
       "    </tr>\n",
       "    <tr>\n",
       "      <th>FECHA</th>\n",
       "      <th></th>\n",
       "    </tr>\n",
       "  </thead>\n",
       "  <tbody>\n",
       "    <tr>\n",
       "      <th>2019-06-12</th>\n",
       "      <td>155</td>\n",
       "    </tr>\n",
       "  </tbody>\n",
       "</table>\n",
       "</div>"
      ],
      "text/plain": [
       "col_0       Cantidad\n",
       "FECHA               \n",
       "2019-06-12       155"
      ]
     },
     "execution_count": 27,
     "metadata": {},
     "output_type": "execute_result"
    }
   ],
   "source": [
    "start_date = \"2019-1-1\"\n",
    "end_date = \"2019-12-31\"\n",
    "after_start_date = drop_duplicates[\"FECHA\"] >= start_date\n",
    "before_end_date = drop_duplicates[\"FECHA\"] <= end_date\n",
    "between_two_dates = after_start_date & before_end_date\n",
    "filtered_dates = drop_duplicates.loc[between_two_dates]\n",
    "tf4 = pd.crosstab(index=filtered_dates[\"FECHA\"], columns=\"Cantidad\") \n",
    "maximo = tf4[tf4.Cantidad == tf4.Cantidad.max()]\n",
    "maximo"
   ]
  },
  {
   "cell_type": "code",
   "execution_count": 28,
   "id": "699930b2",
   "metadata": {
    "scrolled": true
   },
   "outputs": [
    {
     "data": {
      "image/png": "[encoded data removed]",
      "text/plain": [
       "<Figure size 1440x360 with 1 Axes>"
      ]
     },
     "metadata": {
      "needs_background": "light"
     },
     "output_type": "display_data"
    }
   ],
   "source": [
    "line,ax = plt.subplots(figsize=(20,5))\n",
    "ax.set_title(\"Accidentes Por Fecha\", fontsize=20)\n",
    "sns.lineplot(x = \"FECHA\", y = \"Cantidad\", data = tf4)\n",
    "plt.show()"
   ]
  },
  {
   "cell_type": "markdown",
   "id": "8ee5780a",
   "metadata": {},
   "source": [
    "# HIPOTESIS DIAGNOSTICAS"
   ]
  },
  {
   "cell_type": "markdown",
   "id": "a5b01331",
   "metadata": {},
   "source": [
    "Distribución normal\n",
    "\n",
    "Hipótesis nula: ¿La edad de las personas influyo en la ocurrencia de los accidentes en 2019?\n",
    "Hipótesis alternativa: no influye \\\\\n",
    "Parámetros de población: Media = pop_mean_2015, desviación estándar = pop_std_2015\n",
    "Parámetros de muestra: Media = sample_mean_2016, desviación estándar = sample_std_2016"
   ]
  },
  {
   "cell_type": "code",
   "execution_count": 29,
   "id": "3dde5cab",
   "metadata": {},
   "outputs": [
    {
     "data": {
      "text/html": [
       "<div>\n",
       "<style scoped>\n",
       "    .dataframe tbody tr th:only-of-type {\n",
       "        vertical-align: middle;\n",
       "    }\n",
       "\n",
       "    .dataframe tbody tr th {\n",
       "        vertical-align: top;\n",
       "    }\n",
       "\n",
       "    .dataframe thead th {\n",
       "        text-align: right;\n",
       "    }\n",
       "</style>\n",
       "<table border=\"1\" class=\"dataframe\">\n",
       "  <thead>\n",
       "    <tr style=\"text-align: right;\">\n",
       "      <th></th>\n",
       "      <th>CODIGO_SINIESTRO</th>\n",
       "      <th>DIA</th>\n",
       "      <th>ACTOR_VIAL</th>\n",
       "      <th>ESTADO</th>\n",
       "      <th>EDAD</th>\n",
       "      <th>SEXO</th>\n",
       "      <th>TIPO_AUTOMOVIL</th>\n",
       "      <th>SERVICIO</th>\n",
       "      <th>ENFUGA</th>\n",
       "      <th>FECHA</th>\n",
       "      <th>HORA</th>\n",
       "      <th>HORA_NUM</th>\n",
       "      <th>GRAVEDAD</th>\n",
       "      <th>TIPO_ACCIDENTE</th>\n",
       "      <th>TOTAL_MUERTOS</th>\n",
       "      <th>TOTAL_HERIDOS</th>\n",
       "      <th>LOCALIDAD</th>\n",
       "      <th>DISENO_LUGAR</th>\n",
       "    </tr>\n",
       "  </thead>\n",
       "  <tbody>\n",
       "    <tr>\n",
       "      <th>0</th>\n",
       "      <td>4401420</td>\n",
       "      <td>jueves</td>\n",
       "      <td>CONDUCTOR</td>\n",
       "      <td>ILESO</td>\n",
       "      <td>20</td>\n",
       "      <td>MASCULINO</td>\n",
       "      <td>Automovil</td>\n",
       "      <td>Particular</td>\n",
       "      <td>N</td>\n",
       "      <td>2015-01-01</td>\n",
       "      <td>13:00:00</td>\n",
       "      <td>13</td>\n",
       "      <td>Solo Danos</td>\n",
       "      <td>Choque</td>\n",
       "      <td>0</td>\n",
       "      <td>0</td>\n",
       "      <td>Ciudad Bolivar</td>\n",
       "      <td>Tramo de Via,</td>\n",
       "    </tr>\n",
       "    <tr>\n",
       "      <th>1</th>\n",
       "      <td>4401420</td>\n",
       "      <td>jueves</td>\n",
       "      <td>CONDUCTOR</td>\n",
       "      <td>ILESO</td>\n",
       "      <td>27</td>\n",
       "      <td>MASCULINO</td>\n",
       "      <td>Automovil</td>\n",
       "      <td>Publico</td>\n",
       "      <td>N</td>\n",
       "      <td>2015-01-01</td>\n",
       "      <td>13:00:00</td>\n",
       "      <td>13</td>\n",
       "      <td>Solo Danos</td>\n",
       "      <td>Choque</td>\n",
       "      <td>0</td>\n",
       "      <td>0</td>\n",
       "      <td>Ciudad Bolivar</td>\n",
       "      <td>Tramo de Via,</td>\n",
       "    </tr>\n",
       "    <tr>\n",
       "      <th>2</th>\n",
       "      <td>4401442</td>\n",
       "      <td>jueves</td>\n",
       "      <td>PASAJERO</td>\n",
       "      <td>HERIDO</td>\n",
       "      <td>22</td>\n",
       "      <td>MASCULINO</td>\n",
       "      <td>Motocicleta</td>\n",
       "      <td>Particular</td>\n",
       "      <td>N</td>\n",
       "      <td>2015-01-01</td>\n",
       "      <td>16:15:00</td>\n",
       "      <td>16</td>\n",
       "      <td>Con Heridos</td>\n",
       "      <td>Atropello</td>\n",
       "      <td>0</td>\n",
       "      <td>3</td>\n",
       "      <td>San Cristobal</td>\n",
       "      <td>Interseccion,</td>\n",
       "    </tr>\n",
       "    <tr>\n",
       "      <th>3</th>\n",
       "      <td>4401442</td>\n",
       "      <td>jueves</td>\n",
       "      <td>MOTOCICLISTA</td>\n",
       "      <td>HERIDO</td>\n",
       "      <td>42</td>\n",
       "      <td>MASCULINO</td>\n",
       "      <td>Motocicleta</td>\n",
       "      <td>Particular</td>\n",
       "      <td>N</td>\n",
       "      <td>2015-01-01</td>\n",
       "      <td>16:15:00</td>\n",
       "      <td>16</td>\n",
       "      <td>Con Heridos</td>\n",
       "      <td>Atropello</td>\n",
       "      <td>0</td>\n",
       "      <td>3</td>\n",
       "      <td>San Cristobal</td>\n",
       "      <td>Interseccion,</td>\n",
       "    </tr>\n",
       "    <tr>\n",
       "      <th>4</th>\n",
       "      <td>4401430</td>\n",
       "      <td>jueves</td>\n",
       "      <td>MOTOCICLISTA</td>\n",
       "      <td>HERIDO</td>\n",
       "      <td>27</td>\n",
       "      <td>MASCULINO</td>\n",
       "      <td>Motocicleta</td>\n",
       "      <td>Oficial</td>\n",
       "      <td>N</td>\n",
       "      <td>2015-01-01</td>\n",
       "      <td>7:15:00</td>\n",
       "      <td>7</td>\n",
       "      <td>Con Heridos</td>\n",
       "      <td>Volcamiento</td>\n",
       "      <td>0</td>\n",
       "      <td>1</td>\n",
       "      <td>Ciudad Bolivar</td>\n",
       "      <td>Tramo de Via,</td>\n",
       "    </tr>\n",
       "    <tr>\n",
       "      <th>...</th>\n",
       "      <td>...</td>\n",
       "      <td>...</td>\n",
       "      <td>...</td>\n",
       "      <td>...</td>\n",
       "      <td>...</td>\n",
       "      <td>...</td>\n",
       "      <td>...</td>\n",
       "      <td>...</td>\n",
       "      <td>...</td>\n",
       "      <td>...</td>\n",
       "      <td>...</td>\n",
       "      <td>...</td>\n",
       "      <td>...</td>\n",
       "      <td>...</td>\n",
       "      <td>...</td>\n",
       "      <td>...</td>\n",
       "      <td>...</td>\n",
       "      <td>...</td>\n",
       "    </tr>\n",
       "    <tr>\n",
       "      <th>352732</th>\n",
       "      <td>10507444</td>\n",
       "      <td>martes</td>\n",
       "      <td>CONDUCTOR</td>\n",
       "      <td>ILESO</td>\n",
       "      <td>43</td>\n",
       "      <td>MASCULINO</td>\n",
       "      <td>Automovil</td>\n",
       "      <td>Particular</td>\n",
       "      <td>N</td>\n",
       "      <td>2019-12-31</td>\n",
       "      <td>6:03:00</td>\n",
       "      <td>6</td>\n",
       "      <td>Solo Danos</td>\n",
       "      <td>Choque</td>\n",
       "      <td>0</td>\n",
       "      <td>0</td>\n",
       "      <td>Bosa</td>\n",
       "      <td>Tramo de Via,</td>\n",
       "    </tr>\n",
       "    <tr>\n",
       "      <th>352733</th>\n",
       "      <td>10507444</td>\n",
       "      <td>martes</td>\n",
       "      <td>CONDUCTOR</td>\n",
       "      <td>ILESO</td>\n",
       "      <td>52</td>\n",
       "      <td>FEMENINO</td>\n",
       "      <td>Camioneta</td>\n",
       "      <td>Particular</td>\n",
       "      <td>N</td>\n",
       "      <td>2019-12-31</td>\n",
       "      <td>6:03:00</td>\n",
       "      <td>6</td>\n",
       "      <td>Solo Danos</td>\n",
       "      <td>Choque</td>\n",
       "      <td>0</td>\n",
       "      <td>0</td>\n",
       "      <td>Bosa</td>\n",
       "      <td>Tramo de Via,</td>\n",
       "    </tr>\n",
       "    <tr>\n",
       "      <th>352734</th>\n",
       "      <td>10507452</td>\n",
       "      <td>martes</td>\n",
       "      <td>CONDUCTOR</td>\n",
       "      <td>ILESO</td>\n",
       "      <td>52</td>\n",
       "      <td>MASCULINO</td>\n",
       "      <td>Automovil</td>\n",
       "      <td>Publico</td>\n",
       "      <td>N</td>\n",
       "      <td>2019-12-31</td>\n",
       "      <td>19:40:00</td>\n",
       "      <td>19</td>\n",
       "      <td>Solo Danos</td>\n",
       "      <td>Choque</td>\n",
       "      <td>0</td>\n",
       "      <td>0</td>\n",
       "      <td>Usaquen</td>\n",
       "      <td>Tramo de Via,</td>\n",
       "    </tr>\n",
       "    <tr>\n",
       "      <th>352735</th>\n",
       "      <td>10507452</td>\n",
       "      <td>martes</td>\n",
       "      <td>CONDUCTOR</td>\n",
       "      <td>ILESO</td>\n",
       "      <td>24</td>\n",
       "      <td>MASCULINO</td>\n",
       "      <td>Automovil</td>\n",
       "      <td>Particular</td>\n",
       "      <td>N</td>\n",
       "      <td>2019-12-31</td>\n",
       "      <td>19:40:00</td>\n",
       "      <td>19</td>\n",
       "      <td>Solo Danos</td>\n",
       "      <td>Choque</td>\n",
       "      <td>0</td>\n",
       "      <td>0</td>\n",
       "      <td>Usaquen</td>\n",
       "      <td>Tramo de Via,</td>\n",
       "    </tr>\n",
       "    <tr>\n",
       "      <th>352736</th>\n",
       "      <td>10507452</td>\n",
       "      <td>martes</td>\n",
       "      <td>CONDUCTOR</td>\n",
       "      <td>ILESO</td>\n",
       "      <td>43</td>\n",
       "      <td>MASCULINO</td>\n",
       "      <td>Automovil</td>\n",
       "      <td>Particular</td>\n",
       "      <td>N</td>\n",
       "      <td>2019-12-31</td>\n",
       "      <td>19:40:00</td>\n",
       "      <td>19</td>\n",
       "      <td>Solo Danos</td>\n",
       "      <td>Choque</td>\n",
       "      <td>0</td>\n",
       "      <td>0</td>\n",
       "      <td>Usaquen</td>\n",
       "      <td>Tramo de Via,</td>\n",
       "    </tr>\n",
       "  </tbody>\n",
       "</table>\n",
       "<p>352737 rows × 18 columns</p>\n",
       "</div>"
      ],
      "text/plain": [
       "        CODIGO_SINIESTRO     DIA    ACTOR_VIAL  ESTADO  EDAD       SEXO  \\\n",
       "0                4401420  jueves     CONDUCTOR   ILESO    20  MASCULINO   \n",
       "1                4401420  jueves     CONDUCTOR   ILESO    27  MASCULINO   \n",
       "2                4401442  jueves      PASAJERO  HERIDO    22  MASCULINO   \n",
       "3                4401442  jueves  MOTOCICLISTA  HERIDO    42  MASCULINO   \n",
       "4                4401430  jueves  MOTOCICLISTA  HERIDO    27  MASCULINO   \n",
       "...                  ...     ...           ...     ...   ...        ...   \n",
       "352732          10507444  martes     CONDUCTOR   ILESO    43  MASCULINO   \n",
       "352733          10507444  martes     CONDUCTOR   ILESO    52   FEMENINO   \n",
       "352734          10507452  martes     CONDUCTOR   ILESO    52  MASCULINO   \n",
       "352735          10507452  martes     CONDUCTOR   ILESO    24  MASCULINO   \n",
       "352736          10507452  martes     CONDUCTOR   ILESO    43  MASCULINO   \n",
       "\n",
       "       TIPO_AUTOMOVIL    SERVICIO ENFUGA      FECHA      HORA  HORA_NUM  \\\n",
       "0           Automovil  Particular      N 2015-01-01  13:00:00        13   \n",
       "1           Automovil     Publico      N 2015-01-01  13:00:00        13   \n",
       "2         Motocicleta  Particular      N 2015-01-01  16:15:00        16   \n",
       "3         Motocicleta  Particular      N 2015-01-01  16:15:00        16   \n",
       "4         Motocicleta     Oficial      N 2015-01-01   7:15:00         7   \n",
       "...               ...         ...    ...        ...       ...       ...   \n",
       "352732      Automovil  Particular      N 2019-12-31   6:03:00         6   \n",
       "352733      Camioneta  Particular      N 2019-12-31   6:03:00         6   \n",
       "352734      Automovil     Publico      N 2019-12-31  19:40:00        19   \n",
       "352735      Automovil  Particular      N 2019-12-31  19:40:00        19   \n",
       "352736      Automovil  Particular      N 2019-12-31  19:40:00        19   \n",
       "\n",
       "           GRAVEDAD TIPO_ACCIDENTE  TOTAL_MUERTOS  TOTAL_HERIDOS  \\\n",
       "0        Solo Danos         Choque              0              0   \n",
       "1        Solo Danos         Choque              0              0   \n",
       "2       Con Heridos      Atropello              0              3   \n",
       "3       Con Heridos      Atropello              0              3   \n",
       "4       Con Heridos    Volcamiento              0              1   \n",
       "...             ...            ...            ...            ...   \n",
       "352732   Solo Danos         Choque              0              0   \n",
       "352733   Solo Danos         Choque              0              0   \n",
       "352734   Solo Danos         Choque              0              0   \n",
       "352735   Solo Danos         Choque              0              0   \n",
       "352736   Solo Danos         Choque              0              0   \n",
       "\n",
       "             LOCALIDAD   DISENO_LUGAR  \n",
       "0       Ciudad Bolivar  Tramo de Via,  \n",
       "1       Ciudad Bolivar  Tramo de Via,  \n",
       "2        San Cristobal  Interseccion,  \n",
       "3        San Cristobal  Interseccion,  \n",
       "4       Ciudad Bolivar  Tramo de Via,  \n",
       "...                ...            ...  \n",
       "352732            Bosa  Tramo de Via,  \n",
       "352733            Bosa  Tramo de Via,  \n",
       "352734         Usaquen  Tramo de Via,  \n",
       "352735         Usaquen  Tramo de Via,  \n",
       "352736         Usaquen  Tramo de Via,  \n",
       "\n",
       "[352737 rows x 18 columns]"
      ]
     },
     "execution_count": 29,
     "metadata": {},
     "output_type": "execute_result"
    }
   ],
   "source": [
    "edadaccidente_2015 = df #[df['FECHA'] ==2015] -- REVISAR NO FILTRO\n",
    "edadaccidente_2015\n",
    "#edadaccidente_2019 = df[df['FECHA'] ==2019]"
   ]
  },
  {
   "cell_type": "code",
   "execution_count": 30,
   "id": "5a5a39e4",
   "metadata": {},
   "outputs": [
    {
     "name": "stdout",
     "output_type": "stream",
     "text": [
      "Population Mean: 37.72896520637189\n",
      "Population Standard Deviation: 13.434791870448077\n"
     ]
    }
   ],
   "source": [
    "pop_mean_2015 = edadaccidente_2015['EDAD'].mean()\n",
    "pop_std_2015 = statistics.stdev(edadaccidente_2015.EDAD)\n",
    "print(\"Population Mean: \"+str(pop_mean_2015))\n",
    "print(\"Population Standard Deviation: \"+str(pop_std_2015))"
   ]
  },
  {
   "cell_type": "code",
   "execution_count": 31,
   "id": "d0cad08e",
   "metadata": {
    "scrolled": true
   },
   "outputs": [],
   "source": [
    "#print(\"Media Edad de la Población: \"+str(periodo_2019['FECHA'].mean()))\n",
    "#periodo_2019_sample = periodo_2019.sample(frac=0.10)\n",
    "#periodo_media_2019 = periodo_2019_sample['EDAD'].mean()\n",
    "#print(\"Media de la Muestra: \"+str(periodo_media_2019))\n",
    "#periodo_std_2019 = statistics.stdev(periodo_2019_sample.EDAD)\n",
    "#print(\"Desviación Estandar Muestra: \"+str(periodo_std_2019))"
   ]
  },
  {
   "cell_type": "code",
   "execution_count": 32,
   "id": "e9855b71",
   "metadata": {},
   "outputs": [],
   "source": [
    "#zscore_critical = 1.65 \n",
    "# Calculate the test statistics \n",
    "#zscore_test_stat = ((sample_mean_2016 - pop_mean_2015)*math.sqrt(8916))/sample_std_2016\n",
    "#print(zscore_test_stat)"
   ]
  },
  {
   "cell_type": "markdown",
   "id": "e5c4099d",
   "metadata": {},
   "source": [
    "Conclusión: como las estadísticas de prueba caen en la región de rechazo, se rechaza la hipótesis nula y se puede concluir que los salarios anuales aumentan en 201. Sin embargo, primero verificaremos los errores de tipo 1 y tipo 2"
   ]
  },
  {
   "cell_type": "markdown",
   "id": "e23451bc",
   "metadata": {},
   "source": [
    "# TABLA DE FRECUENCIA"
   ]
  },
  {
   "cell_type": "code",
   "execution_count": 33,
   "id": "39af8651",
   "metadata": {},
   "outputs": [
    {
     "data": {
      "text/html": [
       "<div>\n",
       "<style scoped>\n",
       "    .dataframe tbody tr th:only-of-type {\n",
       "        vertical-align: middle;\n",
       "    }\n",
       "\n",
       "    .dataframe tbody tr th {\n",
       "        vertical-align: top;\n",
       "    }\n",
       "\n",
       "    .dataframe thead th {\n",
       "        text-align: right;\n",
       "    }\n",
       "</style>\n",
       "<table border=\"1\" class=\"dataframe\">\n",
       "  <thead>\n",
       "    <tr style=\"text-align: right;\">\n",
       "      <th></th>\n",
       "      <th>CONDUCTOR</th>\n",
       "      <th>PASAJERO</th>\n",
       "      <th>CICLISTA</th>\n",
       "      <th>MOTOCICLISTA</th>\n",
       "      <th>FILA_TOTAL</th>\n",
       "    </tr>\n",
       "  </thead>\n",
       "  <tbody>\n",
       "    <tr>\n",
       "      <th>MASCULINO</th>\n",
       "      <td>1788</td>\n",
       "      <td>27229</td>\n",
       "      <td>3623</td>\n",
       "      <td>15708</td>\n",
       "      <td>48348</td>\n",
       "    </tr>\n",
       "    <tr>\n",
       "      <th>FEMENINO</th>\n",
       "      <td>8510</td>\n",
       "      <td>245795</td>\n",
       "      <td>41443</td>\n",
       "      <td>8641</td>\n",
       "      <td>304389</td>\n",
       "    </tr>\n",
       "    <tr>\n",
       "      <th>COL_TOTAL</th>\n",
       "      <td>10298</td>\n",
       "      <td>273024</td>\n",
       "      <td>45066</td>\n",
       "      <td>24349</td>\n",
       "      <td>352737</td>\n",
       "    </tr>\n",
       "  </tbody>\n",
       "</table>\n",
       "</div>"
      ],
      "text/plain": [
       "           CONDUCTOR  PASAJERO  CICLISTA  MOTOCICLISTA  FILA_TOTAL\n",
       "MASCULINO       1788     27229      3623         15708       48348\n",
       "FEMENINO        8510    245795     41443          8641      304389\n",
       "COL_TOTAL      10298    273024     45066         24349      352737"
      ]
     },
     "execution_count": 33,
     "metadata": {},
     "output_type": "execute_result"
    }
   ],
   "source": [
    "#Formart to percentage\n",
    "format_dict = {'CONDUCTOR': '{:.2%}','PASAJERO': '{:.2%}','CICLISTA': '{:.2%}','MOTOCICLISTA': '{:.2%}','FILA_TOTAL': '{:.2%}'}\n",
    "genero_actor = pd.crosstab(index=df[\"SEXO\"], \n",
    "                           columns=df[\"ACTOR_VIAL\"],margins=True)\n",
    "genero_actor.columns = [\"CONDUCTOR\",\"PASAJERO\",\"CICLISTA\",\"MOTOCICLISTA\",\"FILA_TOTAL\"]\n",
    "genero_actor.index= [\"MASCULINO\",\"FEMENINO\",\"COL_TOTAL\"]\n",
    "genero_actor"
   ]
  },
  {
   "cell_type": "markdown",
   "id": "b72396a5",
   "metadata": {},
   "source": [
    "Tabla de frecuencias Relativas: Relación entre Actor_vial y genéro implicado en sinisetro (En porcentaje), El 77.40% de los implicados en accidentes, son mujeres pasajeros de algún servicio público."
   ]
  },
  {
   "cell_type": "code",
   "execution_count": 34,
   "id": "1a2df517",
   "metadata": {},
   "outputs": [
    {
     "data": {
      "text/html": [
       "<style  type=\"text/css\" >\n",
       "</style><table id=\"T_fef74_\" ><thead>    <tr>        <th class=\"blank level0\" ></th>        <th class=\"col_heading level0 col0\" >CONDUCTOR</th>        <th class=\"col_heading level0 col1\" >PASAJERO</th>        <th class=\"col_heading level0 col2\" >CICLISTA</th>        <th class=\"col_heading level0 col3\" >MOTOCICLISTA</th>        <th class=\"col_heading level0 col4\" >FILA_TOTAL</th>    </tr></thead><tbody>\n",
       "                <tr>\n",
       "                        <th id=\"T_fef74_level0_row0\" class=\"row_heading level0 row0\" >MASCULINO</th>\n",
       "                        <td id=\"T_fef74_row0_col0\" class=\"data row0 col0\" >0.51%</td>\n",
       "                        <td id=\"T_fef74_row0_col1\" class=\"data row0 col1\" >7.72%</td>\n",
       "                        <td id=\"T_fef74_row0_col2\" class=\"data row0 col2\" >1.03%</td>\n",
       "                        <td id=\"T_fef74_row0_col3\" class=\"data row0 col3\" >4.45%</td>\n",
       "                        <td id=\"T_fef74_row0_col4\" class=\"data row0 col4\" >13.71%</td>\n",
       "            </tr>\n",
       "            <tr>\n",
       "                        <th id=\"T_fef74_level0_row1\" class=\"row_heading level0 row1\" >FEMENINO</th>\n",
       "                        <td id=\"T_fef74_row1_col0\" class=\"data row1 col0\" >2.41%</td>\n",
       "                        <td id=\"T_fef74_row1_col1\" class=\"data row1 col1\" >69.68%</td>\n",
       "                        <td id=\"T_fef74_row1_col2\" class=\"data row1 col2\" >11.75%</td>\n",
       "                        <td id=\"T_fef74_row1_col3\" class=\"data row1 col3\" >2.45%</td>\n",
       "                        <td id=\"T_fef74_row1_col4\" class=\"data row1 col4\" >86.29%</td>\n",
       "            </tr>\n",
       "            <tr>\n",
       "                        <th id=\"T_fef74_level0_row2\" class=\"row_heading level0 row2\" >COL_TOTAL</th>\n",
       "                        <td id=\"T_fef74_row2_col0\" class=\"data row2 col0\" >2.92%</td>\n",
       "                        <td id=\"T_fef74_row2_col1\" class=\"data row2 col1\" >77.40%</td>\n",
       "                        <td id=\"T_fef74_row2_col2\" class=\"data row2 col2\" >12.78%</td>\n",
       "                        <td id=\"T_fef74_row2_col3\" class=\"data row2 col3\" >6.90%</td>\n",
       "                        <td id=\"T_fef74_row2_col4\" class=\"data row2 col4\" >100.00%</td>\n",
       "            </tr>\n",
       "    </tbody></table>"
      ],
      "text/plain": [
       "<pandas.io.formats.style.Styler at 0x28fd0893c10>"
      ]
     },
     "execution_count": 34,
     "metadata": {},
     "output_type": "execute_result"
    }
   ],
   "source": [
    "tabla_relativa=genero_actor/genero_actor.loc[\"COL_TOTAL\",\"FILA_TOTAL\"]\n",
    "tabla_relativa.style.format(format_dict)"
   ]
  },
  {
   "cell_type": "markdown",
   "id": "696828f5",
   "metadata": {},
   "source": [
    "Frecuencias Condicionadas(Proporciones) por columnas(Cada valor/total de la condicion de la columna). Ejemplo: Entre el año 2015 al 2019 de los conductores de automóviles implicados en accidentes, el 82.64% son mujeres. "
   ]
  },
  {
   "cell_type": "code",
   "execution_count": 35,
   "id": "b5d65630",
   "metadata": {},
   "outputs": [
    {
     "data": {
      "text/html": [
       "<style  type=\"text/css\" >\n",
       "</style><table id=\"T_9dbe5_\" ><thead>    <tr>        <th class=\"blank level0\" ></th>        <th class=\"col_heading level0 col0\" >CONDUCTOR</th>        <th class=\"col_heading level0 col1\" >PASAJERO</th>        <th class=\"col_heading level0 col2\" >CICLISTA</th>        <th class=\"col_heading level0 col3\" >MOTOCICLISTA</th>    </tr></thead><tbody>\n",
       "                <tr>\n",
       "                        <th id=\"T_9dbe5_level0_row0\" class=\"row_heading level0 row0\" >MASCULINO</th>\n",
       "                        <td id=\"T_9dbe5_row0_col0\" class=\"data row0 col0\" >17.36%</td>\n",
       "                        <td id=\"T_9dbe5_row0_col1\" class=\"data row0 col1\" >9.97%</td>\n",
       "                        <td id=\"T_9dbe5_row0_col2\" class=\"data row0 col2\" >8.04%</td>\n",
       "                        <td id=\"T_9dbe5_row0_col3\" class=\"data row0 col3\" >64.51%</td>\n",
       "            </tr>\n",
       "            <tr>\n",
       "                        <th id=\"T_9dbe5_level0_row1\" class=\"row_heading level0 row1\" >FEMENINO</th>\n",
       "                        <td id=\"T_9dbe5_row1_col0\" class=\"data row1 col0\" >82.64%</td>\n",
       "                        <td id=\"T_9dbe5_row1_col1\" class=\"data row1 col1\" >90.03%</td>\n",
       "                        <td id=\"T_9dbe5_row1_col2\" class=\"data row1 col2\" >91.96%</td>\n",
       "                        <td id=\"T_9dbe5_row1_col3\" class=\"data row1 col3\" >35.49%</td>\n",
       "            </tr>\n",
       "            <tr>\n",
       "                        <th id=\"T_9dbe5_level0_row2\" class=\"row_heading level0 row2\" >COL_TOTAL</th>\n",
       "                        <td id=\"T_9dbe5_row2_col0\" class=\"data row2 col0\" >100.00%</td>\n",
       "                        <td id=\"T_9dbe5_row2_col1\" class=\"data row2 col1\" >100.00%</td>\n",
       "                        <td id=\"T_9dbe5_row2_col2\" class=\"data row2 col2\" >100.00%</td>\n",
       "                        <td id=\"T_9dbe5_row2_col3\" class=\"data row2 col3\" >100.00%</td>\n",
       "            </tr>\n",
       "    </tbody></table>"
      ],
      "text/plain": [
       "<pandas.io.formats.style.Styler at 0x28fd0e13c70>"
      ]
     },
     "execution_count": 35,
     "metadata": {},
     "output_type": "execute_result"
    }
   ],
   "source": [
    "condicionada1=genero_actor/genero_actor.loc[\"COL_TOTAL\"]\n",
    "condicionada1[[\"CONDUCTOR\",\"PASAJERO\",\"CICLISTA\",\"MOTOCICLISTA\"]].style.format(format_dict)"
   ]
  },
  {
   "cell_type": "markdown",
   "id": "da3e2bd8",
   "metadata": {},
   "source": [
    "Frecuencias Condicionadas(Proporciones) por Filas(Cada valor/total de la condicion de la fila). Ejemplo: Del 2015 al 2019 de los siniestros de tránsito en Bogotá, de la población masculina el 32.49% de los accidentados fueron motociclistas."
   ]
  },
  {
   "cell_type": "code",
   "execution_count": 36,
   "id": "9009d708",
   "metadata": {},
   "outputs": [
    {
     "data": {
      "text/html": [
       "<style  type=\"text/css\" >\n",
       "</style><table id=\"T_f5aac_\" ><thead>    <tr>        <th class=\"blank level0\" ></th>        <th class=\"col_heading level0 col0\" >CONDUCTOR</th>        <th class=\"col_heading level0 col1\" >PASAJERO</th>        <th class=\"col_heading level0 col2\" >CICLISTA</th>        <th class=\"col_heading level0 col3\" >MOTOCICLISTA</th>        <th class=\"col_heading level0 col4\" >FILA_TOTAL</th>    </tr></thead><tbody>\n",
       "                <tr>\n",
       "                        <th id=\"T_f5aac_level0_row0\" class=\"row_heading level0 row0\" >MASCULINO</th>\n",
       "                        <td id=\"T_f5aac_row0_col0\" class=\"data row0 col0\" >3.70%</td>\n",
       "                        <td id=\"T_f5aac_row0_col1\" class=\"data row0 col1\" >56.32%</td>\n",
       "                        <td id=\"T_f5aac_row0_col2\" class=\"data row0 col2\" >7.49%</td>\n",
       "                        <td id=\"T_f5aac_row0_col3\" class=\"data row0 col3\" >32.49%</td>\n",
       "                        <td id=\"T_f5aac_row0_col4\" class=\"data row0 col4\" >100.00%</td>\n",
       "            </tr>\n",
       "            <tr>\n",
       "                        <th id=\"T_f5aac_level0_row1\" class=\"row_heading level0 row1\" >FEMENINO</th>\n",
       "                        <td id=\"T_f5aac_row1_col0\" class=\"data row1 col0\" >2.80%</td>\n",
       "                        <td id=\"T_f5aac_row1_col1\" class=\"data row1 col1\" >80.75%</td>\n",
       "                        <td id=\"T_f5aac_row1_col2\" class=\"data row1 col2\" >13.62%</td>\n",
       "                        <td id=\"T_f5aac_row1_col3\" class=\"data row1 col3\" >2.84%</td>\n",
       "                        <td id=\"T_f5aac_row1_col4\" class=\"data row1 col4\" >100.00%</td>\n",
       "            </tr>\n",
       "    </tbody></table>"
      ],
      "text/plain": [
       "<pandas.io.formats.style.Styler at 0x28fd08c12b0>"
      ]
     },
     "execution_count": 36,
     "metadata": {},
     "output_type": "execute_result"
    }
   ],
   "source": [
    "condicionada2=genero_actor.div(genero_actor[\"FILA_TOTAL\"],\n",
    "                   axis=0)\n",
    "condicionada2.loc[[\"MASCULINO\",\"FEMENINO\"]].style.format(format_dict)"
   ]
  }
 ],
 "metadata": {
  "kernelspec": {
   "display_name": "Python 3",
   "language": "python",
   "name": "python3"
  },
  "language_info": {
   "codemirror_mode": {
    "name": "ipython",
    "version": 3
   },
   "file_extension": ".py",
   "mimetype": "text/x-python",
   "name": "python",
   "nbconvert_exporter": "python",
   "pygments_lexer": "ipython3",
   "version": "3.8.5"
  }
 },
 "nbformat": 4,
 "nbformat_minor": 5
}
