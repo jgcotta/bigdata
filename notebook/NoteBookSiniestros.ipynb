{
 "cells": [
  {
   "cell_type": "markdown",
   "id": "19b1456f",
   "metadata": {},
   "source": [
    "## SINIESTROS VIALES EN BOGOTÁ\n",
    "\n",
    "## Introducción:\n",
    "\n",
    "El presente trabajo, tiene como finalidad, explorar el contexto del conjunto de datos seleccionado, el cual está basado en la recolección de información sobre siniestros viales en Bogotá, los cuales se presentaron el las localidades pertenecientes a la ciudad. Los datos de accidentes se recopilaron desde enero de 2015 hasta diciembre de 2019. Actualmente el dataset contempla 173.400 registros con 21 variables.\n",
    "\n",
    "\n",
    "Dataset de Datos Abiertos Bogotá : Accidentes Viales Bogotá\n",
    "\n",
    "\n",
    "## Enmarcar la preocupación:\n",
    "\n",
    "* ¿Cuales son las circunstancias y factores que influyen en la ocurrencia de accidentes de tránsito?\n",
    "* Índice de mortalidad a causa de accidentes automovilísticos.\n",
    "* Factores de riesgo para aseguramiento de vehículos.\n",
    "* Estado de la infraestructura vial (carreteras, señalización, geología)\n",
    "* Influencia de las normas de tránsito (seguridad asociada al vehículo, normas de tránsito)\n",
    "* Pericia en conducción de vehículos (¿El conductor está capacitado para conducir un vehículo?) \n",
    "\n",
    "\n",
    "## Identificación de interesados\n",
    "\n",
    "\n",
    "-\tCiudadanos (Peatones, Conductores, Acompañantes)\n",
    "-\tAutoridades de tránsito\n",
    "-            Gobernantes\n",
    "-\tEmpresas Aseguradoras\n",
    "\n",
    "\n",
    "\n",
    "\n",
    "\n",
    "## Problema, Necesidad, Oportunidad, Deseo, Objetivo: Pregunta inicial\n",
    "\n",
    "* **Problema**\n",
    "\n",
    "¿ Cual es el grado de afectación asociado a los siniestros viales, así como los factores que contribuyen a que se presente, identificando el impacto en la movilidad de la población?.\n",
    "\n",
    "* **Necesidad**\n",
    "\n",
    "¿Cómo se puede mitigar la ocurrencia de accidentes de tránsito en la ciudad con respecto a los factores que contribuyen a su generación?\n",
    "\n",
    "* **Oportunidad**\n",
    "\n",
    "Partir de la información existente en la plataforma de datos abierto para poder realizar un análisis de información que permita profundizar en la necesidad de tomar determinadas decisiones con respecto a los factores que influyen en la ocurrencia de los siniestros viales.\n",
    "\n",
    "* **Deseo**\n",
    "\n",
    "Mediante la utilización de los datos de la alcaldía se quiere identificar los factores preponderantes que influyen en la generación de accidentes de tránsito, que permita realizar planes de acción preventivos para la mitigación del riesgo en torno a los siniestros viales de la ciudad y bajar la tasa de ocurrencia.\n",
    "\n",
    "## Objetivo\n",
    "\n",
    "* Identificar cuales son los factores principales  que incrementan el riesgo de siniestros viales en la ciudad.\n",
    "\n",
    "## Análisis de porqué, qué y para que\n",
    "\n",
    "El objetivo del estudio permitirá establecer bajo qué condiciones y variables ocurren los accidentes de tránsito, identificar de qué manera se pueden mitigar y el impacto que tendría en la conservación de la vida de las personas.\n",
    "\n",
    "\n",
    "## Objetivos de análisis:\n",
    "\n",
    "**Obtener gráficas e indicadores  que permitan  la toma de decisiones, de acuerdo al análisis de la información de los accidentes, para contribuir a la reducción del problema.**\n",
    "* Identificar las vías con mayor riesgo de accidentabilidad.(Mejorar infraestructura)\n",
    "* Establecer las condiciones de riesgo para la toma de pólizas.\n",
    "* Generar normas de tránsito que contribuyan a la mitigación del problema.\n",
    "\n",
    "**Análisis de Tareas y las decisiones que se toman en el proceso**\n",
    "\n",
    "* Establecer los factores de riesgo vial que contribuyen a la generación de accidentes de tránsito.\n",
    "* Identificación de variables preponderantes en la ocurrencia de siniestros viales.\n",
    "* Establecer relación de variables que influyen en el incremento de accidentes de tránsito.\n",
    "* Normas que se deben modificar o adicionar a la reglamentación de tránsito.\n",
    "* Mejoras en la infraestructura vial.\n",
    "* Cobertura de amparos a nivel de pólizas de seguros de vehículos.\n",
    "\n",
    "Preguntas iniciales de análisis que pueden apoyar el objetivo y las decisiones: Descriptivas, Diagnósticas, Predictivas. \n",
    "\n",
    "**1.6.1. Descriptivas:**\n",
    "\n",
    "* ¿Por qué se generan los accidentes de tránsito?\n",
    "* ¿Qué factores son determinantes para que ocurra un siniestro vial?\n",
    "* ¿Qué tan conveniente es o no asegurar un vehículo?\n",
    "* ¿Cual es la localidad en donde más se presentan siniestros?\n",
    "* ¿Cual es la condición de los ciudadanos involucrados en accidentes de tránsito?\n",
    "* ¿Qué tan probable es que ocurra un siniestro vial bajo determinadas condiciones?\n",
    "* ¿Cuáles medidas se deberían reglamentar en la normatividad de tránsito para reducir los índices de accidentes?\n",
    "* ¿Cual es la franja en donde se presentan los siniestros?\n",
    "\n",
    "**1.6.2. Diagnósticas:**\n",
    "\n",
    "* ¿Cómo disminuir la ocurrencia de siniestros viales en la ciudad para reducir los índices de accidentalidad?\n",
    "* ¿Cómo incrementar la seguridad vial para proteger a los ciudadanos?\n",
    "* ¿Cómo formular normas para mitigar la cantidad de siniestros?\n",
    "* ¿Tiene alguna relación el género y la edad en la ocurrencia de siniestros?\n",
    "* ¿Tiene alguna relación la clase y servicio del vehículo en la ocurrencia de siniestros?\n",
    "\n",
    "**1.6.3. Predictivas:**\n",
    "\n",
    "* ¿Los factores identificados influyen en la disminución de siniestros viales?\n",
    "* ¿El análisis realizado permitirá identificar los riesgos a los que están expuestos los ciudadanos con respecto a siniestros viales?\n",
    "* ¿Debe restringirse la circulación de alguna clase de vehículo en determinada franja de horario de circulación?\n",
    "\n",
    "\n",
    "## Curar los datos\n",
    "\n",
    "* Identificar Variables y su Metadata\n",
    "\n",
    "\n",
    "Adicionalmente, el conjunto de datos encontrado, contempla los siguientes atributos:"
   ]
  },
  {
   "cell_type": "markdown",
   "id": "f4b63b55",
   "metadata": {},
   "source": [
    "# Importar Librerias"
   ]
  },
  {
   "cell_type": "code",
   "execution_count": 1,
   "id": "ea3aee40",
   "metadata": {
    "scrolled": false
   },
   "outputs": [],
   "source": [
    "import pandas as pd # procesar datos, archivo CSV I/O (e.g. pd.read_csv)\n",
    "import numpy as np  # linear algebra\n",
    "import statistics \n",
    "import math\n",
    "import matplotlib.pyplot as plt \n",
    "import seaborn as sns; sns.set_theme()\n",
    "import scipy.stats as stats\n",
    "from sklearn import linear_model\n",
    "from sklearn import preprocessing\n",
    "from sklearn.model_selection import train_test_split\n",
    "\n",
    "from pandas_profiling import ProfileReport\n",
    "from pandas_profiling.utils.cache import cache_file\n",
    "#from darts import TimeSeries\n",
    "%matplotlib inline"
   ]
  },
  {
   "cell_type": "markdown",
   "id": "b869f9ce",
   "metadata": {},
   "source": [
    "# Limpieza y cargar de datos\n",
    "\n",
    "Carga de archivo usando Pandas"
   ]
  },
  {
   "cell_type": "code",
   "execution_count": 2,
   "id": "0bfb36ae",
   "metadata": {},
   "outputs": [
    {
     "data": {
      "text/html": [
       "<div>\n",
       "<style scoped>\n",
       "    .dataframe tbody tr th:only-of-type {\n",
       "        vertical-align: middle;\n",
       "    }\n",
       "\n",
       "    .dataframe tbody tr th {\n",
       "        vertical-align: top;\n",
       "    }\n",
       "\n",
       "    .dataframe thead th {\n",
       "        text-align: right;\n",
       "    }\n",
       "</style>\n",
       "<table border=\"1\" class=\"dataframe\">\n",
       "  <thead>\n",
       "    <tr style=\"text-align: right;\">\n",
       "      <th></th>\n",
       "      <th>CODIGO_SINIESTRO</th>\n",
       "      <th>DIA</th>\n",
       "      <th>ACTOR_VIAL</th>\n",
       "      <th>ESTADO</th>\n",
       "      <th>EDAD</th>\n",
       "      <th>SEXO</th>\n",
       "      <th>TIPO_AUTOMOVIL</th>\n",
       "      <th>SERVICIO</th>\n",
       "      <th>ENFUGA</th>\n",
       "      <th>FECHA</th>\n",
       "      <th>HORA</th>\n",
       "      <th>HORA_NUM</th>\n",
       "      <th>GRAVEDAD</th>\n",
       "      <th>TIPO_ACCIDENTE</th>\n",
       "      <th>TOTAL_MUERTOS</th>\n",
       "      <th>TOTAL_HERIDOS</th>\n",
       "      <th>LOCALIDAD</th>\n",
       "      <th>DISENO_LUGAR</th>\n",
       "    </tr>\n",
       "  </thead>\n",
       "  <tbody>\n",
       "    <tr>\n",
       "      <th>0</th>\n",
       "      <td>4401420</td>\n",
       "      <td>jueves</td>\n",
       "      <td>CONDUCTOR</td>\n",
       "      <td>ILESO</td>\n",
       "      <td>20</td>\n",
       "      <td>MASCULINO</td>\n",
       "      <td>Automovil</td>\n",
       "      <td>Particular</td>\n",
       "      <td>N</td>\n",
       "      <td>2015-01-01</td>\n",
       "      <td>13:00:00</td>\n",
       "      <td>13</td>\n",
       "      <td>Solo Danos</td>\n",
       "      <td>Choque</td>\n",
       "      <td>0</td>\n",
       "      <td>0</td>\n",
       "      <td>Ciudad Bolivar</td>\n",
       "      <td>Tramo de Via,</td>\n",
       "    </tr>\n",
       "    <tr>\n",
       "      <th>1</th>\n",
       "      <td>4401420</td>\n",
       "      <td>jueves</td>\n",
       "      <td>CONDUCTOR</td>\n",
       "      <td>ILESO</td>\n",
       "      <td>27</td>\n",
       "      <td>MASCULINO</td>\n",
       "      <td>Automovil</td>\n",
       "      <td>Publico</td>\n",
       "      <td>N</td>\n",
       "      <td>2015-01-01</td>\n",
       "      <td>13:00:00</td>\n",
       "      <td>13</td>\n",
       "      <td>Solo Danos</td>\n",
       "      <td>Choque</td>\n",
       "      <td>0</td>\n",
       "      <td>0</td>\n",
       "      <td>Ciudad Bolivar</td>\n",
       "      <td>Tramo de Via,</td>\n",
       "    </tr>\n",
       "    <tr>\n",
       "      <th>2</th>\n",
       "      <td>4401442</td>\n",
       "      <td>jueves</td>\n",
       "      <td>PASAJERO</td>\n",
       "      <td>HERIDO</td>\n",
       "      <td>22</td>\n",
       "      <td>MASCULINO</td>\n",
       "      <td>Motocicleta</td>\n",
       "      <td>Particular</td>\n",
       "      <td>N</td>\n",
       "      <td>2015-01-01</td>\n",
       "      <td>16:15:00</td>\n",
       "      <td>16</td>\n",
       "      <td>Con Heridos</td>\n",
       "      <td>Atropello</td>\n",
       "      <td>0</td>\n",
       "      <td>3</td>\n",
       "      <td>San Cristobal</td>\n",
       "      <td>Interseccion,</td>\n",
       "    </tr>\n",
       "    <tr>\n",
       "      <th>3</th>\n",
       "      <td>4401442</td>\n",
       "      <td>jueves</td>\n",
       "      <td>MOTOCICLISTA</td>\n",
       "      <td>HERIDO</td>\n",
       "      <td>42</td>\n",
       "      <td>MASCULINO</td>\n",
       "      <td>Motocicleta</td>\n",
       "      <td>Particular</td>\n",
       "      <td>N</td>\n",
       "      <td>2015-01-01</td>\n",
       "      <td>16:15:00</td>\n",
       "      <td>16</td>\n",
       "      <td>Con Heridos</td>\n",
       "      <td>Atropello</td>\n",
       "      <td>0</td>\n",
       "      <td>3</td>\n",
       "      <td>San Cristobal</td>\n",
       "      <td>Interseccion,</td>\n",
       "    </tr>\n",
       "    <tr>\n",
       "      <th>4</th>\n",
       "      <td>4401430</td>\n",
       "      <td>jueves</td>\n",
       "      <td>MOTOCICLISTA</td>\n",
       "      <td>HERIDO</td>\n",
       "      <td>27</td>\n",
       "      <td>MASCULINO</td>\n",
       "      <td>Motocicleta</td>\n",
       "      <td>Oficial</td>\n",
       "      <td>N</td>\n",
       "      <td>2015-01-01</td>\n",
       "      <td>7:15:00</td>\n",
       "      <td>7</td>\n",
       "      <td>Con Heridos</td>\n",
       "      <td>Volcamiento</td>\n",
       "      <td>0</td>\n",
       "      <td>1</td>\n",
       "      <td>Ciudad Bolivar</td>\n",
       "      <td>Tramo de Via,</td>\n",
       "    </tr>\n",
       "  </tbody>\n",
       "</table>\n",
       "</div>"
      ],
      "text/plain": [
       "   CODIGO_SINIESTRO     DIA    ACTOR_VIAL  ESTADO  EDAD       SEXO  \\\n",
       "0           4401420  jueves     CONDUCTOR   ILESO    20  MASCULINO   \n",
       "1           4401420  jueves     CONDUCTOR   ILESO    27  MASCULINO   \n",
       "2           4401442  jueves      PASAJERO  HERIDO    22  MASCULINO   \n",
       "3           4401442  jueves  MOTOCICLISTA  HERIDO    42  MASCULINO   \n",
       "4           4401430  jueves  MOTOCICLISTA  HERIDO    27  MASCULINO   \n",
       "\n",
       "  TIPO_AUTOMOVIL    SERVICIO ENFUGA      FECHA      HORA  HORA_NUM  \\\n",
       "0      Automovil  Particular      N 2015-01-01  13:00:00        13   \n",
       "1      Automovil     Publico      N 2015-01-01  13:00:00        13   \n",
       "2    Motocicleta  Particular      N 2015-01-01  16:15:00        16   \n",
       "3    Motocicleta  Particular      N 2015-01-01  16:15:00        16   \n",
       "4    Motocicleta     Oficial      N 2015-01-01   7:15:00         7   \n",
       "\n",
       "      GRAVEDAD TIPO_ACCIDENTE  TOTAL_MUERTOS  TOTAL_HERIDOS       LOCALIDAD  \\\n",
       "0   Solo Danos         Choque              0              0  Ciudad Bolivar   \n",
       "1   Solo Danos         Choque              0              0  Ciudad Bolivar   \n",
       "2  Con Heridos      Atropello              0              3   San Cristobal   \n",
       "3  Con Heridos      Atropello              0              3   San Cristobal   \n",
       "4  Con Heridos    Volcamiento              0              1  Ciudad Bolivar   \n",
       "\n",
       "    DISENO_LUGAR  \n",
       "0  Tramo de Via,  \n",
       "1  Tramo de Via,  \n",
       "2  Interseccion,  \n",
       "3  Interseccion,  \n",
       "4  Tramo de Via,  "
      ]
     },
     "execution_count": 2,
     "metadata": {},
     "output_type": "execute_result"
    }
   ],
   "source": [
    "file_name = cache_file(\n",
    "    \"datasetSiniestro2.csv\",\n",
    "    \"https://raw.githubusercontent.com/jgcotta/bigdata/master/datasetSiniestro.csv\",\n",
    ")\n",
    "\n",
    "#If we need date\n",
    "df = pd.read_csv(file_name, sep=';',parse_dates=[9])\n",
    "\n",
    "#df.dtypes\n",
    "df.head(5)"
   ]
  },
  {
   "cell_type": "code",
   "execution_count": 3,
   "id": "cb4f5300",
   "metadata": {
    "scrolled": false
   },
   "outputs": [
    {
     "name": "stdout",
     "output_type": "stream",
     "text": [
      "<class 'pandas.core.frame.DataFrame'>\n",
      "RangeIndex: 352737 entries, 0 to 352736\n",
      "Data columns (total 18 columns):\n",
      " #   Column            Non-Null Count   Dtype         \n",
      "---  ------            --------------   -----         \n",
      " 0   CODIGO_SINIESTRO  352737 non-null  int64         \n",
      " 1   DIA               352737 non-null  object        \n",
      " 2   ACTOR_VIAL        352737 non-null  object        \n",
      " 3   ESTADO            352737 non-null  object        \n",
      " 4   EDAD              352737 non-null  int64         \n",
      " 5   SEXO              352737 non-null  object        \n",
      " 6   TIPO_AUTOMOVIL    352737 non-null  object        \n",
      " 7   SERVICIO          352737 non-null  object        \n",
      " 8   ENFUGA            352737 non-null  object        \n",
      " 9   FECHA             352737 non-null  datetime64[ns]\n",
      " 10  HORA              352737 non-null  object        \n",
      " 11  HORA_NUM          352737 non-null  int64         \n",
      " 12  GRAVEDAD          352737 non-null  object        \n",
      " 13  TIPO_ACCIDENTE    352737 non-null  object        \n",
      " 14  TOTAL_MUERTOS     352737 non-null  int64         \n",
      " 15  TOTAL_HERIDOS     352737 non-null  int64         \n",
      " 16  LOCALIDAD         352737 non-null  object        \n",
      " 17  DISENO_LUGAR      352737 non-null  object        \n",
      "dtypes: datetime64[ns](1), int64(5), object(12)\n",
      "memory usage: 48.4+ MB\n"
     ]
    }
   ],
   "source": [
    "df.info()"
   ]
  },
  {
   "cell_type": "code",
   "execution_count": 4,
   "id": "9739d576",
   "metadata": {
    "scrolled": false
   },
   "outputs": [
    {
     "data": {
      "text/html": [
       "<div>\n",
       "<style scoped>\n",
       "    .dataframe tbody tr th:only-of-type {\n",
       "        vertical-align: middle;\n",
       "    }\n",
       "\n",
       "    .dataframe tbody tr th {\n",
       "        vertical-align: top;\n",
       "    }\n",
       "\n",
       "    .dataframe thead th {\n",
       "        text-align: right;\n",
       "    }\n",
       "</style>\n",
       "<table border=\"1\" class=\"dataframe\">\n",
       "  <thead>\n",
       "    <tr style=\"text-align: right;\">\n",
       "      <th></th>\n",
       "      <th>CODIGO_SINIESTRO</th>\n",
       "      <th>EDAD</th>\n",
       "      <th>HORA_NUM</th>\n",
       "      <th>TOTAL_MUERTOS</th>\n",
       "      <th>TOTAL_HERIDOS</th>\n",
       "    </tr>\n",
       "  </thead>\n",
       "  <tbody>\n",
       "    <tr>\n",
       "      <th>count</th>\n",
       "      <td>3.527370e+05</td>\n",
       "      <td>352737.000000</td>\n",
       "      <td>352737.000000</td>\n",
       "      <td>352737.000000</td>\n",
       "      <td>352737.000000</td>\n",
       "    </tr>\n",
       "    <tr>\n",
       "      <th>mean</th>\n",
       "      <td>6.549421e+06</td>\n",
       "      <td>37.728965</td>\n",
       "      <td>12.831126</td>\n",
       "      <td>0.014138</td>\n",
       "      <td>0.695799</td>\n",
       "    </tr>\n",
       "    <tr>\n",
       "      <th>std</th>\n",
       "      <td>2.865247e+06</td>\n",
       "      <td>13.434792</td>\n",
       "      <td>5.391856</td>\n",
       "      <td>0.125487</td>\n",
       "      <td>2.599171</td>\n",
       "    </tr>\n",
       "    <tr>\n",
       "      <th>min</th>\n",
       "      <td>4.401419e+06</td>\n",
       "      <td>0.000000</td>\n",
       "      <td>0.000000</td>\n",
       "      <td>0.000000</td>\n",
       "      <td>0.000000</td>\n",
       "    </tr>\n",
       "    <tr>\n",
       "      <th>25%</th>\n",
       "      <td>4.445881e+06</td>\n",
       "      <td>27.000000</td>\n",
       "      <td>9.000000</td>\n",
       "      <td>0.000000</td>\n",
       "      <td>0.000000</td>\n",
       "    </tr>\n",
       "    <tr>\n",
       "      <th>50%</th>\n",
       "      <td>4.490195e+06</td>\n",
       "      <td>36.000000</td>\n",
       "      <td>13.000000</td>\n",
       "      <td>0.000000</td>\n",
       "      <td>0.000000</td>\n",
       "    </tr>\n",
       "    <tr>\n",
       "      <th>75%</th>\n",
       "      <td>1.046367e+07</td>\n",
       "      <td>47.000000</td>\n",
       "      <td>17.000000</td>\n",
       "      <td>0.000000</td>\n",
       "      <td>1.000000</td>\n",
       "    </tr>\n",
       "    <tr>\n",
       "      <th>max</th>\n",
       "      <td>1.051427e+07</td>\n",
       "      <td>120.000000</td>\n",
       "      <td>23.000000</td>\n",
       "      <td>4.000000</td>\n",
       "      <td>72.000000</td>\n",
       "    </tr>\n",
       "  </tbody>\n",
       "</table>\n",
       "</div>"
      ],
      "text/plain": [
       "       CODIGO_SINIESTRO           EDAD       HORA_NUM  TOTAL_MUERTOS  \\\n",
       "count      3.527370e+05  352737.000000  352737.000000  352737.000000   \n",
       "mean       6.549421e+06      37.728965      12.831126       0.014138   \n",
       "std        2.865247e+06      13.434792       5.391856       0.125487   \n",
       "min        4.401419e+06       0.000000       0.000000       0.000000   \n",
       "25%        4.445881e+06      27.000000       9.000000       0.000000   \n",
       "50%        4.490195e+06      36.000000      13.000000       0.000000   \n",
       "75%        1.046367e+07      47.000000      17.000000       0.000000   \n",
       "max        1.051427e+07     120.000000      23.000000       4.000000   \n",
       "\n",
       "       TOTAL_HERIDOS  \n",
       "count  352737.000000  \n",
       "mean        0.695799  \n",
       "std         2.599171  \n",
       "min         0.000000  \n",
       "25%         0.000000  \n",
       "50%         0.000000  \n",
       "75%         1.000000  \n",
       "max        72.000000  "
      ]
     },
     "execution_count": 4,
     "metadata": {},
     "output_type": "execute_result"
    }
   ],
   "source": [
    "df.describe()"
   ]
  },
  {
   "cell_type": "markdown",
   "id": "584bb632",
   "metadata": {},
   "source": [
    "Convertir variables numéricas a Categoricas"
   ]
  },
  {
   "cell_type": "code",
   "execution_count": 5,
   "id": "fff91499",
   "metadata": {},
   "outputs": [
    {
     "name": "stdout",
     "output_type": "stream",
     "text": [
      "<class 'pandas.core.frame.DataFrame'>\n",
      "RangeIndex: 352737 entries, 0 to 352736\n",
      "Data columns (total 18 columns):\n",
      " #   Column            Non-Null Count   Dtype         \n",
      "---  ------            --------------   -----         \n",
      " 0   CODIGO_SINIESTRO  352737 non-null  int64         \n",
      " 1   DIA               352737 non-null  object        \n",
      " 2   ACTOR_VIAL        352737 non-null  object        \n",
      " 3   ESTADO            352737 non-null  object        \n",
      " 4   EDAD              352737 non-null  int64         \n",
      " 5   SEXO              352737 non-null  object        \n",
      " 6   TIPO_AUTOMOVIL    352737 non-null  object        \n",
      " 7   SERVICIO          352737 non-null  object        \n",
      " 8   ENFUGA            352737 non-null  object        \n",
      " 9   FECHA             352737 non-null  datetime64[ns]\n",
      " 10  HORA              352737 non-null  object        \n",
      " 11  HORA_NUM          352737 non-null  int64         \n",
      " 12  GRAVEDAD          352737 non-null  object        \n",
      " 13  TIPO_ACCIDENTE    352737 non-null  object        \n",
      " 14  TOTAL_MUERTOS     352737 non-null  int64         \n",
      " 15  TOTAL_HERIDOS     352737 non-null  int64         \n",
      " 16  LOCALIDAD         352737 non-null  object        \n",
      " 17  DISENO_LUGAR      352737 non-null  object        \n",
      "dtypes: datetime64[ns](1), int64(5), object(12)\n",
      "memory usage: 48.4+ MB\n"
     ]
    }
   ],
   "source": [
    "#df[['EDAD', 'LOCALIDAD', 'TOTAL_MUERTOS', 'TOTAL_HERIDOS']].apply(lambda x: x.astype('category'))\n",
    "\n",
    "#cols = ['EDAD', 'HORA_NUM', 'TOTAL_MUERTOS', 'TOTAL_HERIDOS']\n",
    "\n",
    "#df['EDAD'] = df['EDAD'].astype('category')\n",
    "#df['LOCALIDAD'] = df['LOCALIDAD'].astype('category')\n",
    "\n",
    "\n",
    "df.info();"
   ]
  },
  {
   "cell_type": "markdown",
   "id": "0ce1196a",
   "metadata": {},
   "source": [
    "# Correlación Lineal (Variables Numéricas)"
   ]
  },
  {
   "cell_type": "code",
   "execution_count": 6,
   "id": "a5622e45",
   "metadata": {
    "scrolled": true
   },
   "outputs": [],
   "source": [
    "df.corr();"
   ]
  },
  {
   "cell_type": "code",
   "execution_count": 7,
   "id": "72857762",
   "metadata": {},
   "outputs": [
    {
     "data": {
      "text/plain": [
       "<AxesSubplot:>"
      ]
     },
     "execution_count": 7,
     "metadata": {},
     "output_type": "execute_result"
    },
    {
     "data": {
      "image/png": "[encoded data removed]",
      "text/plain": [
       "<Figure size 432x288 with 2 Axes>"
      ]
     },
     "metadata": {
      "needs_background": "light"
     },
     "output_type": "display_data"
    }
   ],
   "source": [
    "sns.heatmap(df.corr(),data=df,annot=True)"
   ]
  },
  {
   "cell_type": "code",
   "execution_count": 8,
   "id": "d0ef34d7",
   "metadata": {},
   "outputs": [],
   "source": [
    "d=df.loc[:, ['EDAD', 'TOTAL_HERIDOS', 'SEXO', 'TOTAL_MUERTOS']]"
   ]
  },
  {
   "cell_type": "code",
   "execution_count": 9,
   "id": "53b512ba",
   "metadata": {
    "scrolled": false
   },
   "outputs": [
    {
     "data": {
      "text/html": [
       "<div>\n",
       "<style scoped>\n",
       "    .dataframe tbody tr th:only-of-type {\n",
       "        vertical-align: middle;\n",
       "    }\n",
       "\n",
       "    .dataframe tbody tr th {\n",
       "        vertical-align: top;\n",
       "    }\n",
       "\n",
       "    .dataframe thead th {\n",
       "        text-align: right;\n",
       "    }\n",
       "</style>\n",
       "<table border=\"1\" class=\"dataframe\">\n",
       "  <thead>\n",
       "    <tr style=\"text-align: right;\">\n",
       "      <th></th>\n",
       "      <th>EDAD</th>\n",
       "      <th>TOTAL_HERIDOS</th>\n",
       "      <th>TOTAL_MUERTOS</th>\n",
       "    </tr>\n",
       "  </thead>\n",
       "  <tbody>\n",
       "    <tr>\n",
       "      <th>EDAD</th>\n",
       "      <td>1.000000</td>\n",
       "      <td>-0.057049</td>\n",
       "      <td>-0.022085</td>\n",
       "    </tr>\n",
       "    <tr>\n",
       "      <th>TOTAL_HERIDOS</th>\n",
       "      <td>-0.057049</td>\n",
       "      <td>1.000000</td>\n",
       "      <td>0.103783</td>\n",
       "    </tr>\n",
       "    <tr>\n",
       "      <th>TOTAL_MUERTOS</th>\n",
       "      <td>-0.022085</td>\n",
       "      <td>0.103783</td>\n",
       "      <td>1.000000</td>\n",
       "    </tr>\n",
       "  </tbody>\n",
       "</table>\n",
       "</div>"
      ],
      "text/plain": [
       "                   EDAD  TOTAL_HERIDOS  TOTAL_MUERTOS\n",
       "EDAD           1.000000      -0.057049      -0.022085\n",
       "TOTAL_HERIDOS -0.057049       1.000000       0.103783\n",
       "TOTAL_MUERTOS -0.022085       0.103783       1.000000"
      ]
     },
     "execution_count": 9,
     "metadata": {},
     "output_type": "execute_result"
    }
   ],
   "source": [
    "dx = d.corr(method ='pearson')\n",
    "dx"
   ]
  },
  {
   "cell_type": "code",
   "execution_count": 10,
   "id": "1e984fe1",
   "metadata": {
    "scrolled": true
   },
   "outputs": [
    {
     "data": {
      "image/png": "[encoded data removed]",
      "text/plain": [
       "<Figure size 360x216 with 1 Axes>"
      ]
     },
     "metadata": {
      "needs_background": "light"
     },
     "output_type": "display_data"
    }
   ],
   "source": [
    "fig, ax = plt.subplots(figsize = ( 5 , 3 ))\n",
    "\n",
    "sns.scatterplot(ax = ax, x=\"EDAD\", y=\"TOTAL_HERIDOS\", data=df);\n",
    "# Set label for x-axis\n",
    "ax.set_xlabel( \"Edad\" , size = 12 )\n",
    "  \n",
    "# Set label for y-axis\n",
    "ax.set_ylabel( \"Total Heridos\" , size = 12 )\n",
    "  \n",
    "# Set title for plot\n",
    "ax.set_title( \"CORRELACIÓN EDAD - TOTAL HERIDOS\" , size = 20 )\n",
    "plt.show()"
   ]
  },
  {
   "cell_type": "markdown",
   "id": "5256df4e",
   "metadata": {},
   "source": [
    "Quitar duplicados."
   ]
  },
  {
   "cell_type": "code",
   "execution_count": 11,
   "id": "8b8af313",
   "metadata": {},
   "outputs": [],
   "source": [
    "drop_duplicates=df.drop_duplicates(subset=['CODIGO_SINIESTRO'])"
   ]
  },
  {
   "cell_type": "markdown",
   "id": "380129bb",
   "metadata": {},
   "source": [
    "# Análisis exploratorio variables categóricas"
   ]
  },
  {
   "cell_type": "markdown",
   "id": "f4ca86d1",
   "metadata": {},
   "source": [
    "Histograma de Edad de implicados en accidentes"
   ]
  },
  {
   "cell_type": "code",
   "execution_count": 61,
   "id": "34b8875e",
   "metadata": {
    "scrolled": true
   },
   "outputs": [
    {
     "data": {
      "text/plain": [
       "array([[<AxesSubplot:title={'center':'EDAD'}>]], dtype=object)"
      ]
     },
     "execution_count": 61,
     "metadata": {},
     "output_type": "execute_result"
    },
    {
     "data": {
      "image/png": "[encoded data removed]",
      "text/plain": [
       "<Figure size 648x288 with 1 Axes>"
      ]
     },
     "metadata": {
      "needs_background": "light"
     },
     "output_type": "display_data"
    }
   ],
   "source": [
    "drop_duplicates.hist(column='EDAD',    # Column to plot\n",
    "                   figsize=(9,4),   # Plot size\n",
    "                   bins=20) "
   ]
  },
  {
   "cell_type": "markdown",
   "id": "c55a398f",
   "metadata": {},
   "source": [
    "Agrupación de la población por actor víal"
   ]
  },
  {
   "cell_type": "code",
   "execution_count": 13,
   "id": "cbd86f2a",
   "metadata": {},
   "outputs": [
    {
     "data": {
      "text/html": [
       "<div>\n",
       "<style scoped>\n",
       "    .dataframe tbody tr th:only-of-type {\n",
       "        vertical-align: middle;\n",
       "    }\n",
       "\n",
       "    .dataframe tbody tr th {\n",
       "        vertical-align: top;\n",
       "    }\n",
       "\n",
       "    .dataframe thead th {\n",
       "        text-align: right;\n",
       "    }\n",
       "</style>\n",
       "<table border=\"1\" class=\"dataframe\">\n",
       "  <thead>\n",
       "    <tr style=\"text-align: right;\">\n",
       "      <th>col_0</th>\n",
       "      <th>Cantidad</th>\n",
       "    </tr>\n",
       "    <tr>\n",
       "      <th>ACTOR_VIAL</th>\n",
       "      <th></th>\n",
       "    </tr>\n",
       "  </thead>\n",
       "  <tbody>\n",
       "    <tr>\n",
       "      <th>CICLISTA</th>\n",
       "      <td>1825</td>\n",
       "    </tr>\n",
       "    <tr>\n",
       "      <th>CONDUCTOR</th>\n",
       "      <td>145341</td>\n",
       "    </tr>\n",
       "    <tr>\n",
       "      <th>MOTOCICLISTA</th>\n",
       "      <td>22076</td>\n",
       "    </tr>\n",
       "    <tr>\n",
       "      <th>PASAJERO</th>\n",
       "      <td>4064</td>\n",
       "    </tr>\n",
       "  </tbody>\n",
       "</table>\n",
       "</div>"
      ],
      "text/plain": [
       "col_0         Cantidad\n",
       "ACTOR_VIAL            \n",
       "CICLISTA          1825\n",
       "CONDUCTOR       145341\n",
       "MOTOCICLISTA     22076\n",
       "PASAJERO          4064"
      ]
     },
     "execution_count": 13,
     "metadata": {},
     "output_type": "execute_result"
    }
   ],
   "source": [
    "tf2 = pd.crosstab(index=drop_duplicates[\"ACTOR_VIAL\"],columns=\"Cantidad\") \n",
    "tf2"
   ]
  },
  {
   "cell_type": "markdown",
   "id": "6cf7e8f7",
   "metadata": {},
   "source": [
    "Se obtiene la proporción del tipo de personas involucradas."
   ]
  },
  {
   "cell_type": "code",
   "execution_count": 14,
   "id": "4539b065",
   "metadata": {},
   "outputs": [
    {
     "data": {
      "text/plain": [
       "<AxesSubplot:title={'center':'ACTOR VIAL'}>"
      ]
     },
     "execution_count": 14,
     "metadata": {},
     "output_type": "execute_result"
    },
    {
     "data": {
      "image/png": "[encoded data removed]",
      "text/plain": [
       "<Figure size 432x288 with 1 Axes>"
      ]
     },
     "metadata": {},
     "output_type": "display_data"
    }
   ],
   "source": [
    "drop_duplicates.ACTOR_VIAL.value_counts().plot(kind='pie', ylabel = \"\", title=\"ACTOR VIAL\")"
   ]
  },
  {
   "cell_type": "code",
   "execution_count": 15,
   "id": "b8c2fc8e",
   "metadata": {},
   "outputs": [
    {
     "data": {
      "text/html": [
       "<div>\n",
       "<style scoped>\n",
       "    .dataframe tbody tr th:only-of-type {\n",
       "        vertical-align: middle;\n",
       "    }\n",
       "\n",
       "    .dataframe tbody tr th {\n",
       "        vertical-align: top;\n",
       "    }\n",
       "\n",
       "    .dataframe thead th {\n",
       "        text-align: right;\n",
       "    }\n",
       "</style>\n",
       "<table border=\"1\" class=\"dataframe\">\n",
       "  <thead>\n",
       "    <tr style=\"text-align: right;\">\n",
       "      <th>col_0</th>\n",
       "      <th>Cantidad</th>\n",
       "    </tr>\n",
       "    <tr>\n",
       "      <th>ACTOR_VIAL</th>\n",
       "      <th></th>\n",
       "    </tr>\n",
       "  </thead>\n",
       "  <tbody>\n",
       "    <tr>\n",
       "      <th>CICLISTA</th>\n",
       "      <td>0.010531</td>\n",
       "    </tr>\n",
       "    <tr>\n",
       "      <th>CONDUCTOR</th>\n",
       "      <td>0.838638</td>\n",
       "    </tr>\n",
       "    <tr>\n",
       "      <th>MOTOCICLISTA</th>\n",
       "      <td>0.127382</td>\n",
       "    </tr>\n",
       "    <tr>\n",
       "      <th>PASAJERO</th>\n",
       "      <td>0.023450</td>\n",
       "    </tr>\n",
       "  </tbody>\n",
       "</table>\n",
       "</div>"
      ],
      "text/plain": [
       "col_0         Cantidad\n",
       "ACTOR_VIAL            \n",
       "CICLISTA      0.010531\n",
       "CONDUCTOR     0.838638\n",
       "MOTOCICLISTA  0.127382\n",
       "PASAJERO      0.023450"
      ]
     },
     "execution_count": 15,
     "metadata": {},
     "output_type": "execute_result"
    }
   ],
   "source": [
    "tf2/tf2.sum()"
   ]
  },
  {
   "cell_type": "code",
   "execution_count": 16,
   "id": "ef16a64e",
   "metadata": {},
   "outputs": [
    {
     "data": {
      "text/html": [
       "<div>\n",
       "<style scoped>\n",
       "    .dataframe tbody tr th:only-of-type {\n",
       "        vertical-align: middle;\n",
       "    }\n",
       "\n",
       "    .dataframe tbody tr th {\n",
       "        vertical-align: top;\n",
       "    }\n",
       "\n",
       "    .dataframe thead th {\n",
       "        text-align: right;\n",
       "    }\n",
       "</style>\n",
       "<table border=\"1\" class=\"dataframe\">\n",
       "  <thead>\n",
       "    <tr style=\"text-align: right;\">\n",
       "      <th></th>\n",
       "      <th>Frecuencia</th>\n",
       "    </tr>\n",
       "    <tr>\n",
       "      <th>SEXO</th>\n",
       "      <th></th>\n",
       "    </tr>\n",
       "  </thead>\n",
       "  <tbody>\n",
       "    <tr>\n",
       "      <th>FEMENINO</th>\n",
       "      <td>18820</td>\n",
       "    </tr>\n",
       "    <tr>\n",
       "      <th>MASCULINO</th>\n",
       "      <td>154486</td>\n",
       "    </tr>\n",
       "  </tbody>\n",
       "</table>\n",
       "</div>"
      ],
      "text/plain": [
       "           Frecuencia\n",
       "SEXO                 \n",
       "FEMENINO        18820\n",
       "MASCULINO      154486"
      ]
     },
     "execution_count": 16,
     "metadata": {},
     "output_type": "execute_result"
    }
   ],
   "source": [
    "dsexo = (drop_duplicates.groupby(\"SEXO\").agg(Frecuencia=(\"SEXO\", \"count\")).head())\n",
    "dsexo"
   ]
  },
  {
   "cell_type": "code",
   "execution_count": 17,
   "id": "8d71d465",
   "metadata": {},
   "outputs": [
    {
     "data": {
      "text/plain": [
       "<AxesSubplot:title={'center':'SEXO'}>"
      ]
     },
     "execution_count": 17,
     "metadata": {},
     "output_type": "execute_result"
    },
    {
     "data": {
      "image/png": "[encoded data removed]",
      "text/plain": [
       "<Figure size 432x288 with 1 Axes>"
      ]
     },
     "metadata": {},
     "output_type": "display_data"
    }
   ],
   "source": [
    "drop_duplicates.SEXO.value_counts().plot(kind='pie', ylabel = \"\", title=\"SEXO\")"
   ]
  },
  {
   "cell_type": "markdown",
   "id": "e606a0b6",
   "metadata": {},
   "source": [
    "# PREGUNTAS DESCRIPTIVAS\n",
    "\n",
    "1. ¿Cual es el día de la semana con mayor número de accidentes del periodo entre 2015 al 2019?\n",
    "\n",
    "La día con más accidentados es el \"VIERNES\""
   ]
  },
  {
   "cell_type": "code",
   "execution_count": 18,
   "id": "7e4f88fe",
   "metadata": {
    "scrolled": true
   },
   "outputs": [
    {
     "data": {
      "text/html": [
       "<div>\n",
       "<style scoped>\n",
       "    .dataframe tbody tr th:only-of-type {\n",
       "        vertical-align: middle;\n",
       "    }\n",
       "\n",
       "    .dataframe tbody tr th {\n",
       "        vertical-align: top;\n",
       "    }\n",
       "\n",
       "    .dataframe thead th {\n",
       "        text-align: right;\n",
       "    }\n",
       "</style>\n",
       "<table border=\"1\" class=\"dataframe\">\n",
       "  <thead>\n",
       "    <tr style=\"text-align: right;\">\n",
       "      <th>col_0</th>\n",
       "      <th>Cantidad</th>\n",
       "    </tr>\n",
       "    <tr>\n",
       "      <th>DIA</th>\n",
       "      <th></th>\n",
       "    </tr>\n",
       "  </thead>\n",
       "  <tbody>\n",
       "    <tr>\n",
       "      <th>domingo</th>\n",
       "      <td>16912</td>\n",
       "    </tr>\n",
       "    <tr>\n",
       "      <th>jueves</th>\n",
       "      <td>25845</td>\n",
       "    </tr>\n",
       "    <tr>\n",
       "      <th>lunes</th>\n",
       "      <td>23797</td>\n",
       "    </tr>\n",
       "    <tr>\n",
       "      <th>martes</th>\n",
       "      <td>26839</td>\n",
       "    </tr>\n",
       "    <tr>\n",
       "      <th>miercoles</th>\n",
       "      <td>25936</td>\n",
       "    </tr>\n",
       "    <tr>\n",
       "      <th>sabado</th>\n",
       "      <td>26125</td>\n",
       "    </tr>\n",
       "    <tr>\n",
       "      <th>viernes</th>\n",
       "      <td>27852</td>\n",
       "    </tr>\n",
       "  </tbody>\n",
       "</table>\n",
       "</div>"
      ],
      "text/plain": [
       "col_0      Cantidad\n",
       "DIA                \n",
       "domingo       16912\n",
       "jueves        25845\n",
       "lunes         23797\n",
       "martes        26839\n",
       "miercoles     25936\n",
       "sabado        26125\n",
       "viernes       27852"
      ]
     },
     "execution_count": 18,
     "metadata": {},
     "output_type": "execute_result"
    }
   ],
   "source": [
    "tf3 = pd.crosstab(index=drop_duplicates[\"DIA\"], \n",
    "                     columns=\"Cantidad\") \n",
    "tf3"
   ]
  },
  {
   "cell_type": "code",
   "execution_count": 19,
   "id": "e672d613",
   "metadata": {},
   "outputs": [
    {
     "data": {
      "text/plain": [
       "<AxesSubplot:title={'center':'DIA'}>"
      ]
     },
     "execution_count": 19,
     "metadata": {},
     "output_type": "execute_result"
    },
    {
     "data": {
      "image/png": "[encoded data removed]",
      "text/plain": [
       "<Figure size 432x288 with 1 Axes>"
      ]
     },
     "metadata": {},
     "output_type": "display_data"
    }
   ],
   "source": [
    "df.DIA.value_counts().plot(kind='pie', ylabel = \"\", title=\"DIA\")"
   ]
  },
  {
   "cell_type": "code",
   "execution_count": 20,
   "id": "fecd233c",
   "metadata": {},
   "outputs": [
    {
     "data": {
      "image/png": "[encoded data removed]",
      "text/plain": [
       "<Figure size 720x288 with 1 Axes>"
      ]
     },
     "metadata": {
      "needs_background": "light"
     },
     "output_type": "display_data"
    }
   ],
   "source": [
    "#tf3.plot.line(stacked=True)\n",
    "\n",
    "line,ax = plt.subplots(figsize=(10,4))\n",
    "# Set title for plot\n",
    "ax.set_title(\"Accidentes Por Día\", fontsize=20)\n",
    "# Set label for y-axis\n",
    "ax.set_xlabel( \"Día\" , size = 12 )\n",
    "sns.lineplot(x = \"DIA\", y = \"Cantidad\", data = tf3)\n",
    "plt.show()\n"
   ]
  },
  {
   "cell_type": "markdown",
   "id": "4c459d53",
   "metadata": {},
   "source": [
    "2. ¿Cual es la localidad con mayor número de accidentes del periodo entre 2015 al 2019?\n",
    "\n",
    "La tendencia indica que la localidad con mayor número de accidentes para el periodo es \"KENNEDY\""
   ]
  },
  {
   "cell_type": "code",
   "execution_count": 21,
   "id": "6c4f2b6d",
   "metadata": {},
   "outputs": [
    {
     "data": {
      "text/plain": [
       "20"
      ]
     },
     "execution_count": 21,
     "metadata": {},
     "output_type": "execute_result"
    }
   ],
   "source": [
    "#df.LOCALIDAD\n",
    "localidades = drop_duplicates.LOCALIDAD.unique()\n",
    "len(localidades)"
   ]
  },
  {
   "cell_type": "code",
   "execution_count": 22,
   "id": "f7628133",
   "metadata": {
    "scrolled": false
   },
   "outputs": [
    {
     "data": {
      "text/plain": [
       "Kennedy               19436\n",
       "Usaquen               17693\n",
       "Engativa              17615\n",
       "Suba                  15687\n",
       "Fontibon              13865\n",
       "Puente Aranda         12079\n",
       "Chapinero             10614\n",
       "Barrios Unidos         9447\n",
       "Teusaquillo            9352\n",
       "Bosa                   8271\n",
       "Ciudad Bolivar         6794\n",
       "Los Martires           5898\n",
       "Santa Fe               5035\n",
       "Tunjuelito             4698\n",
       "San Cristobal          4671\n",
       "Rafael Uribe Uribe     4388\n",
       "Antonio Narino         3430\n",
       "Usme                   3427\n",
       "La Candelaria           901\n",
       "Sumapaz                   5\n",
       "Name: LOCALIDAD, dtype: int64"
      ]
     },
     "execution_count": 22,
     "metadata": {},
     "output_type": "execute_result"
    }
   ],
   "source": [
    "localidades_por_accidente= drop_duplicates.LOCALIDAD.value_counts()\n",
    "localidades_por_accidente"
   ]
  },
  {
   "cell_type": "code",
   "execution_count": 23,
   "id": "30658080",
   "metadata": {
    "scrolled": false
   },
   "outputs": [
    {
     "data": {
      "text/plain": [
       "<AxesSubplot:>"
      ]
     },
     "execution_count": 23,
     "metadata": {},
     "output_type": "execute_result"
    },
    {
     "data": {
      "image/png": "[encoded data removed]",
      "text/plain": [
       "<Figure size 432x288 with 1 Axes>"
      ]
     },
     "metadata": {
      "needs_background": "light"
     },
     "output_type": "display_data"
    }
   ],
   "source": [
    "localidades_por_accidente.plot(kind='barh')"
   ]
  },
  {
   "cell_type": "markdown",
   "id": "ac05f1f7",
   "metadata": {},
   "source": [
    "3. ¿Cual es la hora con mayor indice accidentalidad del periodo entre 2015 al 2019?"
   ]
  },
  {
   "cell_type": "code",
   "execution_count": 24,
   "id": "eb4bee32",
   "metadata": {},
   "outputs": [],
   "source": [
    "dhora = pd.crosstab(index=drop_duplicates[\"HORA_NUM\"], \n",
    "                     columns=\"Cantidad\") "
   ]
  },
  {
   "cell_type": "code",
   "execution_count": 25,
   "id": "8fae4420",
   "metadata": {
    "scrolled": true
   },
   "outputs": [
    {
     "data": {
      "text/html": [
       "<div>\n",
       "<style scoped>\n",
       "    .dataframe tbody tr th:only-of-type {\n",
       "        vertical-align: middle;\n",
       "    }\n",
       "\n",
       "    .dataframe tbody tr th {\n",
       "        vertical-align: top;\n",
       "    }\n",
       "\n",
       "    .dataframe thead th {\n",
       "        text-align: right;\n",
       "    }\n",
       "</style>\n",
       "<table border=\"1\" class=\"dataframe\">\n",
       "  <thead>\n",
       "    <tr style=\"text-align: right;\">\n",
       "      <th>col_0</th>\n",
       "      <th>Cantidad</th>\n",
       "    </tr>\n",
       "    <tr>\n",
       "      <th>HORA_NUM</th>\n",
       "      <th></th>\n",
       "    </tr>\n",
       "  </thead>\n",
       "  <tbody>\n",
       "    <tr>\n",
       "      <th>14</th>\n",
       "      <td>11454</td>\n",
       "    </tr>\n",
       "  </tbody>\n",
       "</table>\n",
       "</div>"
      ],
      "text/plain": [
       "col_0     Cantidad\n",
       "HORA_NUM          \n",
       "14           11454"
      ]
     },
     "execution_count": 25,
     "metadata": {},
     "output_type": "execute_result"
    }
   ],
   "source": [
    "maximo = dhora[dhora.Cantidad == dhora.Cantidad.max()]\n",
    "maximo"
   ]
  },
  {
   "cell_type": "code",
   "execution_count": 26,
   "id": "72eda8fc",
   "metadata": {
    "scrolled": true
   },
   "outputs": [
    {
     "data": {
      "image/png": "[encoded data removed]",
      "text/plain": [
       "<Figure size 1440x360 with 1 Axes>"
      ]
     },
     "metadata": {
      "needs_background": "light"
     },
     "output_type": "display_data"
    }
   ],
   "source": [
    "line,ax = plt.subplots(figsize=(20,5))\n",
    "# Set title for plot\n",
    "ax.set_title(\"Accidentes Por Hora\", fontsize=20)\n",
    "# Set label for y-axis\n",
    "ax.set_xlabel( \"Hora\" , size = 12 )\n",
    "sns.lineplot(x = \"HORA_NUM\", y = \"Cantidad\", data = dhora)\n",
    "plt.show()"
   ]
  },
  {
   "cell_type": "markdown",
   "id": "6f64ae21",
   "metadata": {},
   "source": [
    "# Series de Tiempo"
   ]
  },
  {
   "cell_type": "markdown",
   "id": "a9b26d91",
   "metadata": {},
   "source": [
    "4. ¿Cúal fue la fecha con mayor indice de accidentalidad del año 2019?"
   ]
  },
  {
   "cell_type": "code",
   "execution_count": 27,
   "id": "c4d86f80",
   "metadata": {
    "scrolled": true
   },
   "outputs": [
    {
     "data": {
      "text/html": [
       "<div>\n",
       "<style scoped>\n",
       "    .dataframe tbody tr th:only-of-type {\n",
       "        vertical-align: middle;\n",
       "    }\n",
       "\n",
       "    .dataframe tbody tr th {\n",
       "        vertical-align: top;\n",
       "    }\n",
       "\n",
       "    .dataframe thead th {\n",
       "        text-align: right;\n",
       "    }\n",
       "</style>\n",
       "<table border=\"1\" class=\"dataframe\">\n",
       "  <thead>\n",
       "    <tr style=\"text-align: right;\">\n",
       "      <th>col_0</th>\n",
       "      <th>Cantidad</th>\n",
       "    </tr>\n",
       "    <tr>\n",
       "      <th>FECHA</th>\n",
       "      <th></th>\n",
       "    </tr>\n",
       "  </thead>\n",
       "  <tbody>\n",
       "    <tr>\n",
       "      <th>2019-06-12</th>\n",
       "      <td>155</td>\n",
       "    </tr>\n",
       "  </tbody>\n",
       "</table>\n",
       "</div>"
      ],
      "text/plain": [
       "col_0       Cantidad\n",
       "FECHA               \n",
       "2019-06-12       155"
      ]
     },
     "execution_count": 27,
     "metadata": {},
     "output_type": "execute_result"
    }
   ],
   "source": [
    "start_date = \"2019-1-1\"\n",
    "end_date = \"2019-12-31\"\n",
    "after_start_date = drop_duplicates[\"FECHA\"] >= start_date\n",
    "before_end_date = drop_duplicates[\"FECHA\"] <= end_date\n",
    "between_two_dates = after_start_date & before_end_date\n",
    "filtered_dates = drop_duplicates.loc[between_two_dates]\n",
    "tf4 = pd.crosstab(index=filtered_dates[\"FECHA\"], columns=\"Cantidad\") \n",
    "maximo = tf4[tf4.Cantidad == tf4.Cantidad.max()]\n",
    "maximo"
   ]
  },
  {
   "cell_type": "code",
   "execution_count": 28,
   "id": "699930b2",
   "metadata": {
    "scrolled": false
   },
   "outputs": [
    {
     "data": {
      "image/png": "[encoded data removed]",
      "text/plain": [
       "<Figure size 1440x360 with 1 Axes>"
      ]
     },
     "metadata": {
      "needs_background": "light"
     },
     "output_type": "display_data"
    }
   ],
   "source": [
    "line,ax = plt.subplots(figsize=(20,5))\n",
    "ax.set_title(\"Accidentes Por Fecha\", fontsize=20)\n",
    "sns.lineplot(x = \"FECHA\", y = \"Cantidad\", data = tf4)\n",
    "plt.show()"
   ]
  },
  {
   "cell_type": "markdown",
   "id": "8ee5780a",
   "metadata": {},
   "source": [
    "# HIPOTESIS DIAGNÓSTICAS"
   ]
  },
  {
   "cell_type": "markdown",
   "id": "d7fb2fad",
   "metadata": {},
   "source": [
    "**Hipótesis Diagnóstica 1**"
   ]
  },
  {
   "cell_type": "markdown",
   "id": "d2ba7b0f",
   "metadata": {},
   "source": [
    "\\begin{align}\n",
    "       H_{0} : \\; El\\;género\\;NO\\;se\\;relaciona\\;con\\;el\\;tipo\\;de\\;afectación\\;del\\;individuo\\;en\\;un\\;accidente \\\\\n",
    "       H_{A} : \\; El\\;género\\;se\\;relaciona\\;con\\;el\\;tipo\\;de\\;afectación\\;del\\;individuo\\;en\\;un\\;accidente\\\\\n",
    "\\end{align}"
   ]
  },
  {
   "cell_type": "markdown",
   "id": "e41ebf76",
   "metadata": {},
   "source": [
    "Se halla tabla de contingencia"
   ]
  },
  {
   "cell_type": "code",
   "execution_count": 29,
   "id": "df33dd0c",
   "metadata": {
    "scrolled": true
   },
   "outputs": [
    {
     "name": "stdout",
     "output_type": "stream",
     "text": [
      "Tabla Contingencia :-\n",
      " ESTADO     HERIDO   ILESO  MUERTO\n",
      "SEXO                             \n",
      "FEMENINO    20362   27761     225\n",
      "MASCULINO   41050  262170    1169\n"
     ]
    }
   ],
   "source": [
    "tabla_contingenciah1=pd.crosstab(df[\"SEXO\"],df[\"ESTADO\"])\n",
    "print('Tabla Contingencia :-\\n',tabla_contingenciah1)"
   ]
  },
  {
   "cell_type": "code",
   "execution_count": 30,
   "id": "1a36de21",
   "metadata": {},
   "outputs": [
    {
     "name": "stdout",
     "output_type": "stream",
     "text": [
      "Valores Observados :-\n",
      " [[ 20362  27761    225]\n",
      " [ 41050 262170   1169]]\n"
     ]
    }
   ],
   "source": [
    "#Valores Observados\n",
    "valores_observados= tabla_contingenciah1.values \n",
    "print(\"Valores Observados :-\\n\",valores_observados)"
   ]
  },
  {
   "cell_type": "code",
   "execution_count": 31,
   "id": "29278245",
   "metadata": {},
   "outputs": [
    {
     "name": "stdout",
     "output_type": "stream",
     "text": [
      "Valores esperados :\n",
      " [[8.41745373e+03 3.97394773e+04 1.91069017e+02]\n",
      " [5.29945463e+04 2.50191523e+05 1.20293098e+03]]\n"
     ]
    }
   ],
   "source": [
    "#Valores esperados\n",
    "import scipy.stats\n",
    "b=scipy.stats.chi2_contingency(valores_observados)\n",
    "valores_esperados = b[3]\n",
    "print(\"Valores esperados :\\n\",valores_esperados)"
   ]
  },
  {
   "cell_type": "code",
   "execution_count": 32,
   "id": "5f960cc3",
   "metadata": {},
   "outputs": [
    {
     "name": "stdout",
     "output_type": "stream",
     "text": [
      "Grados de Libertad: 2\n"
     ]
    }
   ],
   "source": [
    "#Grados de Libertad\n",
    "numero_filas=len(tabla_contingenciah1.iloc[0:2,0])\n",
    "numero_columnas=len(tabla_contingenciah1.iloc[0,0:3])\n",
    "gradoslibertad=(numero_filas-1)*(numero_columnas-1)\n",
    "print(\"Grados de Libertad:\",gradoslibertad)"
   ]
  },
  {
   "cell_type": "code",
   "execution_count": 33,
   "id": "c73ab0fa",
   "metadata": {},
   "outputs": [],
   "source": [
    "#Nivel Significancia 5%\n",
    "alpha=0.05"
   ]
  },
  {
   "cell_type": "code",
   "execution_count": 34,
   "id": "3ec0e606",
   "metadata": {},
   "outputs": [
    {
     "name": "stdout",
     "output_type": "stream",
     "text": [
      "chi-square statistic: 23825.881262314288\n"
     ]
    }
   ],
   "source": [
    "#chi-square statistic - χ2\n",
    "from scipy.stats import chi2\n",
    "chi_square=sum([(o-e)**2./e for o,e in zip(valores_observados,valores_esperados)])\n",
    "chi_square_statistic=chi_square[0]+chi_square[1]\n",
    "print(\"chi-square statistic:\",chi_square_statistic)"
   ]
  },
  {
   "cell_type": "code",
   "execution_count": 35,
   "id": "ec2638fe",
   "metadata": {},
   "outputs": [
    {
     "name": "stdout",
     "output_type": "stream",
     "text": [
      "critical_value: 5.991464547107979\n"
     ]
    }
   ],
   "source": [
    "#valor critico\n",
    "critical_value=chi2.ppf(q=1-alpha,df=gradoslibertad)\n",
    "print('critical_value:',critical_value)"
   ]
  },
  {
   "cell_type": "code",
   "execution_count": 36,
   "id": "d809cf03",
   "metadata": {},
   "outputs": [
    {
     "name": "stdout",
     "output_type": "stream",
     "text": [
      "p-value: 0.0\n"
     ]
    }
   ],
   "source": [
    "#p-valor\n",
    "p_value=1-chi2.cdf(x=chi_square_statistic,df=gradoslibertad)\n",
    "print('p-value:',p_value)"
   ]
  },
  {
   "cell_type": "code",
   "execution_count": 37,
   "id": "ca9ed870",
   "metadata": {},
   "outputs": [
    {
     "name": "stdout",
     "output_type": "stream",
     "text": [
      "Nivel Significancia:  0.05\n",
      "Grados de Libertad:  2\n",
      "Estadístico Chi Cuadrado: 23825.881262314288\n",
      "Valor Crítico: 5.991464547107979\n",
      "p-valor: 0.0\n"
     ]
    }
   ],
   "source": [
    "#Resumen de valores obtenidos\n",
    "print('Nivel Significancia: ',alpha)\n",
    "print('Grados de Libertad: ',gradoslibertad)\n",
    "print('Estadístico Chi Cuadrado:',chi_square_statistic)\n",
    "print('Valor Crítico:',critical_value)\n",
    "print('p-valor:',p_value)"
   ]
  },
  {
   "cell_type": "code",
   "execution_count": 38,
   "id": "32866fc4",
   "metadata": {},
   "outputs": [
    {
     "name": "stdout",
     "output_type": "stream",
     "text": [
      "Se rechaza la hipótesis nula H0, por tanto existe relación entre el género y la gravedad del sujeto en el accidente\n"
     ]
    }
   ],
   "source": [
    "#Conclusión\n",
    "if chi_square_statistic>=critical_value:\n",
    "    print(\"Se rechaza la hipótesis nula H0, por tanto existe relación entre el género y la gravedad del sujeto en el accidente\")\n",
    "else:\n",
    "    print(\"Se acepta la hipótesis nula H0, por tanto no existe relación entre el género y la gravedad del sujeto en el accidente\")\n",
    "#También se puede comparar el p-valor con el valor de significancia"
   ]
  },
  {
   "cell_type": "markdown",
   "id": "4e3348b8",
   "metadata": {},
   "source": [
    "**Hipótesis Diagnóstica 2**"
   ]
  },
  {
   "cell_type": "markdown",
   "id": "a41b5f2f",
   "metadata": {},
   "source": [
    " \\begin{align*}\n",
    "       H_{0} : \\; El\\;tipo\\;de\\;vehículo\\;\\textbf{NO}\\;influye\\;en\\;la\\;gravedad\\;del\\;accidente \\\\\n",
    "       H_{A} : \\; El\\;tipo\\;de\\;vehículo\\;\\textbf{SÍ}\\;influye\\;en\\;la\\;gravedad\\;del\\;accidente\\\\\n",
    "    \\end{align*}"
   ]
  },
  {
   "cell_type": "code",
   "execution_count": 39,
   "id": "f84f55ef",
   "metadata": {},
   "outputs": [
    {
     "data": {
      "text/html": [
       "<div>\n",
       "<style scoped>\n",
       "    .dataframe tbody tr th:only-of-type {\n",
       "        vertical-align: middle;\n",
       "    }\n",
       "\n",
       "    .dataframe tbody tr th {\n",
       "        vertical-align: top;\n",
       "    }\n",
       "\n",
       "    .dataframe thead th {\n",
       "        text-align: right;\n",
       "    }\n",
       "</style>\n",
       "<table border=\"1\" class=\"dataframe\">\n",
       "  <thead>\n",
       "    <tr style=\"text-align: right;\">\n",
       "      <th>TIPO_ACCIDENTE</th>\n",
       "      <th>Atropello</th>\n",
       "      <th>Autolesion</th>\n",
       "      <th>Caida de ocupante</th>\n",
       "      <th>Choque</th>\n",
       "      <th>Incendio</th>\n",
       "      <th>Otro</th>\n",
       "      <th>Volcamiento</th>\n",
       "      <th>All</th>\n",
       "    </tr>\n",
       "    <tr>\n",
       "      <th>TIPO_AUTOMOVIL</th>\n",
       "      <th></th>\n",
       "      <th></th>\n",
       "      <th></th>\n",
       "      <th></th>\n",
       "      <th></th>\n",
       "      <th></th>\n",
       "      <th></th>\n",
       "      <th></th>\n",
       "    </tr>\n",
       "  </thead>\n",
       "  <tbody>\n",
       "    <tr>\n",
       "      <th>Automovil</th>\n",
       "      <td>5300</td>\n",
       "      <td>0</td>\n",
       "      <td>134</td>\n",
       "      <td>66788</td>\n",
       "      <td>12</td>\n",
       "      <td>57</td>\n",
       "      <td>333</td>\n",
       "      <td>72624</td>\n",
       "    </tr>\n",
       "    <tr>\n",
       "      <th>Bicicleta</th>\n",
       "      <td>464</td>\n",
       "      <td>0</td>\n",
       "      <td>12</td>\n",
       "      <td>1288</td>\n",
       "      <td>0</td>\n",
       "      <td>5</td>\n",
       "      <td>139</td>\n",
       "      <td>1908</td>\n",
       "    </tr>\n",
       "    <tr>\n",
       "      <th>Bus</th>\n",
       "      <td>1912</td>\n",
       "      <td>0</td>\n",
       "      <td>3278</td>\n",
       "      <td>16024</td>\n",
       "      <td>2</td>\n",
       "      <td>511</td>\n",
       "      <td>56</td>\n",
       "      <td>21783</td>\n",
       "    </tr>\n",
       "    <tr>\n",
       "      <th>Buseta</th>\n",
       "      <td>182</td>\n",
       "      <td>0</td>\n",
       "      <td>365</td>\n",
       "      <td>2325</td>\n",
       "      <td>1</td>\n",
       "      <td>35</td>\n",
       "      <td>10</td>\n",
       "      <td>2918</td>\n",
       "    </tr>\n",
       "    <tr>\n",
       "      <th>Camion, Furgon</th>\n",
       "      <td>396</td>\n",
       "      <td>0</td>\n",
       "      <td>18</td>\n",
       "      <td>9249</td>\n",
       "      <td>0</td>\n",
       "      <td>28</td>\n",
       "      <td>76</td>\n",
       "      <td>9767</td>\n",
       "    </tr>\n",
       "    <tr>\n",
       "      <th>Camioneta</th>\n",
       "      <td>1398</td>\n",
       "      <td>0</td>\n",
       "      <td>16</td>\n",
       "      <td>21973</td>\n",
       "      <td>4</td>\n",
       "      <td>21</td>\n",
       "      <td>135</td>\n",
       "      <td>23547</td>\n",
       "    </tr>\n",
       "    <tr>\n",
       "      <th>Campero</th>\n",
       "      <td>410</td>\n",
       "      <td>0</td>\n",
       "      <td>4</td>\n",
       "      <td>7129</td>\n",
       "      <td>0</td>\n",
       "      <td>5</td>\n",
       "      <td>38</td>\n",
       "      <td>7586</td>\n",
       "    </tr>\n",
       "    <tr>\n",
       "      <th>Cuatrimoto</th>\n",
       "      <td>0</td>\n",
       "      <td>0</td>\n",
       "      <td>1</td>\n",
       "      <td>0</td>\n",
       "      <td>0</td>\n",
       "      <td>0</td>\n",
       "      <td>0</td>\n",
       "      <td>1</td>\n",
       "    </tr>\n",
       "    <tr>\n",
       "      <th>Microbus</th>\n",
       "      <td>353</td>\n",
       "      <td>0</td>\n",
       "      <td>410</td>\n",
       "      <td>4519</td>\n",
       "      <td>1</td>\n",
       "      <td>20</td>\n",
       "      <td>29</td>\n",
       "      <td>5332</td>\n",
       "    </tr>\n",
       "    <tr>\n",
       "      <th>Motocarro</th>\n",
       "      <td>5</td>\n",
       "      <td>0</td>\n",
       "      <td>0</td>\n",
       "      <td>34</td>\n",
       "      <td>0</td>\n",
       "      <td>0</td>\n",
       "      <td>1</td>\n",
       "      <td>40</td>\n",
       "    </tr>\n",
       "    <tr>\n",
       "      <th>Motocicleta</th>\n",
       "      <td>7663</td>\n",
       "      <td>14</td>\n",
       "      <td>46</td>\n",
       "      <td>14405</td>\n",
       "      <td>1</td>\n",
       "      <td>21</td>\n",
       "      <td>1335</td>\n",
       "      <td>23485</td>\n",
       "    </tr>\n",
       "    <tr>\n",
       "      <th>Motociclo</th>\n",
       "      <td>1</td>\n",
       "      <td>0</td>\n",
       "      <td>0</td>\n",
       "      <td>1</td>\n",
       "      <td>0</td>\n",
       "      <td>0</td>\n",
       "      <td>0</td>\n",
       "      <td>2</td>\n",
       "    </tr>\n",
       "    <tr>\n",
       "      <th>Tractocamion</th>\n",
       "      <td>56</td>\n",
       "      <td>0</td>\n",
       "      <td>4</td>\n",
       "      <td>2430</td>\n",
       "      <td>0</td>\n",
       "      <td>5</td>\n",
       "      <td>17</td>\n",
       "      <td>2512</td>\n",
       "    </tr>\n",
       "    <tr>\n",
       "      <th>Volqueta</th>\n",
       "      <td>65</td>\n",
       "      <td>0</td>\n",
       "      <td>4</td>\n",
       "      <td>1714</td>\n",
       "      <td>0</td>\n",
       "      <td>1</td>\n",
       "      <td>17</td>\n",
       "      <td>1801</td>\n",
       "    </tr>\n",
       "    <tr>\n",
       "      <th>All</th>\n",
       "      <td>18205</td>\n",
       "      <td>14</td>\n",
       "      <td>4292</td>\n",
       "      <td>147879</td>\n",
       "      <td>21</td>\n",
       "      <td>709</td>\n",
       "      <td>2186</td>\n",
       "      <td>173306</td>\n",
       "    </tr>\n",
       "  </tbody>\n",
       "</table>\n",
       "</div>"
      ],
      "text/plain": [
       "TIPO_ACCIDENTE  Atropello  Autolesion  Caida de ocupante  Choque  Incendio  \\\n",
       "TIPO_AUTOMOVIL                                                               \n",
       "Automovil            5300           0                134   66788        12   \n",
       "Bicicleta             464           0                 12    1288         0   \n",
       "Bus                  1912           0               3278   16024         2   \n",
       "Buseta                182           0                365    2325         1   \n",
       "Camion, Furgon        396           0                 18    9249         0   \n",
       "Camioneta            1398           0                 16   21973         4   \n",
       "Campero               410           0                  4    7129         0   \n",
       "Cuatrimoto              0           0                  1       0         0   \n",
       "Microbus              353           0                410    4519         1   \n",
       "Motocarro               5           0                  0      34         0   \n",
       "Motocicleta          7663          14                 46   14405         1   \n",
       "Motociclo               1           0                  0       1         0   \n",
       "Tractocamion           56           0                  4    2430         0   \n",
       "Volqueta               65           0                  4    1714         0   \n",
       "All                 18205          14               4292  147879        21   \n",
       "\n",
       "TIPO_ACCIDENTE  Otro  Volcamiento     All  \n",
       "TIPO_AUTOMOVIL                             \n",
       "Automovil         57          333   72624  \n",
       "Bicicleta          5          139    1908  \n",
       "Bus              511           56   21783  \n",
       "Buseta            35           10    2918  \n",
       "Camion, Furgon    28           76    9767  \n",
       "Camioneta         21          135   23547  \n",
       "Campero            5           38    7586  \n",
       "Cuatrimoto         0            0       1  \n",
       "Microbus          20           29    5332  \n",
       "Motocarro          0            1      40  \n",
       "Motocicleta       21         1335   23485  \n",
       "Motociclo          0            0       2  \n",
       "Tractocamion       5           17    2512  \n",
       "Volqueta           1           17    1801  \n",
       "All              709         2186  173306  "
      ]
     },
     "execution_count": 39,
     "metadata": {},
     "output_type": "execute_result"
    }
   ],
   "source": [
    "tabla_contingenciah2=pd.crosstab(drop_duplicates.TIPO_AUTOMOVIL, drop_duplicates.TIPO_ACCIDENTE, margins=True)\n",
    "tabla_contingenciah2"
   ]
  },
  {
   "cell_type": "code",
   "execution_count": 40,
   "id": "d31ed3a9",
   "metadata": {},
   "outputs": [
    {
     "data": {
      "text/plain": [
       "(42494.11133322942,\n",
       " 0.0,\n",
       " 98,\n",
       " array([[7.62881793e+03, 5.86670975e+00, 1.79856559e+03, 6.19687979e+04,\n",
       "         8.80006463e+00, 2.97106944e+02, 9.16044822e+02, 7.26240000e+04],\n",
       "        [2.00426644e+02, 1.54131998e-01, 4.72524667e+01, 1.62806326e+03,\n",
       "         2.31197997e-01, 7.80568474e+00, 2.40666105e+01, 1.90800000e+03],\n",
       "        [2.28820419e+03, 1.75967364e+00, 5.39465662e+02, 1.85870556e+04,\n",
       "         2.63951046e+00, 8.91149008e+01, 2.74760470e+02, 2.17830000e+04],\n",
       "        [3.06522509e+02, 2.35721787e-01, 7.22655650e+01, 2.48987872e+03,\n",
       "         3.53582680e-01, 1.19376248e+01, 3.68062733e+01, 2.91800000e+03],\n",
       "        [1.02597853e+03, 7.88997496e-01, 2.41884089e+02, 8.33401148e+03,\n",
       "         1.18349624e+00, 3.99570875e+01, 1.23196323e+02, 9.76700000e+03],\n",
       "        [2.47350429e+03, 1.90217303e+00, 5.83151905e+02, 2.00922462e+04,\n",
       "         2.85325955e+00, 9.63314773e+01, 2.97010732e+02, 2.35470000e+04],\n",
       "        [7.96874488e+02, 6.12812020e-01, 1.87870657e+02, 6.47300205e+03,\n",
       "         9.19218031e-01, 3.10345516e+01, 9.56862198e+01, 7.58600000e+03],\n",
       "        [1.05045411e-01, 8.07819695e-05, 2.47654438e-02, 8.53282633e-01,\n",
       "         1.21172954e-04, 4.09102974e-03, 1.26135275e-02, 1.00000000e+00],\n",
       "        [5.60102131e+02, 4.30729461e-01, 1.32049346e+02, 4.54970300e+03,\n",
       "         6.46094192e-01, 2.18133706e+01, 6.72553287e+01, 5.33200000e+03],\n",
       "        [4.20181644e+00, 3.23127878e-03, 9.90617751e-01, 3.41313053e+01,\n",
       "         4.84691817e-03, 1.63641190e-01, 5.04541101e-01, 4.00000000e+01],\n",
       "        [2.46699148e+03, 1.89716455e+00, 5.81616447e+02, 2.00393426e+04,\n",
       "         2.84574683e+00, 9.60778334e+01, 2.96228694e+02, 2.34850000e+04],\n",
       "        [2.10090822e-01, 1.61563939e-04, 4.95308876e-02, 1.70656527e+00,\n",
       "         2.42345908e-04, 8.18205948e-03, 2.52270550e-02, 2.00000000e+00],\n",
       "        [2.63874072e+02, 2.02924307e-01, 6.22107948e+01, 2.14344597e+03,\n",
       "         3.04386461e-01, 1.02766667e+01, 3.16851811e+01, 2.51200000e+03],\n",
       "        [1.89186785e+02, 1.45488327e-01, 4.46025643e+01, 1.53676202e+03,\n",
       "         2.18232491e-01, 7.36794456e+00, 2.27169631e+01, 1.80100000e+03],\n",
       "        [1.82050000e+04, 1.40000000e+01, 4.29200000e+03, 1.47879000e+05,\n",
       "         2.10000000e+01, 7.09000000e+02, 2.18600000e+03, 1.73306000e+05]]))"
      ]
     },
     "execution_count": 40,
     "metadata": {},
     "output_type": "execute_result"
    }
   ],
   "source": [
    "stats.chi2_contingency(observed = tabla_contingenciah2)"
   ]
  },
  {
   "cell_type": "code",
   "execution_count": 41,
   "id": "ce7f05d3",
   "metadata": {},
   "outputs": [
    {
     "name": "stdout",
     "output_type": "stream",
     "text": [
      "Grados de Libertad:  98\n",
      "Estadístico Chi Cuadrado: 42494.11133322942\n",
      "p-valor: 0.0\n"
     ]
    }
   ],
   "source": [
    "#Valores Retornados:\n",
    "print('Grados de Libertad: ',98)\n",
    "print('Estadístico Chi Cuadrado:',42494.11133322942)\n",
    "print('p-valor:',0.0)\n"
   ]
  },
  {
   "cell_type": "markdown",
   "id": "6c4c52fd",
   "metadata": {},
   "source": [
    "Basado en el p-valor que es cercano a 0, se puede concluir que se rechaza la hipotesis nula, por lo tanto existe relación entre el tipo de vehículo y la gravedad del accidente."
   ]
  },
  {
   "cell_type": "markdown",
   "id": "e23451bc",
   "metadata": {},
   "source": [
    "# Cálculo de Probabilidad condicionada"
   ]
  },
  {
   "cell_type": "code",
   "execution_count": 42,
   "id": "39af8651",
   "metadata": {},
   "outputs": [
    {
     "data": {
      "text/html": [
       "<div>\n",
       "<style scoped>\n",
       "    .dataframe tbody tr th:only-of-type {\n",
       "        vertical-align: middle;\n",
       "    }\n",
       "\n",
       "    .dataframe tbody tr th {\n",
       "        vertical-align: top;\n",
       "    }\n",
       "\n",
       "    .dataframe thead th {\n",
       "        text-align: right;\n",
       "    }\n",
       "</style>\n",
       "<table border=\"1\" class=\"dataframe\">\n",
       "  <thead>\n",
       "    <tr style=\"text-align: right;\">\n",
       "      <th></th>\n",
       "      <th>CONDUCTOR</th>\n",
       "      <th>PASAJERO</th>\n",
       "      <th>CICLISTA</th>\n",
       "      <th>MOTOCICLISTA</th>\n",
       "      <th>FILA_TOTAL</th>\n",
       "    </tr>\n",
       "  </thead>\n",
       "  <tbody>\n",
       "    <tr>\n",
       "      <th>MASCULINO</th>\n",
       "      <td>1788</td>\n",
       "      <td>27229</td>\n",
       "      <td>3623</td>\n",
       "      <td>15708</td>\n",
       "      <td>48348</td>\n",
       "    </tr>\n",
       "    <tr>\n",
       "      <th>FEMENINO</th>\n",
       "      <td>8510</td>\n",
       "      <td>245795</td>\n",
       "      <td>41443</td>\n",
       "      <td>8641</td>\n",
       "      <td>304389</td>\n",
       "    </tr>\n",
       "    <tr>\n",
       "      <th>COL_TOTAL</th>\n",
       "      <td>10298</td>\n",
       "      <td>273024</td>\n",
       "      <td>45066</td>\n",
       "      <td>24349</td>\n",
       "      <td>352737</td>\n",
       "    </tr>\n",
       "  </tbody>\n",
       "</table>\n",
       "</div>"
      ],
      "text/plain": [
       "           CONDUCTOR  PASAJERO  CICLISTA  MOTOCICLISTA  FILA_TOTAL\n",
       "MASCULINO       1788     27229      3623         15708       48348\n",
       "FEMENINO        8510    245795     41443          8641      304389\n",
       "COL_TOTAL      10298    273024     45066         24349      352737"
      ]
     },
     "execution_count": 42,
     "metadata": {},
     "output_type": "execute_result"
    }
   ],
   "source": [
    "#Formart to percentage\n",
    "format_dict = {'CONDUCTOR': '{:.2%}','PASAJERO': '{:.2%}','CICLISTA': '{:.2%}','MOTOCICLISTA': '{:.2%}','FILA_TOTAL': '{:.2%}'}\n",
    "genero_actor = pd.crosstab(index=df[\"SEXO\"], \n",
    "                           columns=df[\"ACTOR_VIAL\"],margins=True)\n",
    "genero_actor.columns = [\"CONDUCTOR\",\"PASAJERO\",\"CICLISTA\",\"MOTOCICLISTA\",\"FILA_TOTAL\"]\n",
    "genero_actor.index= [\"MASCULINO\",\"FEMENINO\",\"COL_TOTAL\"]\n",
    "genero_actor"
   ]
  },
  {
   "cell_type": "markdown",
   "id": "b72396a5",
   "metadata": {},
   "source": [
    "Tabla de frecuencias Relativas: Relación entre Actor_vial y genéro implicado en sinisetro (En porcentaje), El 77.40% de los implicados en accidentes, son mujeres pasajeros de algún servicio público."
   ]
  },
  {
   "cell_type": "code",
   "execution_count": 43,
   "id": "1a2df517",
   "metadata": {},
   "outputs": [
    {
     "data": {
      "text/html": [
       "<style  type=\"text/css\" >\n",
       "</style><table id=\"T_40670_\" ><thead>    <tr>        <th class=\"blank level0\" ></th>        <th class=\"col_heading level0 col0\" >CONDUCTOR</th>        <th class=\"col_heading level0 col1\" >PASAJERO</th>        <th class=\"col_heading level0 col2\" >CICLISTA</th>        <th class=\"col_heading level0 col3\" >MOTOCICLISTA</th>        <th class=\"col_heading level0 col4\" >FILA_TOTAL</th>    </tr></thead><tbody>\n",
       "                <tr>\n",
       "                        <th id=\"T_40670_level0_row0\" class=\"row_heading level0 row0\" >MASCULINO</th>\n",
       "                        <td id=\"T_40670_row0_col0\" class=\"data row0 col0\" >0.51%</td>\n",
       "                        <td id=\"T_40670_row0_col1\" class=\"data row0 col1\" >7.72%</td>\n",
       "                        <td id=\"T_40670_row0_col2\" class=\"data row0 col2\" >1.03%</td>\n",
       "                        <td id=\"T_40670_row0_col3\" class=\"data row0 col3\" >4.45%</td>\n",
       "                        <td id=\"T_40670_row0_col4\" class=\"data row0 col4\" >13.71%</td>\n",
       "            </tr>\n",
       "            <tr>\n",
       "                        <th id=\"T_40670_level0_row1\" class=\"row_heading level0 row1\" >FEMENINO</th>\n",
       "                        <td id=\"T_40670_row1_col0\" class=\"data row1 col0\" >2.41%</td>\n",
       "                        <td id=\"T_40670_row1_col1\" class=\"data row1 col1\" >69.68%</td>\n",
       "                        <td id=\"T_40670_row1_col2\" class=\"data row1 col2\" >11.75%</td>\n",
       "                        <td id=\"T_40670_row1_col3\" class=\"data row1 col3\" >2.45%</td>\n",
       "                        <td id=\"T_40670_row1_col4\" class=\"data row1 col4\" >86.29%</td>\n",
       "            </tr>\n",
       "            <tr>\n",
       "                        <th id=\"T_40670_level0_row2\" class=\"row_heading level0 row2\" >COL_TOTAL</th>\n",
       "                        <td id=\"T_40670_row2_col0\" class=\"data row2 col0\" >2.92%</td>\n",
       "                        <td id=\"T_40670_row2_col1\" class=\"data row2 col1\" >77.40%</td>\n",
       "                        <td id=\"T_40670_row2_col2\" class=\"data row2 col2\" >12.78%</td>\n",
       "                        <td id=\"T_40670_row2_col3\" class=\"data row2 col3\" >6.90%</td>\n",
       "                        <td id=\"T_40670_row2_col4\" class=\"data row2 col4\" >100.00%</td>\n",
       "            </tr>\n",
       "    </tbody></table>"
      ],
      "text/plain": [
       "<pandas.io.formats.style.Styler at 0x207544b8820>"
      ]
     },
     "execution_count": 43,
     "metadata": {},
     "output_type": "execute_result"
    }
   ],
   "source": [
    "tabla_relativa=genero_actor/genero_actor.loc[\"COL_TOTAL\",\"FILA_TOTAL\"]\n",
    "tabla_relativa.style.format(format_dict)"
   ]
  },
  {
   "cell_type": "markdown",
   "id": "696828f5",
   "metadata": {},
   "source": [
    "Frecuencias Condicionadas(Proporciones) por columnas(Cada valor/total de la condicion de la columna). Ejemplo: Entre el año 2015 al 2019 de los conductores de automóviles implicados en accidentes, el 82.64% son mujeres. "
   ]
  },
  {
   "cell_type": "code",
   "execution_count": 44,
   "id": "b5d65630",
   "metadata": {
    "scrolled": true
   },
   "outputs": [
    {
     "data": {
      "text/html": [
       "<style  type=\"text/css\" >\n",
       "</style><table id=\"T_778a4_\" ><thead>    <tr>        <th class=\"blank level0\" ></th>        <th class=\"col_heading level0 col0\" >CONDUCTOR</th>        <th class=\"col_heading level0 col1\" >PASAJERO</th>        <th class=\"col_heading level0 col2\" >CICLISTA</th>        <th class=\"col_heading level0 col3\" >MOTOCICLISTA</th>    </tr></thead><tbody>\n",
       "                <tr>\n",
       "                        <th id=\"T_778a4_level0_row0\" class=\"row_heading level0 row0\" >MASCULINO</th>\n",
       "                        <td id=\"T_778a4_row0_col0\" class=\"data row0 col0\" >17.36%</td>\n",
       "                        <td id=\"T_778a4_row0_col1\" class=\"data row0 col1\" >9.97%</td>\n",
       "                        <td id=\"T_778a4_row0_col2\" class=\"data row0 col2\" >8.04%</td>\n",
       "                        <td id=\"T_778a4_row0_col3\" class=\"data row0 col3\" >64.51%</td>\n",
       "            </tr>\n",
       "            <tr>\n",
       "                        <th id=\"T_778a4_level0_row1\" class=\"row_heading level0 row1\" >FEMENINO</th>\n",
       "                        <td id=\"T_778a4_row1_col0\" class=\"data row1 col0\" >82.64%</td>\n",
       "                        <td id=\"T_778a4_row1_col1\" class=\"data row1 col1\" >90.03%</td>\n",
       "                        <td id=\"T_778a4_row1_col2\" class=\"data row1 col2\" >91.96%</td>\n",
       "                        <td id=\"T_778a4_row1_col3\" class=\"data row1 col3\" >35.49%</td>\n",
       "            </tr>\n",
       "            <tr>\n",
       "                        <th id=\"T_778a4_level0_row2\" class=\"row_heading level0 row2\" >COL_TOTAL</th>\n",
       "                        <td id=\"T_778a4_row2_col0\" class=\"data row2 col0\" >100.00%</td>\n",
       "                        <td id=\"T_778a4_row2_col1\" class=\"data row2 col1\" >100.00%</td>\n",
       "                        <td id=\"T_778a4_row2_col2\" class=\"data row2 col2\" >100.00%</td>\n",
       "                        <td id=\"T_778a4_row2_col3\" class=\"data row2 col3\" >100.00%</td>\n",
       "            </tr>\n",
       "    </tbody></table>"
      ],
      "text/plain": [
       "<pandas.io.formats.style.Styler at 0x207544b8f40>"
      ]
     },
     "execution_count": 44,
     "metadata": {},
     "output_type": "execute_result"
    }
   ],
   "source": [
    "condicionada1=genero_actor/genero_actor.loc[\"COL_TOTAL\"]\n",
    "condicionada1[[\"CONDUCTOR\",\"PASAJERO\",\"CICLISTA\",\"MOTOCICLISTA\"]].style.format(format_dict)"
   ]
  },
  {
   "cell_type": "markdown",
   "id": "da3e2bd8",
   "metadata": {},
   "source": [
    "Frecuencias Condicionadas(Proporciones) por Filas(Cada valor/total de la condicion de la fila). Ejemplo: Del 2015 al 2019 de los siniestros de tránsito en Bogotá, de la población masculina el 32.49% de los accidentados fueron motociclistas."
   ]
  },
  {
   "cell_type": "code",
   "execution_count": 45,
   "id": "9009d708",
   "metadata": {
    "scrolled": true
   },
   "outputs": [
    {
     "data": {
      "text/html": [
       "<style  type=\"text/css\" >\n",
       "</style><table id=\"T_3ec55_\" ><thead>    <tr>        <th class=\"blank level0\" ></th>        <th class=\"col_heading level0 col0\" >CONDUCTOR</th>        <th class=\"col_heading level0 col1\" >PASAJERO</th>        <th class=\"col_heading level0 col2\" >CICLISTA</th>        <th class=\"col_heading level0 col3\" >MOTOCICLISTA</th>        <th class=\"col_heading level0 col4\" >FILA_TOTAL</th>    </tr></thead><tbody>\n",
       "                <tr>\n",
       "                        <th id=\"T_3ec55_level0_row0\" class=\"row_heading level0 row0\" >MASCULINO</th>\n",
       "                        <td id=\"T_3ec55_row0_col0\" class=\"data row0 col0\" >3.70%</td>\n",
       "                        <td id=\"T_3ec55_row0_col1\" class=\"data row0 col1\" >56.32%</td>\n",
       "                        <td id=\"T_3ec55_row0_col2\" class=\"data row0 col2\" >7.49%</td>\n",
       "                        <td id=\"T_3ec55_row0_col3\" class=\"data row0 col3\" >32.49%</td>\n",
       "                        <td id=\"T_3ec55_row0_col4\" class=\"data row0 col4\" >100.00%</td>\n",
       "            </tr>\n",
       "            <tr>\n",
       "                        <th id=\"T_3ec55_level0_row1\" class=\"row_heading level0 row1\" >FEMENINO</th>\n",
       "                        <td id=\"T_3ec55_row1_col0\" class=\"data row1 col0\" >2.80%</td>\n",
       "                        <td id=\"T_3ec55_row1_col1\" class=\"data row1 col1\" >80.75%</td>\n",
       "                        <td id=\"T_3ec55_row1_col2\" class=\"data row1 col2\" >13.62%</td>\n",
       "                        <td id=\"T_3ec55_row1_col3\" class=\"data row1 col3\" >2.84%</td>\n",
       "                        <td id=\"T_3ec55_row1_col4\" class=\"data row1 col4\" >100.00%</td>\n",
       "            </tr>\n",
       "    </tbody></table>"
      ],
      "text/plain": [
       "<pandas.io.formats.style.Styler at 0x207544a8e20>"
      ]
     },
     "execution_count": 45,
     "metadata": {},
     "output_type": "execute_result"
    }
   ],
   "source": [
    "condicionada2=genero_actor.div(genero_actor[\"FILA_TOTAL\"],\n",
    "                   axis=0)\n",
    "condicionada2.loc[[\"MASCULINO\",\"FEMENINO\"]].style.format(format_dict)"
   ]
  },
  {
   "cell_type": "markdown",
   "id": "731bb11d",
   "metadata": {},
   "source": [
    "# Modelo Predictivo"
   ]
  },
  {
   "cell_type": "code",
   "execution_count": 46,
   "id": "55caacfe",
   "metadata": {
    "scrolled": false
   },
   "outputs": [],
   "source": [
    "#from pycaret.datasets import get_data\n",
    "#data = get_data('insurance')\n",
    "#from pycaret.regression import *\n",
    "#reg1 = setup(data, target = 'charges', session_id=123, log_experiment=True, experiment_name='insurance1')"
   ]
  },
  {
   "cell_type": "markdown",
   "id": "0d1c4485",
   "metadata": {},
   "source": [
    "Obtener datos de entrenamiento y testing 70% datos de entreamiento y 30% datos de prueba"
   ]
  },
  {
   "cell_type": "code",
   "execution_count": 47,
   "id": "e519610e",
   "metadata": {},
   "outputs": [],
   "source": [
    "train, test = train_test_split(drop_duplicates, test_size=0.3,train_size = 0.7,random_state = 100)"
   ]
  },
  {
   "cell_type": "code",
   "execution_count": 48,
   "id": "d9c3a04c",
   "metadata": {},
   "outputs": [
    {
     "data": {
      "text/html": [
       "<div>\n",
       "<style scoped>\n",
       "    .dataframe tbody tr th:only-of-type {\n",
       "        vertical-align: middle;\n",
       "    }\n",
       "\n",
       "    .dataframe tbody tr th {\n",
       "        vertical-align: top;\n",
       "    }\n",
       "\n",
       "    .dataframe thead th {\n",
       "        text-align: right;\n",
       "    }\n",
       "</style>\n",
       "<table border=\"1\" class=\"dataframe\">\n",
       "  <thead>\n",
       "    <tr style=\"text-align: right;\">\n",
       "      <th></th>\n",
       "      <th>CODIGO_SINIESTRO</th>\n",
       "      <th>DIA</th>\n",
       "      <th>ACTOR_VIAL</th>\n",
       "      <th>ESTADO</th>\n",
       "      <th>EDAD</th>\n",
       "      <th>SEXO</th>\n",
       "      <th>TIPO_AUTOMOVIL</th>\n",
       "      <th>SERVICIO</th>\n",
       "      <th>ENFUGA</th>\n",
       "      <th>FECHA</th>\n",
       "      <th>HORA</th>\n",
       "      <th>HORA_NUM</th>\n",
       "      <th>GRAVEDAD</th>\n",
       "      <th>TIPO_ACCIDENTE</th>\n",
       "      <th>TOTAL_MUERTOS</th>\n",
       "      <th>TOTAL_HERIDOS</th>\n",
       "      <th>LOCALIDAD</th>\n",
       "      <th>DISENO_LUGAR</th>\n",
       "    </tr>\n",
       "  </thead>\n",
       "  <tbody>\n",
       "    <tr>\n",
       "      <th>187388</th>\n",
       "      <td>4495561</td>\n",
       "      <td>miercoles</td>\n",
       "      <td>CONDUCTOR</td>\n",
       "      <td>ILESO</td>\n",
       "      <td>19</td>\n",
       "      <td>MASCULINO</td>\n",
       "      <td>Automovil</td>\n",
       "      <td>Particular</td>\n",
       "      <td>N</td>\n",
       "      <td>2017-04-10</td>\n",
       "      <td>6:32:00</td>\n",
       "      <td>6</td>\n",
       "      <td>Solo Danos</td>\n",
       "      <td>Choque</td>\n",
       "      <td>0</td>\n",
       "      <td>0</td>\n",
       "      <td>Usaquen</td>\n",
       "      <td>Tramo de Via,</td>\n",
       "    </tr>\n",
       "    <tr>\n",
       "      <th>58945</th>\n",
       "      <td>4431276</td>\n",
       "      <td>viernes</td>\n",
       "      <td>CONDUCTOR</td>\n",
       "      <td>ILESO</td>\n",
       "      <td>47</td>\n",
       "      <td>MASCULINO</td>\n",
       "      <td>Automovil</td>\n",
       "      <td>Particular</td>\n",
       "      <td>N</td>\n",
       "      <td>2015-04-12</td>\n",
       "      <td>14:45:00</td>\n",
       "      <td>14</td>\n",
       "      <td>Con Heridos</td>\n",
       "      <td>Choque</td>\n",
       "      <td>0</td>\n",
       "      <td>2</td>\n",
       "      <td>Kennedy</td>\n",
       "      <td>Tramo de Via,</td>\n",
       "    </tr>\n",
       "    <tr>\n",
       "      <th>182232</th>\n",
       "      <td>4493103</td>\n",
       "      <td>viernes</td>\n",
       "      <td>CONDUCTOR</td>\n",
       "      <td>ILESO</td>\n",
       "      <td>20</td>\n",
       "      <td>MASCULINO</td>\n",
       "      <td>Camioneta</td>\n",
       "      <td>Particular</td>\n",
       "      <td>N</td>\n",
       "      <td>2017-08-09</td>\n",
       "      <td>21:50:00</td>\n",
       "      <td>21</td>\n",
       "      <td>Solo Danos</td>\n",
       "      <td>Choque</td>\n",
       "      <td>0</td>\n",
       "      <td>0</td>\n",
       "      <td>Chapinero</td>\n",
       "      <td>Tramo de Via,</td>\n",
       "    </tr>\n",
       "    <tr>\n",
       "      <th>207276</th>\n",
       "      <td>4505497</td>\n",
       "      <td>domingo</td>\n",
       "      <td>CONDUCTOR</td>\n",
       "      <td>ILESO</td>\n",
       "      <td>45</td>\n",
       "      <td>MASCULINO</td>\n",
       "      <td>Automovil</td>\n",
       "      <td>Particular</td>\n",
       "      <td>N</td>\n",
       "      <td>2018-01-14</td>\n",
       "      <td>11:10:00</td>\n",
       "      <td>11</td>\n",
       "      <td>Solo Danos</td>\n",
       "      <td>Choque</td>\n",
       "      <td>0</td>\n",
       "      <td>0</td>\n",
       "      <td>Engativa</td>\n",
       "      <td>Tramo de Via,</td>\n",
       "    </tr>\n",
       "    <tr>\n",
       "      <th>198066</th>\n",
       "      <td>4501017</td>\n",
       "      <td>domingo</td>\n",
       "      <td>CONDUCTOR</td>\n",
       "      <td>ILESO</td>\n",
       "      <td>30</td>\n",
       "      <td>FEMENINO</td>\n",
       "      <td>Automovil</td>\n",
       "      <td>Particular</td>\n",
       "      <td>N</td>\n",
       "      <td>2017-11-26</td>\n",
       "      <td>6:30:00</td>\n",
       "      <td>6</td>\n",
       "      <td>Solo Danos</td>\n",
       "      <td>Choque</td>\n",
       "      <td>0</td>\n",
       "      <td>0</td>\n",
       "      <td>Kennedy</td>\n",
       "      <td>Tramo de Via,</td>\n",
       "    </tr>\n",
       "  </tbody>\n",
       "</table>\n",
       "</div>"
      ],
      "text/plain": [
       "        CODIGO_SINIESTRO        DIA ACTOR_VIAL ESTADO  EDAD       SEXO  \\\n",
       "187388           4495561  miercoles  CONDUCTOR  ILESO    19  MASCULINO   \n",
       "58945            4431276    viernes  CONDUCTOR  ILESO    47  MASCULINO   \n",
       "182232           4493103    viernes  CONDUCTOR  ILESO    20  MASCULINO   \n",
       "207276           4505497    domingo  CONDUCTOR  ILESO    45  MASCULINO   \n",
       "198066           4501017    domingo  CONDUCTOR  ILESO    30   FEMENINO   \n",
       "\n",
       "       TIPO_AUTOMOVIL    SERVICIO ENFUGA      FECHA      HORA  HORA_NUM  \\\n",
       "187388      Automovil  Particular      N 2017-04-10   6:32:00         6   \n",
       "58945       Automovil  Particular      N 2015-04-12  14:45:00        14   \n",
       "182232      Camioneta  Particular      N 2017-08-09  21:50:00        21   \n",
       "207276      Automovil  Particular      N 2018-01-14  11:10:00        11   \n",
       "198066      Automovil  Particular      N 2017-11-26   6:30:00         6   \n",
       "\n",
       "           GRAVEDAD TIPO_ACCIDENTE  TOTAL_MUERTOS  TOTAL_HERIDOS  LOCALIDAD  \\\n",
       "187388   Solo Danos         Choque              0              0    Usaquen   \n",
       "58945   Con Heridos         Choque              0              2    Kennedy   \n",
       "182232   Solo Danos         Choque              0              0  Chapinero   \n",
       "207276   Solo Danos         Choque              0              0   Engativa   \n",
       "198066   Solo Danos         Choque              0              0    Kennedy   \n",
       "\n",
       "         DISENO_LUGAR  \n",
       "187388  Tramo de Via,  \n",
       "58945   Tramo de Via,  \n",
       "182232  Tramo de Via,  \n",
       "207276  Tramo de Via,  \n",
       "198066  Tramo de Via,  "
      ]
     },
     "execution_count": 48,
     "metadata": {},
     "output_type": "execute_result"
    }
   ],
   "source": [
    "train.head()"
   ]
  },
  {
   "cell_type": "code",
   "execution_count": 49,
   "id": "1ecea242",
   "metadata": {
    "scrolled": true
   },
   "outputs": [
    {
     "name": "stdout",
     "output_type": "stream",
     "text": [
      "[ 1.94275025 -4.33555321  1.45884778  4.61347284 -3.8320599  -0.46672333\n",
      "  0.61926557]\n",
      "[[ 0.77961723]\n",
      " [ 0.06697639]\n",
      " [-0.30866908]\n",
      " [ 0.14323235]\n",
      " [-0.38007292]\n",
      " [-0.16938259]\n",
      " [-0.13170138]]\n"
     ]
    },
    {
     "name": "stderr",
     "output_type": "stream",
     "text": [
      "C:\\Users\\Guillermo\\anaconda3\\lib\\site-packages\\sklearn\\linear_model\\_logistic.py:762: ConvergenceWarning: lbfgs failed to converge (status=1):\n",
      "STOP: TOTAL NO. of ITERATIONS REACHED LIMIT.\n",
      "\n",
      "Increase the number of iterations (max_iter) or scale the data as shown in:\n",
      "    https://scikit-learn.org/stable/modules/preprocessing.html\n",
      "Please also refer to the documentation for alternative solver options:\n",
      "    https://scikit-learn.org/stable/modules/linear_model.html#logistic-regression\n",
      "  n_iter_i = _check_optimize_result(\n"
     ]
    }
   ],
   "source": [
    "#Initialize label encoder\n",
    "label_encoder = preprocessing.LabelEncoder()\n",
    "# Convertir Variable Sexo a numérica- Es la variable de entrenamiento\n",
    "encoded_genero = label_encoder.fit_transform(train[\"SEXO\"])\n",
    "\n",
    "# Inicializar modelo de regresión logística\n",
    "log_model = linear_model.LogisticRegression(solver = 'lbfgs')\n",
    "\n",
    "# Entrenar el modelo\n",
    "log_model.fit(X = pd.DataFrame(encoded_genero), \n",
    "              y = train[\"TIPO_ACCIDENTE\"])\n",
    "\n",
    "# Intercepto del modelo entrenado\n",
    "print(log_model.intercept_)\n",
    "\n",
    "# Coeficientes del modelo Entrenado\n",
    "print(log_model.coef_)"
   ]
  },
  {
   "cell_type": "code",
   "execution_count": 50,
   "id": "a28b076e",
   "metadata": {},
   "outputs": [
    {
     "data": {
      "text/html": [
       "<div>\n",
       "<style scoped>\n",
       "    .dataframe tbody tr th:only-of-type {\n",
       "        vertical-align: middle;\n",
       "    }\n",
       "\n",
       "    .dataframe tbody tr th {\n",
       "        vertical-align: top;\n",
       "    }\n",
       "\n",
       "    .dataframe thead th {\n",
       "        text-align: right;\n",
       "    }\n",
       "</style>\n",
       "<table border=\"1\" class=\"dataframe\">\n",
       "  <thead>\n",
       "    <tr style=\"text-align: right;\">\n",
       "      <th>Choque_prob</th>\n",
       "      <th>0.060872</th>\n",
       "      <th>0.111130</th>\n",
       "    </tr>\n",
       "    <tr>\n",
       "      <th>SEXO</th>\n",
       "      <th></th>\n",
       "      <th></th>\n",
       "    </tr>\n",
       "  </thead>\n",
       "  <tbody>\n",
       "    <tr>\n",
       "      <th>FEMENINO</th>\n",
       "      <td>1693</td>\n",
       "      <td>13371</td>\n",
       "    </tr>\n",
       "    <tr>\n",
       "      <th>MASCULINO</th>\n",
       "      <td>11511</td>\n",
       "      <td>94739</td>\n",
       "    </tr>\n",
       "  </tbody>\n",
       "</table>\n",
       "</div>"
      ],
      "text/plain": [
       "Choque_prob  0.060872  0.111130\n",
       "SEXO                           \n",
       "FEMENINO         1693     13371\n",
       "MASCULINO       11511     94739"
      ]
     },
     "execution_count": 50,
     "metadata": {},
     "output_type": "execute_result"
    }
   ],
   "source": [
    "# Predicciones\n",
    "preds = log_model.predict_proba(X= pd.DataFrame(encoded_genero))\n",
    "preds = pd.DataFrame(preds)\n",
    "preds.columns = [\"Choque_prob\", \"Atropello_prob\", \"AutoLesion_prob\", \"Caida\", \"Incendio\", \"Otro\", \"Volcamiento\"]\n",
    "\n",
    "# Generate table of predictions vs Genero\n",
    "pd.crosstab(df[\"SEXO\"], preds.loc[:, \"Choque_prob\"])"
   ]
  },
  {
   "cell_type": "markdown",
   "id": "f69eea83",
   "metadata": {},
   "source": [
    "Conclusión: El modelo predice con un 11.115% de probabilidad que los choques a futuro serán causados por el género masculino."
   ]
  },
  {
   "cell_type": "markdown",
   "id": "bbf3d464",
   "metadata": {},
   "source": [
    "**Predicción ANN por Series de Tiempo**"
   ]
  },
  {
   "cell_type": "code",
   "execution_count": 51,
   "id": "ab63353e",
   "metadata": {},
   "outputs": [],
   "source": [
    "import pandas as pd\n",
    "import numpy as np\n",
    "import matplotlib.pyplot as plt\n",
    "%matplotlib inline\n",
    "from matplotlib.pylab import rcParams\n",
    "rcParams['figure.figsize']=20,10\n",
    "from keras.models import Sequential\n",
    "from keras.layers import LSTM,Dropout,Dense\n",
    "from sklearn.preprocessing import MinMaxScaler"
   ]
  },
  {
   "cell_type": "code",
   "execution_count": 52,
   "id": "1c4f5a02",
   "metadata": {
    "scrolled": true
   },
   "outputs": [
    {
     "data": {
      "text/html": [
       "<div>\n",
       "<style scoped>\n",
       "    .dataframe tbody tr th:only-of-type {\n",
       "        vertical-align: middle;\n",
       "    }\n",
       "\n",
       "    .dataframe tbody tr th {\n",
       "        vertical-align: top;\n",
       "    }\n",
       "\n",
       "    .dataframe thead th {\n",
       "        text-align: right;\n",
       "    }\n",
       "</style>\n",
       "<table border=\"1\" class=\"dataframe\">\n",
       "  <thead>\n",
       "    <tr style=\"text-align: right;\">\n",
       "      <th></th>\n",
       "      <th>fecha</th>\n",
       "      <th>cantidad</th>\n",
       "    </tr>\n",
       "  </thead>\n",
       "  <tbody>\n",
       "    <tr>\n",
       "      <th>0</th>\n",
       "      <td>2015-01-01</td>\n",
       "      <td>13.0</td>\n",
       "    </tr>\n",
       "    <tr>\n",
       "      <th>1</th>\n",
       "      <td>2015-01-02</td>\n",
       "      <td>68.0</td>\n",
       "    </tr>\n",
       "    <tr>\n",
       "      <th>2</th>\n",
       "      <td>2015-01-03</td>\n",
       "      <td>69.0</td>\n",
       "    </tr>\n",
       "    <tr>\n",
       "      <th>3</th>\n",
       "      <td>2015-01-04</td>\n",
       "      <td>78.0</td>\n",
       "    </tr>\n",
       "    <tr>\n",
       "      <th>4</th>\n",
       "      <td>2015-01-05</td>\n",
       "      <td>57.0</td>\n",
       "    </tr>\n",
       "  </tbody>\n",
       "</table>\n",
       "</div>"
      ],
      "text/plain": [
       "       fecha  cantidad\n",
       "0 2015-01-01      13.0\n",
       "1 2015-01-02      68.0\n",
       "2 2015-01-03      69.0\n",
       "3 2015-01-04      78.0\n",
       "4 2015-01-05      57.0"
      ]
     },
     "execution_count": 52,
     "metadata": {},
     "output_type": "execute_result"
    }
   ],
   "source": [
    "fecha_cantidad_df = drop_duplicates.groupby(\"FECHA\")[\"CODIGO_SINIESTRO\"].count().reset_index()\n",
    "#fecha_cantidad_df = df.groupby('FECHA', as_index=False).agg({\"CODIGO_SINIESTRO\": \"count\"})\n",
    "fecha_cantidad_df.columns = ['fecha','cantidad']\n",
    "fecha_cantidad_df = fecha_cantidad_df.astype({\"cantidad\": float})\n",
    "fecha_cantidad_df[\"fecha\"] = pd.to_datetime(fecha_cantidad_df.fecha, format=\"%m/%d/%Y\")\n",
    "fecha_cantidad_df.head(5)\n",
    "#fecha_cantidad_df.tail(5)"
   ]
  },
  {
   "cell_type": "code",
   "execution_count": 53,
   "id": "ea9e63ae",
   "metadata": {},
   "outputs": [
    {
     "data": {
      "text/plain": [
       "fecha       datetime64[ns]\n",
       "cantidad           float64\n",
       "dtype: object"
      ]
     },
     "execution_count": 53,
     "metadata": {},
     "output_type": "execute_result"
    }
   ],
   "source": [
    "fecha_cantidad_df.dtypes"
   ]
  },
  {
   "cell_type": "code",
   "execution_count": 54,
   "id": "0e6c2eaa",
   "metadata": {},
   "outputs": [
    {
     "data": {
      "text/plain": [
       "DatetimeIndex(['2015-01-01', '2015-01-02', '2015-01-03', '2015-01-04',\n",
       "               '2015-01-05', '2015-01-06', '2015-01-07', '2015-01-08',\n",
       "               '2015-01-09', '2015-01-10',\n",
       "               ...\n",
       "               '2019-12-22', '2019-12-23', '2019-12-24', '2019-12-25',\n",
       "               '2019-12-26', '2019-12-27', '2019-12-28', '2019-12-29',\n",
       "               '2019-12-30', '2019-12-31'],\n",
       "              dtype='datetime64[ns]', name='fecha', length=1826, freq=None)"
      ]
     },
     "execution_count": 54,
     "metadata": {},
     "output_type": "execute_result"
    }
   ],
   "source": [
    "fecha_cantidad_df.index = fecha_cantidad_df['fecha']"
   ]
  },
  {
   "cell_type": "code",
   "execution_count": 55,
   "id": "faf6ebe2",
   "metadata": {},
   "outputs": [
    {
     "data": {
      "text/plain": [
       "[<matplotlib.lines.Line2D at 0x2076040b5e0>]"
      ]
     },
     "execution_count": 55,
     "metadata": {},
     "output_type": "execute_result"
    },
    {
     "data": {
      "image/png": "[encoded data removed]",
      "text/plain": [
       "<Figure size 1440x720 with 1 Axes>"
      ]
     },
     "metadata": {
      "needs_background": "light"
     },
     "output_type": "display_data"
    }
   ],
   "source": [
    "plt.plot(fecha_cantidad_df[\"cantidad\"],label='Cantidad de Accidentes')"
   ]
  },
  {
   "cell_type": "markdown",
   "id": "5a40fffe",
   "metadata": {},
   "source": [
    "**Preparación de Datos**"
   ]
  },
  {
   "cell_type": "code",
   "execution_count": 56,
   "id": "95f31d85",
   "metadata": {},
   "outputs": [
    {
     "data": {
      "text/html": [
       "<div>\n",
       "<style scoped>\n",
       "    .dataframe tbody tr th:only-of-type {\n",
       "        vertical-align: middle;\n",
       "    }\n",
       "\n",
       "    .dataframe tbody tr th {\n",
       "        vertical-align: top;\n",
       "    }\n",
       "\n",
       "    .dataframe thead th {\n",
       "        text-align: right;\n",
       "    }\n",
       "</style>\n",
       "<table border=\"1\" class=\"dataframe\">\n",
       "  <thead>\n",
       "    <tr style=\"text-align: right;\">\n",
       "      <th></th>\n",
       "      <th>fecha</th>\n",
       "      <th>cantidad</th>\n",
       "    </tr>\n",
       "    <tr>\n",
       "      <th>fecha</th>\n",
       "      <th></th>\n",
       "      <th></th>\n",
       "    </tr>\n",
       "  </thead>\n",
       "  <tbody>\n",
       "    <tr>\n",
       "      <th>2015-01-01</th>\n",
       "      <td>2015-01-01</td>\n",
       "      <td>13.0</td>\n",
       "    </tr>\n",
       "    <tr>\n",
       "      <th>2015-01-02</th>\n",
       "      <td>2015-01-02</td>\n",
       "      <td>68.0</td>\n",
       "    </tr>\n",
       "    <tr>\n",
       "      <th>2015-01-03</th>\n",
       "      <td>2015-01-03</td>\n",
       "      <td>69.0</td>\n",
       "    </tr>\n",
       "    <tr>\n",
       "      <th>2015-01-04</th>\n",
       "      <td>2015-01-04</td>\n",
       "      <td>78.0</td>\n",
       "    </tr>\n",
       "    <tr>\n",
       "      <th>2015-01-05</th>\n",
       "      <td>2015-01-05</td>\n",
       "      <td>57.0</td>\n",
       "    </tr>\n",
       "  </tbody>\n",
       "</table>\n",
       "</div>"
      ],
      "text/plain": [
       "                fecha  cantidad\n",
       "fecha                          \n",
       "2015-01-01 2015-01-01      13.0\n",
       "2015-01-02 2015-01-02      68.0\n",
       "2015-01-03 2015-01-03      69.0\n",
       "2015-01-04 2015-01-04      78.0\n",
       "2015-01-05 2015-01-05      57.0"
      ]
     },
     "execution_count": 56,
     "metadata": {},
     "output_type": "execute_result"
    }
   ],
   "source": [
    "#fecha_cantidad_df = fecha_cantidad_df.sort_index(ascending=True,axis=0)\n",
    "#data = pd.DataFrame(index=range(0,len(fecha_cantidad_df)),columns=['fecha','cantidad'])\n",
    "#for i in range(0,len(data)):\n",
    "#    data[\"fecha\"][i]=fecha_cantidad_df['fecha'][i]\n",
    "#    data[\"cantidad\"][i]=fecha_cantidad_df[\"cantidad\"][i]\n",
    "data = fecha_cantidad_df\n",
    "data.head()"
   ]
  },
  {
   "cell_type": "markdown",
   "id": "7c3fe312",
   "metadata": {},
   "source": [
    "**Escala Min-Max**"
   ]
  },
  {
   "cell_type": "code",
   "execution_count": 57,
   "id": "132569cd",
   "metadata": {},
   "outputs": [],
   "source": [
    "scaler=MinMaxScaler(feature_range=(0,1))\n",
    "data.index=data.fecha\n",
    "data.drop(\"fecha\",axis=1,inplace=True)\n",
    "final_data = data.values\n",
    "train_data=final_data[0:200,:]\n",
    "valid_data=final_data[200:,:]\n",
    "scaler=MinMaxScaler(feature_range=(0,1))\n",
    "scaled_data=scaler.fit_transform(final_data)\n",
    "x_train_data,y_train_data=[],[]\n",
    "for i in range(60,len(train_data)):\n",
    "    x_train_data.append(scaled_data[i-60:i,0])\n",
    "    y_train_data.append(scaled_data[i,0])"
   ]
  },
  {
   "cell_type": "markdown",
   "id": "b211a7d9",
   "metadata": {},
   "source": [
    "**Modelo LSTM**"
   ]
  },
  {
   "cell_type": "code",
   "execution_count": 58,
   "id": "b65260cf",
   "metadata": {},
   "outputs": [],
   "source": [
    "lstm_model=Sequential()\n",
    "lstm_model.add(LSTM(units=50,return_sequences=True,input_shape=(np.shape(x_train_data)[1],1)))\n",
    "lstm_model.add(LSTM(units=50))\n",
    "lstm_model.add(Dense(1))\n",
    "model_data=data[len(data)-len(valid_data)-60:].values\n",
    "model_data=model_data.reshape(-1,1)\n",
    "model_data=scaler.transform(model_data)"
   ]
  },
  {
   "cell_type": "markdown",
   "id": "da12d781",
   "metadata": {},
   "source": [
    "**Información Entrenamiento y Pruebas**"
   ]
  },
  {
   "cell_type": "code",
   "execution_count": 59,
   "id": "0037e52d",
   "metadata": {},
   "outputs": [],
   "source": [
    "#lstm_model.compile(loss='mean_squared_error',optimizer='adam')\n",
    "#lstm_model.fit(x_train_data,y_train_data,epochs=1,batch_size=1,verbose=2)\n",
    "#X_test=[]\n",
    "#for i in range(60,model_data.shape[0]):\n",
    "#    X_test.append(model_data[i-60:i,0])\n",
    "#X_test=np.array(X_test)\n",
    "#X_test=np.reshape(X_test,(X_test.shape[0],X_test.shape[1],1))"
   ]
  },
  {
   "cell_type": "code",
   "execution_count": null,
   "id": "8e90c993",
   "metadata": {},
   "outputs": [],
   "source": []
  }
 ],
 "metadata": {
  "kernelspec": {
   "display_name": "Python 3",
   "language": "python",
   "name": "python3"
  },
  "language_info": {
   "codemirror_mode": {
    "name": "ipython",
    "version": 3
   },
   "file_extension": ".py",
   "mimetype": "text/x-python",
   "name": "python",
   "nbconvert_exporter": "python",
   "pygments_lexer": "ipython3",
   "version": "3.8.5"
  }
 },
 "nbformat": 4,
 "nbformat_minor": 5
}
