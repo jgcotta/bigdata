{
 "cells": [
  {
   "cell_type": "code",
   "execution_count": 1,
   "id": "ea3aee40",
   "metadata": {},
   "outputs": [],
   "source": [
    "import pandas as pd\n",
    "from pandas_profiling import ProfileReport\n",
    "from pandas_profiling.utils.cache import cache_file\n",
    "import matplotlib.pyplot as plt\n",
    "import numpy as np\n",
    "%matplotlib inline\n"
   ]
  },
  {
   "cell_type": "markdown",
   "id": "b869f9ce",
   "metadata": {},
   "source": [
    "# Cargar El dataset"
   ]
  },
  {
   "cell_type": "code",
   "execution_count": 18,
   "id": "0bfb36ae",
   "metadata": {},
   "outputs": [
    {
     "data": {
      "text/html": [
       "<div>\n",
       "<style scoped>\n",
       "    .dataframe tbody tr th:only-of-type {\n",
       "        vertical-align: middle;\n",
       "    }\n",
       "\n",
       "    .dataframe tbody tr th {\n",
       "        vertical-align: top;\n",
       "    }\n",
       "\n",
       "    .dataframe thead th {\n",
       "        text-align: right;\n",
       "    }\n",
       "</style>\n",
       "<table border=\"1\" class=\"dataframe\">\n",
       "  <thead>\n",
       "    <tr style=\"text-align: right;\">\n",
       "      <th></th>\n",
       "      <th>CODIGO_SINIESTRO</th>\n",
       "      <th>DIA</th>\n",
       "      <th>ACTOR_VIAL</th>\n",
       "      <th>ESTADO</th>\n",
       "      <th>EDAD</th>\n",
       "      <th>SEXO</th>\n",
       "      <th>TIPO_AUTOMOVIL</th>\n",
       "      <th>SERVICIO</th>\n",
       "      <th>ENFUGA</th>\n",
       "      <th>FECHA</th>\n",
       "      <th>HORA</th>\n",
       "      <th>HORA_NUM</th>\n",
       "      <th>GRAVEDAD</th>\n",
       "      <th>TIPO_ACCIDENTE</th>\n",
       "      <th>TOTAL_MUERTOS</th>\n",
       "      <th>TOTAL_HERIDOS</th>\n",
       "      <th>LOCALIDAD</th>\n",
       "      <th>DISENO_LUGAR</th>\n",
       "    </tr>\n",
       "  </thead>\n",
       "  <tbody>\n",
       "    <tr>\n",
       "      <th>0</th>\n",
       "      <td>4401420</td>\n",
       "      <td>jueves</td>\n",
       "      <td>CONDUCTOR</td>\n",
       "      <td>ILESO</td>\n",
       "      <td>20</td>\n",
       "      <td>MASCULINO</td>\n",
       "      <td>Automovil</td>\n",
       "      <td>Particular</td>\n",
       "      <td>N</td>\n",
       "      <td>2015-01-01</td>\n",
       "      <td>13:00:00</td>\n",
       "      <td>13</td>\n",
       "      <td>Solo Danos</td>\n",
       "      <td>Choque</td>\n",
       "      <td>0</td>\n",
       "      <td>0</td>\n",
       "      <td>Ciudad Bolivar</td>\n",
       "      <td>Tramo de Via,</td>\n",
       "    </tr>\n",
       "    <tr>\n",
       "      <th>1</th>\n",
       "      <td>4401420</td>\n",
       "      <td>jueves</td>\n",
       "      <td>CONDUCTOR</td>\n",
       "      <td>ILESO</td>\n",
       "      <td>27</td>\n",
       "      <td>MASCULINO</td>\n",
       "      <td>Automovil</td>\n",
       "      <td>Publico</td>\n",
       "      <td>N</td>\n",
       "      <td>2015-01-01</td>\n",
       "      <td>13:00:00</td>\n",
       "      <td>13</td>\n",
       "      <td>Solo Danos</td>\n",
       "      <td>Choque</td>\n",
       "      <td>0</td>\n",
       "      <td>0</td>\n",
       "      <td>Ciudad Bolivar</td>\n",
       "      <td>Tramo de Via,</td>\n",
       "    </tr>\n",
       "    <tr>\n",
       "      <th>2</th>\n",
       "      <td>4401442</td>\n",
       "      <td>jueves</td>\n",
       "      <td>PASAJERO</td>\n",
       "      <td>HERIDO</td>\n",
       "      <td>22</td>\n",
       "      <td>MASCULINO</td>\n",
       "      <td>Motocicleta</td>\n",
       "      <td>Particular</td>\n",
       "      <td>N</td>\n",
       "      <td>2015-01-01</td>\n",
       "      <td>16:15:00</td>\n",
       "      <td>16</td>\n",
       "      <td>Con Heridos</td>\n",
       "      <td>Atropello</td>\n",
       "      <td>0</td>\n",
       "      <td>3</td>\n",
       "      <td>San Cristobal</td>\n",
       "      <td>Interseccion,</td>\n",
       "    </tr>\n",
       "    <tr>\n",
       "      <th>3</th>\n",
       "      <td>4401442</td>\n",
       "      <td>jueves</td>\n",
       "      <td>MOTOCICLISTA</td>\n",
       "      <td>HERIDO</td>\n",
       "      <td>42</td>\n",
       "      <td>MASCULINO</td>\n",
       "      <td>Motocicleta</td>\n",
       "      <td>Particular</td>\n",
       "      <td>N</td>\n",
       "      <td>2015-01-01</td>\n",
       "      <td>16:15:00</td>\n",
       "      <td>16</td>\n",
       "      <td>Con Heridos</td>\n",
       "      <td>Atropello</td>\n",
       "      <td>0</td>\n",
       "      <td>3</td>\n",
       "      <td>San Cristobal</td>\n",
       "      <td>Interseccion,</td>\n",
       "    </tr>\n",
       "    <tr>\n",
       "      <th>4</th>\n",
       "      <td>4401430</td>\n",
       "      <td>jueves</td>\n",
       "      <td>MOTOCICLISTA</td>\n",
       "      <td>HERIDO</td>\n",
       "      <td>27</td>\n",
       "      <td>MASCULINO</td>\n",
       "      <td>Motocicleta</td>\n",
       "      <td>Oficial</td>\n",
       "      <td>N</td>\n",
       "      <td>2015-01-01</td>\n",
       "      <td>7:15:00</td>\n",
       "      <td>7</td>\n",
       "      <td>Con Heridos</td>\n",
       "      <td>Volcamiento</td>\n",
       "      <td>0</td>\n",
       "      <td>1</td>\n",
       "      <td>Ciudad Bolivar</td>\n",
       "      <td>Tramo de Via,</td>\n",
       "    </tr>\n",
       "  </tbody>\n",
       "</table>\n",
       "</div>"
      ],
      "text/plain": [
       "   CODIGO_SINIESTRO     DIA    ACTOR_VIAL  ESTADO  EDAD       SEXO  \\\n",
       "0           4401420  jueves     CONDUCTOR   ILESO    20  MASCULINO   \n",
       "1           4401420  jueves     CONDUCTOR   ILESO    27  MASCULINO   \n",
       "2           4401442  jueves      PASAJERO  HERIDO    22  MASCULINO   \n",
       "3           4401442  jueves  MOTOCICLISTA  HERIDO    42  MASCULINO   \n",
       "4           4401430  jueves  MOTOCICLISTA  HERIDO    27  MASCULINO   \n",
       "\n",
       "  TIPO_AUTOMOVIL    SERVICIO ENFUGA      FECHA      HORA  HORA_NUM  \\\n",
       "0      Automovil  Particular      N 2015-01-01  13:00:00        13   \n",
       "1      Automovil     Publico      N 2015-01-01  13:00:00        13   \n",
       "2    Motocicleta  Particular      N 2015-01-01  16:15:00        16   \n",
       "3    Motocicleta  Particular      N 2015-01-01  16:15:00        16   \n",
       "4    Motocicleta     Oficial      N 2015-01-01   7:15:00         7   \n",
       "\n",
       "      GRAVEDAD TIPO_ACCIDENTE  TOTAL_MUERTOS  TOTAL_HERIDOS       LOCALIDAD  \\\n",
       "0   Solo Danos         Choque              0              0  Ciudad Bolivar   \n",
       "1   Solo Danos         Choque              0              0  Ciudad Bolivar   \n",
       "2  Con Heridos      Atropello              0              3   San Cristobal   \n",
       "3  Con Heridos      Atropello              0              3   San Cristobal   \n",
       "4  Con Heridos    Volcamiento              0              1  Ciudad Bolivar   \n",
       "\n",
       "    DISENO_LUGAR  \n",
       "0  Tramo de Via,  \n",
       "1  Tramo de Via,  \n",
       "2  Interseccion,  \n",
       "3  Interseccion,  \n",
       "4  Tramo de Via,  "
      ]
     },
     "execution_count": 18,
     "metadata": {},
     "output_type": "execute_result"
    }
   ],
   "source": [
    "# Read the Dataset\n",
    "file_name = cache_file(\n",
    "    \"datasetSiniestro2.csv\",\n",
    "    \"https://raw.githubusercontent.com/jgcotta/bigdata/master/datasetSiniestro.csv\",\n",
    ")\n",
    "#If we need date\n",
    "df = pd.read_csv(file_name, sep=';',parse_dates=[9])\n",
    "#df.dtypes\n",
    "#df = pd.read_csv(file_name, sep=';')\n",
    "df.dtypes\n",
    "df.head(5)"
   ]
  },
  {
   "cell_type": "code",
   "execution_count": 3,
   "id": "cb4f5300",
   "metadata": {},
   "outputs": [],
   "source": [
    "#profile = ProfileReport(d, title=\"Pandas Profiling Report\")\n",
    "#profile.to_notebook_iframe()"
   ]
  },
  {
   "cell_type": "markdown",
   "id": "0ce1196a",
   "metadata": {},
   "source": [
    "# Correlación Lineal (Variables Numéricas)"
   ]
  },
  {
   "cell_type": "code",
   "execution_count": 4,
   "id": "d0ef34d7",
   "metadata": {},
   "outputs": [],
   "source": [
    "#muestra=df[[\"EDAD\",\"TOTAL_HERIDOS\",\"TOTAL_MUERTOS\",\"HORA_NUM\"]]\n",
    "d=df.loc[:, ['EDAD', 'TOTAL_HERIDOS', 'TOTAL_MUERTOS']]"
   ]
  },
  {
   "cell_type": "code",
   "execution_count": 5,
   "id": "53b512ba",
   "metadata": {},
   "outputs": [
    {
     "data": {
      "text/html": [
       "<div>\n",
       "<style scoped>\n",
       "    .dataframe tbody tr th:only-of-type {\n",
       "        vertical-align: middle;\n",
       "    }\n",
       "\n",
       "    .dataframe tbody tr th {\n",
       "        vertical-align: top;\n",
       "    }\n",
       "\n",
       "    .dataframe thead th {\n",
       "        text-align: right;\n",
       "    }\n",
       "</style>\n",
       "<table border=\"1\" class=\"dataframe\">\n",
       "  <thead>\n",
       "    <tr style=\"text-align: right;\">\n",
       "      <th></th>\n",
       "      <th>EDAD</th>\n",
       "      <th>TOTAL_HERIDOS</th>\n",
       "      <th>TOTAL_MUERTOS</th>\n",
       "    </tr>\n",
       "  </thead>\n",
       "  <tbody>\n",
       "    <tr>\n",
       "      <th>EDAD</th>\n",
       "      <td>1.000000</td>\n",
       "      <td>-0.057049</td>\n",
       "      <td>-0.022085</td>\n",
       "    </tr>\n",
       "    <tr>\n",
       "      <th>TOTAL_HERIDOS</th>\n",
       "      <td>-0.057049</td>\n",
       "      <td>1.000000</td>\n",
       "      <td>0.103783</td>\n",
       "    </tr>\n",
       "    <tr>\n",
       "      <th>TOTAL_MUERTOS</th>\n",
       "      <td>-0.022085</td>\n",
       "      <td>0.103783</td>\n",
       "      <td>1.000000</td>\n",
       "    </tr>\n",
       "  </tbody>\n",
       "</table>\n",
       "</div>"
      ],
      "text/plain": [
       "                   EDAD  TOTAL_HERIDOS  TOTAL_MUERTOS\n",
       "EDAD           1.000000      -0.057049      -0.022085\n",
       "TOTAL_HERIDOS -0.057049       1.000000       0.103783\n",
       "TOTAL_MUERTOS -0.022085       0.103783       1.000000"
      ]
     },
     "execution_count": 5,
     "metadata": {},
     "output_type": "execute_result"
    }
   ],
   "source": [
    "d.corr(method ='pearson')"
   ]
  },
  {
   "cell_type": "code",
   "execution_count": 6,
   "id": "e606f5fa",
   "metadata": {},
   "outputs": [],
   "source": [
    "#(d\n",
    "#  .groupby(\"SEXO\")\n",
    "#  .agg(frequency=(\"SEXO\", \"count\"))\n",
    "#  .head())"
   ]
  },
  {
   "cell_type": "markdown",
   "id": "380129bb",
   "metadata": {},
   "source": [
    "# Análisis exploratorio variables categóricas"
   ]
  },
  {
   "cell_type": "markdown",
   "id": "f4ca86d1",
   "metadata": {},
   "source": [
    "Histograma de Edad, de implicados en accidentes"
   ]
  },
  {
   "cell_type": "code",
   "execution_count": 7,
   "id": "34b8875e",
   "metadata": {},
   "outputs": [
    {
     "data": {
      "text/plain": [
       "array([[<AxesSubplot:title={'center':'EDAD'}>]], dtype=object)"
      ]
     },
     "execution_count": 7,
     "metadata": {},
     "output_type": "execute_result"
    },
    {
     "data": {
      "image/png": "[encoded data removed]",
      "text/plain": [
       "<Figure size 648x432 with 1 Axes>"
      ]
     },
     "metadata": {
      "needs_background": "light"
     },
     "output_type": "display_data"
    }
   ],
   "source": [
    "df.hist(column='EDAD',    # Column to plot\n",
    "                   figsize=(9,6),   # Plot size\n",
    "                   bins=20) "
   ]
  },
  {
   "cell_type": "markdown",
   "id": "93969b01",
   "metadata": {},
   "source": [
    "Análisis del estado de llos implicados"
   ]
  },
  {
   "cell_type": "code",
   "execution_count": 8,
   "id": "89fe2d07",
   "metadata": {},
   "outputs": [
    {
     "data": {
      "text/html": [
       "<div>\n",
       "<style scoped>\n",
       "    .dataframe tbody tr th:only-of-type {\n",
       "        vertical-align: middle;\n",
       "    }\n",
       "\n",
       "    .dataframe tbody tr th {\n",
       "        vertical-align: top;\n",
       "    }\n",
       "\n",
       "    .dataframe thead th {\n",
       "        text-align: right;\n",
       "    }\n",
       "</style>\n",
       "<table border=\"1\" class=\"dataframe\">\n",
       "  <thead>\n",
       "    <tr style=\"text-align: right;\">\n",
       "      <th>col_0</th>\n",
       "      <th>Cantidad</th>\n",
       "    </tr>\n",
       "    <tr>\n",
       "      <th>ESTADO</th>\n",
       "      <th></th>\n",
       "    </tr>\n",
       "  </thead>\n",
       "  <tbody>\n",
       "    <tr>\n",
       "      <th>HERIDO</th>\n",
       "      <td>61412</td>\n",
       "    </tr>\n",
       "    <tr>\n",
       "      <th>ILESO</th>\n",
       "      <td>289931</td>\n",
       "    </tr>\n",
       "    <tr>\n",
       "      <th>MUERTO</th>\n",
       "      <td>1394</td>\n",
       "    </tr>\n",
       "  </tbody>\n",
       "</table>\n",
       "</div>"
      ],
      "text/plain": [
       "col_0   Cantidad\n",
       "ESTADO          \n",
       "HERIDO     61412\n",
       "ILESO     289931\n",
       "MUERTO      1394"
      ]
     },
     "execution_count": 8,
     "metadata": {},
     "output_type": "execute_result"
    }
   ],
   "source": [
    "tf1 = pd.crosstab(index=df[\"ESTADO\"],\n",
    "                     columns=\"Cantidad\")\n",
    "tf1"
   ]
  },
  {
   "cell_type": "code",
   "execution_count": null,
   "id": "d9d15850",
   "metadata": {},
   "outputs": [],
   "source": [
    "Agrupación de la población"
   ]
  },
  {
   "cell_type": "code",
   "execution_count": 9,
   "id": "cbd86f2a",
   "metadata": {},
   "outputs": [
    {
     "data": {
      "text/html": [
       "<div>\n",
       "<style scoped>\n",
       "    .dataframe tbody tr th:only-of-type {\n",
       "        vertical-align: middle;\n",
       "    }\n",
       "\n",
       "    .dataframe tbody tr th {\n",
       "        vertical-align: top;\n",
       "    }\n",
       "\n",
       "    .dataframe thead th {\n",
       "        text-align: right;\n",
       "    }\n",
       "</style>\n",
       "<table border=\"1\" class=\"dataframe\">\n",
       "  <thead>\n",
       "    <tr style=\"text-align: right;\">\n",
       "      <th>col_0</th>\n",
       "      <th>Cantidad</th>\n",
       "    </tr>\n",
       "    <tr>\n",
       "      <th>ACTOR_VIAL</th>\n",
       "      <th></th>\n",
       "    </tr>\n",
       "  </thead>\n",
       "  <tbody>\n",
       "    <tr>\n",
       "      <th>CICLISTA</th>\n",
       "      <td>10298</td>\n",
       "    </tr>\n",
       "    <tr>\n",
       "      <th>CONDUCTOR</th>\n",
       "      <td>273024</td>\n",
       "    </tr>\n",
       "    <tr>\n",
       "      <th>MOTOCICLISTA</th>\n",
       "      <td>45066</td>\n",
       "    </tr>\n",
       "    <tr>\n",
       "      <th>PASAJERO</th>\n",
       "      <td>24349</td>\n",
       "    </tr>\n",
       "  </tbody>\n",
       "</table>\n",
       "</div>"
      ],
      "text/plain": [
       "col_0         Cantidad\n",
       "ACTOR_VIAL            \n",
       "CICLISTA         10298\n",
       "CONDUCTOR       273024\n",
       "MOTOCICLISTA     45066\n",
       "PASAJERO         24349"
      ]
     },
     "execution_count": 9,
     "metadata": {},
     "output_type": "execute_result"
    }
   ],
   "source": [
    "tf2 = pd.crosstab(index=df[\"ACTOR_VIAL\"], \n",
    "                     columns=\"Cantidad\") \n",
    "tf2"
   ]
  },
  {
   "cell_type": "markdown",
   "id": "6cf7e8f7",
   "metadata": {},
   "source": [
    "Se obtiene la proporción del tipo de personas involucradas. Hacer diagrama de pie"
   ]
  },
  {
   "cell_type": "code",
   "execution_count": 10,
   "id": "b8c2fc8e",
   "metadata": {},
   "outputs": [
    {
     "data": {
      "text/html": [
       "<div>\n",
       "<style scoped>\n",
       "    .dataframe tbody tr th:only-of-type {\n",
       "        vertical-align: middle;\n",
       "    }\n",
       "\n",
       "    .dataframe tbody tr th {\n",
       "        vertical-align: top;\n",
       "    }\n",
       "\n",
       "    .dataframe thead th {\n",
       "        text-align: right;\n",
       "    }\n",
       "</style>\n",
       "<table border=\"1\" class=\"dataframe\">\n",
       "  <thead>\n",
       "    <tr style=\"text-align: right;\">\n",
       "      <th>col_0</th>\n",
       "      <th>Cantidad</th>\n",
       "    </tr>\n",
       "    <tr>\n",
       "      <th>ACTOR_VIAL</th>\n",
       "      <th></th>\n",
       "    </tr>\n",
       "  </thead>\n",
       "  <tbody>\n",
       "    <tr>\n",
       "      <th>CICLISTA</th>\n",
       "      <td>0.029195</td>\n",
       "    </tr>\n",
       "    <tr>\n",
       "      <th>CONDUCTOR</th>\n",
       "      <td>0.774016</td>\n",
       "    </tr>\n",
       "    <tr>\n",
       "      <th>MOTOCICLISTA</th>\n",
       "      <td>0.127761</td>\n",
       "    </tr>\n",
       "    <tr>\n",
       "      <th>PASAJERO</th>\n",
       "      <td>0.069029</td>\n",
       "    </tr>\n",
       "  </tbody>\n",
       "</table>\n",
       "</div>"
      ],
      "text/plain": [
       "col_0         Cantidad\n",
       "ACTOR_VIAL            \n",
       "CICLISTA      0.029195\n",
       "CONDUCTOR     0.774016\n",
       "MOTOCICLISTA  0.127761\n",
       "PASAJERO      0.069029"
      ]
     },
     "execution_count": 10,
     "metadata": {},
     "output_type": "execute_result"
    }
   ],
   "source": [
    "tf2/tf2.sum()"
   ]
  },
  {
   "cell_type": "code",
   "execution_count": 11,
   "id": "ef16a64e",
   "metadata": {},
   "outputs": [
    {
     "data": {
      "text/html": [
       "<div>\n",
       "<style scoped>\n",
       "    .dataframe tbody tr th:only-of-type {\n",
       "        vertical-align: middle;\n",
       "    }\n",
       "\n",
       "    .dataframe tbody tr th {\n",
       "        vertical-align: top;\n",
       "    }\n",
       "\n",
       "    .dataframe thead th {\n",
       "        text-align: right;\n",
       "    }\n",
       "</style>\n",
       "<table border=\"1\" class=\"dataframe\">\n",
       "  <thead>\n",
       "    <tr style=\"text-align: right;\">\n",
       "      <th></th>\n",
       "      <th>frequency</th>\n",
       "    </tr>\n",
       "    <tr>\n",
       "      <th>SEXO</th>\n",
       "      <th></th>\n",
       "    </tr>\n",
       "  </thead>\n",
       "  <tbody>\n",
       "    <tr>\n",
       "      <th>FEMENINO</th>\n",
       "      <td>48348</td>\n",
       "    </tr>\n",
       "    <tr>\n",
       "      <th>MASCULINO</th>\n",
       "      <td>304389</td>\n",
       "    </tr>\n",
       "  </tbody>\n",
       "</table>\n",
       "</div>"
      ],
      "text/plain": [
       "           frequency\n",
       "SEXO                \n",
       "FEMENINO       48348\n",
       "MASCULINO     304389"
      ]
     },
     "execution_count": 11,
     "metadata": {},
     "output_type": "execute_result"
    }
   ],
   "source": [
    "(df.groupby(\"SEXO\").agg(frequency=(\"SEXO\", \"count\")).head())"
   ]
  },
  {
   "cell_type": "markdown",
   "id": "5256df4e",
   "metadata": {},
   "source": [
    "Quitar duplicados."
   ]
  },
  {
   "cell_type": "code",
   "execution_count": 24,
   "id": "8b8af313",
   "metadata": {},
   "outputs": [],
   "source": [
    "drop_duplicates=df.drop_duplicates(subset=['CODIGO_SINIESTRO'])"
   ]
  },
  {
   "cell_type": "code",
   "execution_count": 77,
   "id": "722e4eac",
   "metadata": {
    "scrolled": true
   },
   "outputs": [],
   "source": [
    "#drop_duplicates.info()"
   ]
  },
  {
   "cell_type": "markdown",
   "id": "7182b670",
   "metadata": {},
   "source": [
    "Cantidad de accidentes por días. La tendencia es que los viernes son los días más accidentados"
   ]
  },
  {
   "cell_type": "code",
   "execution_count": 91,
   "id": "7e4f88fe",
   "metadata": {},
   "outputs": [
    {
     "data": {
      "text/html": [
       "<div>\n",
       "<style scoped>\n",
       "    .dataframe tbody tr th:only-of-type {\n",
       "        vertical-align: middle;\n",
       "    }\n",
       "\n",
       "    .dataframe tbody tr th {\n",
       "        vertical-align: top;\n",
       "    }\n",
       "\n",
       "    .dataframe thead th {\n",
       "        text-align: right;\n",
       "    }\n",
       "</style>\n",
       "<table border=\"1\" class=\"dataframe\">\n",
       "  <thead>\n",
       "    <tr style=\"text-align: right;\">\n",
       "      <th>col_0</th>\n",
       "      <th>Cantidad</th>\n",
       "    </tr>\n",
       "    <tr>\n",
       "      <th>DIA</th>\n",
       "      <th></th>\n",
       "    </tr>\n",
       "  </thead>\n",
       "  <tbody>\n",
       "    <tr>\n",
       "      <th>domingo</th>\n",
       "      <td>16912</td>\n",
       "    </tr>\n",
       "    <tr>\n",
       "      <th>jueves</th>\n",
       "      <td>25845</td>\n",
       "    </tr>\n",
       "    <tr>\n",
       "      <th>lunes</th>\n",
       "      <td>23797</td>\n",
       "    </tr>\n",
       "    <tr>\n",
       "      <th>martes</th>\n",
       "      <td>26839</td>\n",
       "    </tr>\n",
       "    <tr>\n",
       "      <th>miercoles</th>\n",
       "      <td>25936</td>\n",
       "    </tr>\n",
       "    <tr>\n",
       "      <th>sabado</th>\n",
       "      <td>26125</td>\n",
       "    </tr>\n",
       "    <tr>\n",
       "      <th>viernes</th>\n",
       "      <td>27852</td>\n",
       "    </tr>\n",
       "  </tbody>\n",
       "</table>\n",
       "</div>"
      ],
      "text/plain": [
       "col_0      Cantidad\n",
       "DIA                \n",
       "domingo       16912\n",
       "jueves        25845\n",
       "lunes         23797\n",
       "martes        26839\n",
       "miercoles     25936\n",
       "sabado        26125\n",
       "viernes       27852"
      ]
     },
     "execution_count": 91,
     "metadata": {},
     "output_type": "execute_result"
    }
   ],
   "source": [
    "tf3 = pd.crosstab(index=drop_duplicates[\"DIA\"], \n",
    "                     columns=\"Cantidad\") \n",
    "tf3"
   ]
  },
  {
   "cell_type": "code",
   "execution_count": 93,
   "id": "fecd233c",
   "metadata": {},
   "outputs": [
    {
     "data": {
      "text/plain": [
       "<AxesSubplot:xlabel='DIA'>"
      ]
     },
     "execution_count": 93,
     "metadata": {},
     "output_type": "execute_result"
    },
    {
     "data": {
      "image/png": "[encoded data removed]",
      "text/plain": [
       "<Figure size 432x288 with 1 Axes>"
      ]
     },
     "metadata": {
      "needs_background": "light"
     },
     "output_type": "display_data"
    }
   ],
   "source": [
    "tf3.plot.line(stacked=True)"
   ]
  },
  {
   "cell_type": "code",
   "execution_count": 102,
   "id": "c4d86f80",
   "metadata": {},
   "outputs": [],
   "source": [
    "start_date = \"2019-1-1\"\n",
    "end_date = \"2019-1-31\"\n",
    "after_start_date = drop_duplicates[\"FECHA\"] >= start_date\n",
    "before_end_date = drop_duplicates[\"FECHA\"] <= end_date\n",
    "between_two_dates = after_start_date & before_end_date\n",
    "filtered_dates = drop_duplicates.loc[between_two_dates]\n",
    "tf4 = pd.crosstab(index=filtered_dates[\"FECHA\"], columns=\"Cantidad\") \n"
   ]
  },
  {
   "cell_type": "code",
   "execution_count": 103,
   "id": "699930b2",
   "metadata": {},
   "outputs": [
    {
     "data": {
      "text/plain": [
       "<AxesSubplot:xlabel='FECHA'>"
      ]
     },
     "execution_count": 103,
     "metadata": {},
     "output_type": "execute_result"
    },
    {
     "data": {
      "image/png": "[encoded data removed]",
      "text/plain": [
       "<Figure size 432x288 with 1 Axes>"
      ]
     },
     "metadata": {
      "needs_background": "light"
     },
     "output_type": "display_data"
    }
   ],
   "source": [
    "tf4.plot.line(stacked=True)"
   ]
  },
  {
   "cell_type": "markdown",
   "id": "a5b01331",
   "metadata": {},
   "source": [
    "# Tablas de Frecuencias 1"
   ]
  },
  {
   "cell_type": "markdown",
   "id": "5a4f4d3f",
   "metadata": {},
   "source": [
    "Tabla de Contingencia ó Frecuencias Absolutas: Relación entre Actor_vial y genéro implicado en siniestro, obteniendo totales"
   ]
  },
  {
   "cell_type": "code",
   "execution_count": 70,
   "id": "39af8651",
   "metadata": {},
   "outputs": [
    {
     "data": {
      "text/html": [
       "<div>\n",
       "<style scoped>\n",
       "    .dataframe tbody tr th:only-of-type {\n",
       "        vertical-align: middle;\n",
       "    }\n",
       "\n",
       "    .dataframe tbody tr th {\n",
       "        vertical-align: top;\n",
       "    }\n",
       "\n",
       "    .dataframe thead th {\n",
       "        text-align: right;\n",
       "    }\n",
       "</style>\n",
       "<table border=\"1\" class=\"dataframe\">\n",
       "  <thead>\n",
       "    <tr style=\"text-align: right;\">\n",
       "      <th></th>\n",
       "      <th>CONDUCTOR</th>\n",
       "      <th>PASAJERO</th>\n",
       "      <th>CICLISTA</th>\n",
       "      <th>MOTOCICLISTA</th>\n",
       "      <th>FILA_TOTAL</th>\n",
       "    </tr>\n",
       "  </thead>\n",
       "  <tbody>\n",
       "    <tr>\n",
       "      <th>MASCULINO</th>\n",
       "      <td>1788</td>\n",
       "      <td>27229</td>\n",
       "      <td>3623</td>\n",
       "      <td>15708</td>\n",
       "      <td>48348</td>\n",
       "    </tr>\n",
       "    <tr>\n",
       "      <th>FEMENINO</th>\n",
       "      <td>8510</td>\n",
       "      <td>245795</td>\n",
       "      <td>41443</td>\n",
       "      <td>8641</td>\n",
       "      <td>304389</td>\n",
       "    </tr>\n",
       "    <tr>\n",
       "      <th>COL_TOTAL</th>\n",
       "      <td>10298</td>\n",
       "      <td>273024</td>\n",
       "      <td>45066</td>\n",
       "      <td>24349</td>\n",
       "      <td>352737</td>\n",
       "    </tr>\n",
       "  </tbody>\n",
       "</table>\n",
       "</div>"
      ],
      "text/plain": [
       "           CONDUCTOR  PASAJERO  CICLISTA  MOTOCICLISTA  FILA_TOTAL\n",
       "MASCULINO       1788     27229      3623         15708       48348\n",
       "FEMENINO        8510    245795     41443          8641      304389\n",
       "COL_TOTAL      10298    273024     45066         24349      352737"
      ]
     },
     "execution_count": 70,
     "metadata": {},
     "output_type": "execute_result"
    }
   ],
   "source": [
    "#Formart to percentage\n",
    "format_dict = {'CONDUCTOR': '{:.2%}','PASAJERO': '{:.2%}','CICLISTA': '{:.2%}','MOTOCICLISTA': '{:.2%}','FILA_TOTAL': '{:.2%}'}\n",
    "genero_actor = pd.crosstab(index=df[\"SEXO\"], \n",
    "                           columns=df[\"ACTOR_VIAL\"],margins=True)\n",
    "genero_actor.columns = [\"CONDUCTOR\",\"PASAJERO\",\"CICLISTA\",\"MOTOCICLISTA\",\"FILA_TOTAL\"]\n",
    "genero_actor.index= [\"MASCULINO\",\"FEMENINO\",\"COL_TOTAL\"]\n",
    "genero_actor"
   ]
  },
  {
   "cell_type": "markdown",
   "id": "b72396a5",
   "metadata": {},
   "source": [
    "Tabla de frecuencias Relativas: Relación entre Actor_vial y genéro implicado en sinisetro (En porcentaje), El 77.40% de los implicados en accidentes, son mujeres pasajeros de algún servicio público."
   ]
  },
  {
   "cell_type": "code",
   "execution_count": 71,
   "id": "1a2df517",
   "metadata": {},
   "outputs": [
    {
     "data": {
      "text/html": [
       "<style  type=\"text/css\" >\n",
       "</style><table id=\"T_2f065_\" ><thead>    <tr>        <th class=\"blank level0\" ></th>        <th class=\"col_heading level0 col0\" >CONDUCTOR</th>        <th class=\"col_heading level0 col1\" >PASAJERO</th>        <th class=\"col_heading level0 col2\" >CICLISTA</th>        <th class=\"col_heading level0 col3\" >MOTOCICLISTA</th>        <th class=\"col_heading level0 col4\" >FILA_TOTAL</th>    </tr></thead><tbody>\n",
       "                <tr>\n",
       "                        <th id=\"T_2f065_level0_row0\" class=\"row_heading level0 row0\" >MASCULINO</th>\n",
       "                        <td id=\"T_2f065_row0_col0\" class=\"data row0 col0\" >0.51%</td>\n",
       "                        <td id=\"T_2f065_row0_col1\" class=\"data row0 col1\" >7.72%</td>\n",
       "                        <td id=\"T_2f065_row0_col2\" class=\"data row0 col2\" >1.03%</td>\n",
       "                        <td id=\"T_2f065_row0_col3\" class=\"data row0 col3\" >4.45%</td>\n",
       "                        <td id=\"T_2f065_row0_col4\" class=\"data row0 col4\" >13.71%</td>\n",
       "            </tr>\n",
       "            <tr>\n",
       "                        <th id=\"T_2f065_level0_row1\" class=\"row_heading level0 row1\" >FEMENINO</th>\n",
       "                        <td id=\"T_2f065_row1_col0\" class=\"data row1 col0\" >2.41%</td>\n",
       "                        <td id=\"T_2f065_row1_col1\" class=\"data row1 col1\" >69.68%</td>\n",
       "                        <td id=\"T_2f065_row1_col2\" class=\"data row1 col2\" >11.75%</td>\n",
       "                        <td id=\"T_2f065_row1_col3\" class=\"data row1 col3\" >2.45%</td>\n",
       "                        <td id=\"T_2f065_row1_col4\" class=\"data row1 col4\" >86.29%</td>\n",
       "            </tr>\n",
       "            <tr>\n",
       "                        <th id=\"T_2f065_level0_row2\" class=\"row_heading level0 row2\" >COL_TOTAL</th>\n",
       "                        <td id=\"T_2f065_row2_col0\" class=\"data row2 col0\" >2.92%</td>\n",
       "                        <td id=\"T_2f065_row2_col1\" class=\"data row2 col1\" >77.40%</td>\n",
       "                        <td id=\"T_2f065_row2_col2\" class=\"data row2 col2\" >12.78%</td>\n",
       "                        <td id=\"T_2f065_row2_col3\" class=\"data row2 col3\" >6.90%</td>\n",
       "                        <td id=\"T_2f065_row2_col4\" class=\"data row2 col4\" >100.00%</td>\n",
       "            </tr>\n",
       "    </tbody></table>"
      ],
      "text/plain": [
       "<pandas.io.formats.style.Styler at 0x7f9df1adaf40>"
      ]
     },
     "execution_count": 71,
     "metadata": {},
     "output_type": "execute_result"
    }
   ],
   "source": [
    "tabla_relativa=genero_actor/genero_actor.loc[\"COL_TOTAL\",\"FILA_TOTAL\"]\n",
    "tabla_relativa.style.format(format_dict)"
   ]
  },
  {
   "cell_type": "markdown",
   "id": "696828f5",
   "metadata": {},
   "source": [
    "Frecuencias Condicionadas(Proporciones) por columnas(Cada valor/total de la condicion de la columna). Ejemplo: Entre el año 2015 al 2019 de los conductores de automóviles implicados en accidentes, el 82.64% son mujeres. "
   ]
  },
  {
   "cell_type": "code",
   "execution_count": 72,
   "id": "b5d65630",
   "metadata": {},
   "outputs": [
    {
     "data": {
      "text/html": [
       "<style  type=\"text/css\" >\n",
       "</style><table id=\"T_8dd4e_\" ><thead>    <tr>        <th class=\"blank level0\" ></th>        <th class=\"col_heading level0 col0\" >CONDUCTOR</th>        <th class=\"col_heading level0 col1\" >PASAJERO</th>        <th class=\"col_heading level0 col2\" >CICLISTA</th>        <th class=\"col_heading level0 col3\" >MOTOCICLISTA</th>    </tr></thead><tbody>\n",
       "                <tr>\n",
       "                        <th id=\"T_8dd4e_level0_row0\" class=\"row_heading level0 row0\" >MASCULINO</th>\n",
       "                        <td id=\"T_8dd4e_row0_col0\" class=\"data row0 col0\" >17.36%</td>\n",
       "                        <td id=\"T_8dd4e_row0_col1\" class=\"data row0 col1\" >9.97%</td>\n",
       "                        <td id=\"T_8dd4e_row0_col2\" class=\"data row0 col2\" >8.04%</td>\n",
       "                        <td id=\"T_8dd4e_row0_col3\" class=\"data row0 col3\" >64.51%</td>\n",
       "            </tr>\n",
       "            <tr>\n",
       "                        <th id=\"T_8dd4e_level0_row1\" class=\"row_heading level0 row1\" >FEMENINO</th>\n",
       "                        <td id=\"T_8dd4e_row1_col0\" class=\"data row1 col0\" >82.64%</td>\n",
       "                        <td id=\"T_8dd4e_row1_col1\" class=\"data row1 col1\" >90.03%</td>\n",
       "                        <td id=\"T_8dd4e_row1_col2\" class=\"data row1 col2\" >91.96%</td>\n",
       "                        <td id=\"T_8dd4e_row1_col3\" class=\"data row1 col3\" >35.49%</td>\n",
       "            </tr>\n",
       "            <tr>\n",
       "                        <th id=\"T_8dd4e_level0_row2\" class=\"row_heading level0 row2\" >COL_TOTAL</th>\n",
       "                        <td id=\"T_8dd4e_row2_col0\" class=\"data row2 col0\" >100.00%</td>\n",
       "                        <td id=\"T_8dd4e_row2_col1\" class=\"data row2 col1\" >100.00%</td>\n",
       "                        <td id=\"T_8dd4e_row2_col2\" class=\"data row2 col2\" >100.00%</td>\n",
       "                        <td id=\"T_8dd4e_row2_col3\" class=\"data row2 col3\" >100.00%</td>\n",
       "            </tr>\n",
       "    </tbody></table>"
      ],
      "text/plain": [
       "<pandas.io.formats.style.Styler at 0x7f9df1ae18e0>"
      ]
     },
     "execution_count": 72,
     "metadata": {},
     "output_type": "execute_result"
    }
   ],
   "source": [
    "condicionada1=genero_actor/genero_actor.loc[\"COL_TOTAL\"]\n",
    "condicionada1[[\"CONDUCTOR\",\"PASAJERO\",\"CICLISTA\",\"MOTOCICLISTA\"]].style.format(format_dict)"
   ]
  },
  {
   "cell_type": "markdown",
   "id": "da3e2bd8",
   "metadata": {},
   "source": [
    "Frecuencias Condicionadas(Proporciones) por Filas(Cada valor/total de la condicion de la fila). Ejemplo: Del 2015 al 2019 de los siniestros de tránsito en Bogotá, de la población masculina el 32.49% de los accidentados fueron motociclistas."
   ]
  },
  {
   "cell_type": "code",
   "execution_count": 76,
   "id": "9009d708",
   "metadata": {},
   "outputs": [
    {
     "data": {
      "text/html": [
       "<style  type=\"text/css\" >\n",
       "</style><table id=\"T_ac138_\" ><thead>    <tr>        <th class=\"blank level0\" ></th>        <th class=\"col_heading level0 col0\" >CONDUCTOR</th>        <th class=\"col_heading level0 col1\" >PASAJERO</th>        <th class=\"col_heading level0 col2\" >CICLISTA</th>        <th class=\"col_heading level0 col3\" >MOTOCICLISTA</th>        <th class=\"col_heading level0 col4\" >FILA_TOTAL</th>    </tr></thead><tbody>\n",
       "                <tr>\n",
       "                        <th id=\"T_ac138_level0_row0\" class=\"row_heading level0 row0\" >MASCULINO</th>\n",
       "                        <td id=\"T_ac138_row0_col0\" class=\"data row0 col0\" >3.70%</td>\n",
       "                        <td id=\"T_ac138_row0_col1\" class=\"data row0 col1\" >56.32%</td>\n",
       "                        <td id=\"T_ac138_row0_col2\" class=\"data row0 col2\" >7.49%</td>\n",
       "                        <td id=\"T_ac138_row0_col3\" class=\"data row0 col3\" >32.49%</td>\n",
       "                        <td id=\"T_ac138_row0_col4\" class=\"data row0 col4\" >100.00%</td>\n",
       "            </tr>\n",
       "            <tr>\n",
       "                        <th id=\"T_ac138_level0_row1\" class=\"row_heading level0 row1\" >FEMENINO</th>\n",
       "                        <td id=\"T_ac138_row1_col0\" class=\"data row1 col0\" >2.80%</td>\n",
       "                        <td id=\"T_ac138_row1_col1\" class=\"data row1 col1\" >80.75%</td>\n",
       "                        <td id=\"T_ac138_row1_col2\" class=\"data row1 col2\" >13.62%</td>\n",
       "                        <td id=\"T_ac138_row1_col3\" class=\"data row1 col3\" >2.84%</td>\n",
       "                        <td id=\"T_ac138_row1_col4\" class=\"data row1 col4\" >100.00%</td>\n",
       "            </tr>\n",
       "    </tbody></table>"
      ],
      "text/plain": [
       "<pandas.io.formats.style.Styler at 0x7f9df19ea0d0>"
      ]
     },
     "execution_count": 76,
     "metadata": {},
     "output_type": "execute_result"
    }
   ],
   "source": [
    "condicionada2=genero_actor.div(genero_actor[\"FILA_TOTAL\"],\n",
    "                   axis=0)\n",
    "condicionada2.loc[[\"MASCULINO\",\"FEMENINO\"]].style.format(format_dict)"
   ]
  },
  {
   "cell_type": "code",
   "execution_count": null,
   "id": "29ef8b14",
   "metadata": {},
   "outputs": [],
   "source": []
  }
 ],
 "metadata": {
  "kernelspec": {
   "display_name": "Python 3",
   "language": "python",
   "name": "python3"
  },
  "language_info": {
   "codemirror_mode": {
    "name": "ipython",
    "version": 3
   },
   "file_extension": ".py",
   "mimetype": "text/x-python",
   "name": "python",
   "nbconvert_exporter": "python",
   "pygments_lexer": "ipython3",
   "version": "3.8.9"
  }
 },
 "nbformat": 4,
 "nbformat_minor": 5
}
